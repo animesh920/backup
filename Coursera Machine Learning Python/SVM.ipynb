{
 "cells": [
  {
   "cell_type": "code",
   "execution_count": 1,
   "metadata": {
    "collapsed": true
   },
   "outputs": [],
   "source": [
    "import numpy as np\n",
    "from matplotlib import pyplot as plt"
   ]
  },
  {
   "cell_type": "code",
   "execution_count": 2,
   "metadata": {
    "collapsed": false
   },
   "outputs": [
    {
     "data": {
      "text/plain": [
       "0.32465246735834974"
      ]
     },
     "execution_count": 2,
     "metadata": {},
     "output_type": "execute_result"
    }
   ],
   "source": [
    "def gaussianKernel(x1,x2,sigma):\n",
    "    numerator=-1.0*np.sum((x1-x2)**2.0)\n",
    "    denominator=2*sigma**2\n",
    "    \n",
    "    return np.exp(numerator/denominator)\n",
    "\n",
    "x1=np.array([1,2,1])\n",
    "x2=np.array([0,4,-1])\n",
    "sigma=2\n",
    "gaussianKernel(x1,x2,sigma)\n",
    "    "
   ]
  },
  {
   "cell_type": "code",
   "execution_count": 3,
   "metadata": {
    "collapsed": false
   },
   "outputs": [],
   "source": [
    "import scipy.io\n",
    "data=scipy.io.loadmat('ex6data3.mat')\n",
    "X=data['X']\n",
    "y=data['y']\n",
    "Xval=data['Xval']\n",
    "yval=data['yval']\n"
   ]
  },
  {
   "cell_type": "code",
   "execution_count": 14,
   "metadata": {
    "collapsed": false
   },
   "outputs": [
    {
     "name": "stdout",
     "output_type": "stream",
     "text": [
      "('tuning hyperparameter is', 'precision')\n",
      "Best parameters set found on development set:\n",
      "{'kernel': 'rbf', 'C': 1000, 'gamma': 1.0}\n",
      "('tuning hyperparameter is', 'recall')\n",
      "Best parameters set found on development set:\n",
      "{'kernel': 'rbf', 'C': 10, 'gamma': 4.6415888336127784}\n"
     ]
    }
   ],
   "source": [
    "#doing a grid search for fining the optimal grid parameter\n",
    "from sklearn.grid_search import GridSearchCV\n",
    "from sklearn.svm import SVC\n",
    "from sklearn.metrics import classification_report\n",
    "\n",
    "def grid_search(X,y):\n",
    "    tuning_param=[{'kernel':['rbf'],'C':[1, 10, 100, 1000],'gamma':np.logspace(0,2,10)},{'kernel':['linear'],'C': [1, 10, 100, 1000]}]\n",
    "    \n",
    "    scores=['precision','recall']\n",
    "    \n",
    "    for score in scores:\n",
    "        print(\"tuning hyperparameter is\",score)\n",
    "        clf=GridSearchCV(SVC(C=1),tuning_param,cv=5,scoring=score)\n",
    "        clf.fit(X,y)\n",
    "        \n",
    "        print(\"Best parameters set found on development set:\")\n",
    "        print(clf.best_params_)\n",
    "    \n",
    "    \n",
    "#converting y to a 1D array so that it can be passed on to the numpy functions\n",
    "y1=np.squeeze(np.asarray(y))\n",
    "y1.shape    \n",
    "    \n",
    "grid_search(X,y1) \n",
    "\n",
    "\n",
    "'''for numpy to work correctly the the output y must be a 1D array ie shape of y should be (a,) earlier i was passing\n",
    "y as a 2D array ie in the shape of (a,1) then the algo was not working. Note X can be a 2D array ie shape of X can be\n",
    "(a,b)\n",
    "'''\n",
    "    \n",
    "    "
   ]
  },
  {
   "cell_type": "code",
   "execution_count": 13,
   "metadata": {
    "collapsed": false
   },
   "outputs": [
    {
     "data": {
      "text/plain": [
       "array([1, 1, 1, 1, 1, 1, 1, 1, 1, 1, 1, 1, 1, 1, 1, 1, 1, 1, 1, 1, 0, 0, 0,\n",
       "       0, 0, 0, 0, 0, 0, 0, 0, 0, 0, 0, 0, 0, 0, 0, 0, 1, 1, 0, 0, 0, 1, 1,\n",
       "       0, 0, 0, 0, 0, 0, 0, 0, 0, 0, 0, 0, 0, 0, 0, 0, 0, 0, 0, 0, 0, 0, 0,\n",
       "       0, 0, 0, 0, 0, 0, 0, 0, 0, 0, 0, 0, 1, 1, 1, 1, 1, 1, 1, 1, 1, 1, 1,\n",
       "       1, 1, 1, 1, 1, 1, 1, 1, 1, 1, 1, 1, 1, 1, 1, 1, 1, 1, 1, 1, 1, 1, 1,\n",
       "       1, 0, 0, 0, 0, 0, 1, 1, 1, 1, 1, 1, 1, 1, 1, 1, 1, 1, 1, 1, 1, 1, 1,\n",
       "       1, 1, 1, 1, 1, 1, 1, 1, 1, 1, 1, 1, 1, 0, 0, 0, 0, 0, 0, 0, 0, 0, 0,\n",
       "       0, 0, 1, 1, 1, 1, 0, 0, 0, 0, 0, 0, 0, 0, 0, 0, 0, 0, 0, 1, 0, 0, 0,\n",
       "       0, 0, 0, 0, 0, 0, 1, 1, 1, 1, 1, 1, 1, 1, 1, 1, 1, 1, 1, 0, 0, 0, 0,\n",
       "       0, 1, 1, 1], dtype=uint8)"
      ]
     },
     "execution_count": 13,
     "metadata": {},
     "output_type": "execute_result"
    }
   ],
   "source": [
    "tuning_param=[{'kernel':['rbf'],'C':[1, 10, 100, 1000],'gamma':np.logspace(0,2,10)},{'kernel':['linear'],'C': [1, 10, 100, 1000]}]\n",
    "#clf=GridSearchCV(SVC(C=1),tuning_param,cv=5,scoring='precision')\n",
    "clf=SVC(C=1)\n",
    "\n",
    "clf.fit(X,y1)\n",
    "clf.predict(X)"
   ]
  },
  {
   "cell_type": "code",
   "execution_count": null,
   "metadata": {
    "collapsed": true
   },
   "outputs": [],
   "source": [
    "#SVM part 2 of the assignment\n"
   ]
  }
 ],
 "metadata": {
  "kernelspec": {
   "display_name": "Python 2",
   "language": "python",
   "name": "python2"
  },
  "language_info": {
   "codemirror_mode": {
    "name": "ipython",
    "version": 2
   },
   "file_extension": ".py",
   "mimetype": "text/x-python",
   "name": "python",
   "nbconvert_exporter": "python",
   "pygments_lexer": "ipython2",
   "version": "2.7.9"
  }
 },
 "nbformat": 4,
 "nbformat_minor": 0
}
