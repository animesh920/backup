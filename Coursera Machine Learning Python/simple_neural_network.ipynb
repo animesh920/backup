{
 "cells": [
  {
   "cell_type": "code",
   "execution_count": 6,
   "metadata": {
    "collapsed": false
   },
   "outputs": [],
   "source": [
    "import numpy as np\n",
    "\n",
    "\n",
    "#the neural network architecture has one input layer and output layer there is no hidden layer in between\n",
    "\n",
    "\n",
    "def sigmoid(x,deriv=False):\n",
    "    \n",
    "    if deriv==True:\n",
    "        return x*(1-x)\n",
    "    return 1./(1+np.exp(-x))\n",
    "\n",
    "\n",
    "#input dataset\n",
    "X=np.array([[0,0,1],[0,1,1],[1,0,1],[1,1,1]])\n",
    "\n",
    "#output dataset\n",
    "\n",
    "y = np.array([[0,0,1,1]]).T\n"
   ]
  },
  {
   "cell_type": "code",
   "execution_count": 8,
   "metadata": {
    "collapsed": false
   },
   "outputs": [
    {
     "name": "stdout",
     "output_type": "stream",
     "text": [
      "output after training\n",
      "[[ 0.00966449]\n",
      " [ 0.00786506]\n",
      " [ 0.99358898]\n",
      " [ 0.99211957]]\n"
     ]
    }
   ],
   "source": [
    "np.random.seed(1)\n",
    "\n",
    "#intitalizing the weights of the first layer\n",
    "\n",
    "syn0=2*np.random.random((3,1))-1\n",
    "\n",
    "for iter in xrange(10000):\n",
    "    #forward propogation \n",
    "    \n",
    "    l0=X    #this is the input layer. input layer is taken as X\n",
    "    \n",
    "    l1=sigmoid(np.dot(l0,syn0))    #here i am taking the dot product of x and w  and passing it in the sigmoid function\n",
    "    \n",
    "    \n",
    "    #how much error did i have?\n",
    "    \n",
    "    l1_error=y-l1\n",
    "    \n",
    "    # multiply how much we missed by the\n",
    "    # slope of the sigmoid at the values in l1\n",
    "    \n",
    "    l1_delta=l1_error*sigmoid(l1,True)\n",
    "    #l1_delta=-1*sigmoid(l1,True)\n",
    "    \n",
    "    #update the weights\n",
    "    \n",
    "    syn0=syn0+np.dot(l0.T,l1_delta)\n",
    "    \n",
    "print \"output after training\"\n",
    "print l1\n",
    "    "
   ]
  },
  {
   "cell_type": "code",
   "execution_count": null,
   "metadata": {
    "collapsed": true
   },
   "outputs": [],
   "source": []
  }
 ],
 "metadata": {
  "kernelspec": {
   "display_name": "Python 2",
   "language": "python",
   "name": "python2"
  },
  "language_info": {
   "codemirror_mode": {
    "name": "ipython",
    "version": 2
   },
   "file_extension": ".py",
   "mimetype": "text/x-python",
   "name": "python",
   "nbconvert_exporter": "python",
   "pygments_lexer": "ipython2",
   "version": "2.7.9"
  }
 },
 "nbformat": 4,
 "nbformat_minor": 0
}
