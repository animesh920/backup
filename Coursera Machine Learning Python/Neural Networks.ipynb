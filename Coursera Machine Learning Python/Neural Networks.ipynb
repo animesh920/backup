{
 "cells": [
  {
   "cell_type": "code",
   "execution_count": 2,
   "metadata": {
    "collapsed": true
   },
   "outputs": [],
   "source": [
    "import numpy as np\n",
    "%matplotlib inline\n",
    "import matplotlib.pyplot as plt\n",
    "import scipy.io"
   ]
  },
  {
   "cell_type": "code",
   "execution_count": 3,
   "metadata": {
    "collapsed": true
   },
   "outputs": [],
   "source": [
    "mat=scipy.io.loadmat('ex3data1.mat')\n",
    "X=mat['X']\n",
    "y=mat['y']\n",
    "\n",
    "#adding an extra column of 1's to the X\n",
    "m,n=X.shape\n",
    "X=np.hstack((np.ones((5000,1)),X))\n"
   ]
  },
  {
   "cell_type": "code",
   "execution_count": 4,
   "metadata": {
    "collapsed": false
   },
   "outputs": [
    {
     "data": {
      "text/plain": [
       "0.5"
      ]
     },
     "execution_count": 4,
     "metadata": {},
     "output_type": "execute_result"
    }
   ],
   "source": [
    "def sigmoid(z):\n",
    "    return 1./(1+np.exp(-z))\n",
    "\n",
    "sigmoid(0)"
   ]
  },
  {
   "cell_type": "code",
   "execution_count": 5,
   "metadata": {
    "collapsed": false
   },
   "outputs": [
    {
     "ename": "NameError",
     "evalue": "name 'y_1' is not defined",
     "output_type": "error",
     "traceback": [
      "\u001b[0;31m---------------------------------------------------------------------------\u001b[0m",
      "\u001b[0;31mNameError\u001b[0m                                 Traceback (most recent call last)",
      "\u001b[0;32m<ipython-input-5-7ab5d83974c6>\u001b[0m in \u001b[0;36m<module>\u001b[0;34m()\u001b[0m\n\u001b[1;32m     83\u001b[0m \u001b[0;34m\u001b[0m\u001b[0m\n\u001b[1;32m     84\u001b[0m \u001b[0minit_theta\u001b[0m\u001b[0;34m=\u001b[0m\u001b[0mnp\u001b[0m\u001b[0;34m.\u001b[0m\u001b[0mzeros\u001b[0m\u001b[0;34m(\u001b[0m\u001b[0;36m401\u001b[0m\u001b[0;34m)\u001b[0m\u001b[0;34m\u001b[0m\u001b[0m\n\u001b[0;32m---> 85\u001b[0;31m \u001b[0mfindMinTheta\u001b[0m\u001b[0;34m(\u001b[0m\u001b[0minit_theta\u001b[0m\u001b[0;34m,\u001b[0m\u001b[0mX\u001b[0m\u001b[0;34m,\u001b[0m\u001b[0my_1\u001b[0m\u001b[0;34m)\u001b[0m\u001b[0;34m\u001b[0m\u001b[0m\n\u001b[0m\u001b[1;32m     86\u001b[0m \u001b[0;34m\u001b[0m\u001b[0m\n\u001b[1;32m     87\u001b[0m \u001b[0;34m\u001b[0m\u001b[0m\n",
      "\u001b[0;31mNameError\u001b[0m: name 'y_1' is not defined"
     ]
    }
   ],
   "source": [
    "#so in this exercise first a one vs all logit regression will be implemented and then nueral network. The task is to\n",
    "#find the correct classification of the hand written digits of the MNIST dataset.\n",
    "\n",
    "from scipy.optimize import fmin\n",
    "\n",
    "\n",
    "\n",
    "def costFunction_logistic(theta,X,y,lmbda=0):\n",
    "    '''\n",
    "    theta is (n+1,)\n",
    "    X is m x n+1\n",
    "    y is m x 1\n",
    "    '''\n",
    "    theta=theta.reshape((n+1,1))\n",
    "    hx=sigmoid(np.dot(X,theta))\n",
    "    cost= np.mean((-y*log(hx))-((1-y)*log(1-hx)))\n",
    "    reg_term=(lmbda/2*m)*np.sum(np.square(theta[1:]))\n",
    "    return cost+np.sum(reg_term)\n",
    "\n",
    "def gradient_losgistic(theta,X,y,lmbda=0):\n",
    "    '''\n",
    "    theta is (n+1,)\n",
    "    X is m x n+1\n",
    "    y is m x 1\n",
    "    '''\n",
    "    theta=theta.reshape((n+1,1))\n",
    "    hx=sigmoid(np.dot(X,theta))\n",
    "    \n",
    "    grad=np.dot(X.T,(hx-y))\n",
    "    grad=grad/m\n",
    "    \n",
    "    #adding the regularization term\n",
    "    \n",
    "    theta[0]=0\n",
    "    reg_term=(lmbda/m)*theta\n",
    "    \n",
    "    grad=grad+reg_term\n",
    "    \n",
    "    grad=grad[:,0]   # i am converting the grad in a ndarray because the fmin_cg wants the fprime to be in 1d array\n",
    "    return grad\n",
    "\n",
    "\n",
    "def one_vs_all(X,y):\n",
    "    dictionary_of_classfiers={}\n",
    "    init_theta=np.zeros(n+1)\n",
    "    for i in range(1,11):\n",
    "        print i\n",
    "        y_final=(y==i)+0   # 0 added to force the implicit type conversion of boolean to a integer array\n",
    "        final_theta=findMinTheta(init_theta,X,y_final)\n",
    "        dictionary_of_classfiers['1']=final_theta\n",
    "    return dictionary_of_classfiers\n",
    "        \n",
    "    \n",
    "\n",
    "\n",
    "def findMinTheta(init_theta,X,y,lmbda=0):\n",
    "    final_theta=scipy.optimize.fmin_cg(costFunction_logistic,fprime=gradient_losgistic,x0=init_theta,args=(X,y_1,lmbda),maxiter=500)\n",
    "    return final_theta\n",
    "    \n",
    "\n",
    "#one_vs_all(X,y)\n",
    "\n",
    "\n",
    "# def predict(X):\n",
    "#     ''' here X is m x n+1\n",
    "#     '''\n",
    "#     dictionary_of_classfiers=one_vs_all(X=X,y=y)\n",
    "    \n",
    "#     for elem in X:\n",
    "#         max=-1\n",
    "#         prediction=''\n",
    "#         for key in dictionary_of_classfiers.keys():\n",
    "#             classifier=dictionary_of_classfiers[key]\n",
    "            \n",
    "#             classifier=classifier.reshape((401,1))\n",
    "            \n",
    "#             py_1=sigmoid(np.dot(X,classifier))\n",
    "#             if py_1>max:\n",
    "#                 max=py_1\n",
    "#                 prediction=key\n",
    "#         print prediction\n",
    "    \n",
    "            \n",
    "init_theta=np.zeros(401)    \n",
    "findMinTheta(init_theta,X,y_1)\n",
    "\n",
    "\n",
    "    "
   ]
  },
  {
   "cell_type": "code",
   "execution_count": 151,
   "metadata": {
    "collapsed": false
   },
   "outputs": [],
   "source": [
    "# y_1=(y==1)+0\n",
    "# init_theta=np.zeros((n+1,1)).reshape(-1)\n",
    "# costFunction_logistic(init_theta,X,y_1)\n",
    "#gradient_losgistic(init_theta,X,y_1)\n",
    "\n",
    "\n",
    "\n",
    "# array.reshape(-1) converts a matrix or a 1d array in an ndarray  ie in the form of (a,)\n",
    "\n",
    "\n",
    "#when i am usnig the optim function then theta is an ndaray read the doc of the function\n",
    "\n",
    "#in all the function i am implicilty converying theta from ndarry to 1D matrix\n",
    "\n",
    "\n",
    "#for vector product use  *  when mulutplying two matrices\n",
    "#for matrix product use np.dot() for multiplying the two matrices\n",
    "\n",
    "\n",
    "#np.hstack for cbind for 2D matrix and 2D matrix. np.vstack for rbind\n"
   ]
  },
  {
   "cell_type": "code",
   "execution_count": 161,
   "metadata": {
    "collapsed": false
   },
   "outputs": [
    {
     "name": "stdout",
     "output_type": "stream",
     "text": [
      "['Theta2', '__version__', '__header__', 'Theta1', '__globals__']\n"
     ]
    }
   ],
   "source": [
    "weights=scipy.io.loadmat('ex3weights.mat')\n",
    "print weights.keys()\n",
    "theta1=weights['Theta1']\n",
    "theta2=weights['Theta2']"
   ]
  },
  {
   "cell_type": "code",
   "execution_count": 188,
   "metadata": {
    "collapsed": true
   },
   "outputs": [],
   "source": [
    "#the function takes a list of neural network weights and propogates it forward to generate the output of the neural net\n",
    "\n",
    "def feedforward(X,theta,num_layers):\n",
    "    output=X\n",
    "    for i in range(num_layers-1):\n",
    "        output=sigmoid(np.dot(output,theta[i].T))\n",
    "        #adding an extra bias term to the activations\n",
    "        output=np.hstack((np.ones((5000,1)),output))\n",
    "    output=output[:,1:] #bias term is not added in the output for the final layer hence removing the bias term\n",
    "    return output\n"
   ]
  },
  {
   "cell_type": "code",
   "execution_count": null,
   "metadata": {
    "collapsed": true
   },
   "outputs": [],
   "source": []
  }
 ],
 "metadata": {
  "kernelspec": {
   "display_name": "Python 2",
   "language": "python",
   "name": "python2"
  },
  "language_info": {
   "codemirror_mode": {
    "name": "ipython",
    "version": 2
   },
   "file_extension": ".py",
   "mimetype": "text/x-python",
   "name": "python",
   "nbconvert_exporter": "python",
   "pygments_lexer": "ipython2",
   "version": "2.7.9"
  }
 },
 "nbformat": 4,
 "nbformat_minor": 0
}
