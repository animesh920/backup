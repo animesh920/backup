{
 "cells": [
  {
   "cell_type": "code",
   "execution_count": 2,
   "metadata": {
    "collapsed": true
   },
   "outputs": [],
   "source": [
    "import numpy as np\n",
    "%matplotlib inline\n",
    "import matplotlib.pyplot as plt"
   ]
  },
  {
   "cell_type": "code",
   "execution_count": 75,
   "metadata": {
    "collapsed": false
   },
   "outputs": [],
   "source": [
    "data=np.loadtxt(\"ex2data1.txt\",delimiter=\",\")\n",
    "X=data[:,[0,1]]\n",
    "y=data[:,2]\n",
    "y=y.reshape((100,1))"
   ]
  },
  {
   "cell_type": "code",
   "execution_count": 76,
   "metadata": {
    "collapsed": false
   },
   "outputs": [
    {
     "data": {
      "text/plain": [
       "<matplotlib.collections.PathCollection at 0x106f75b50>"
      ]
     },
     "execution_count": 76,
     "metadata": {},
     "output_type": "execute_result"
    },
    {
     "data": {
      "image/png": "[encoded data removed]",
      "text/plain": [
       "<matplotlib.figure.Figure at 0x106ef5690>"
      ]
     },
     "metadata": {},
     "output_type": "display_data"
    }
   ],
   "source": [
    "#plotting the data\n",
    "\n",
    "plt.scatter(X[:,0],X[:,1],c=y,marker=\"+\")"
   ]
  },
  {
   "cell_type": "code",
   "execution_count": 77,
   "metadata": {
    "collapsed": false
   },
   "outputs": [
    {
     "name": "stdout",
     "output_type": "stream",
     "text": [
      "[  4.539787e-05   5.000000e-01   9.999546e-01]\n"
     ]
    }
   ],
   "source": [
    "def sigmoid(z):\n",
    "    final=1./(1+np.exp(-z))\n",
    "    return final\n",
    "\n",
    "print sigmoid(np.array([-10,0,10]))"
   ]
  },
  {
   "cell_type": "code",
   "execution_count": 3,
   "metadata": {
    "collapsed": false
   },
   "outputs": [
    {
     "ename": "NameError",
     "evalue": "global name 'sigmoid' is not defined",
     "output_type": "error",
     "traceback": [
      "\u001b[0;31m---------------------------------------------------------------------------\u001b[0m",
      "\u001b[0;31mNameError\u001b[0m                                 Traceback (most recent call last)",
      "\u001b[0;32m<ipython-input-3-2370aa2b0e3e>\u001b[0m in \u001b[0;36m<module>\u001b[0;34m()\u001b[0m\n\u001b[1;32m     46\u001b[0m \u001b[0;34m\u001b[0m\u001b[0m\n\u001b[1;32m     47\u001b[0m \u001b[0;34m\u001b[0m\u001b[0m\n\u001b[0;32m---> 48\u001b[0;31m \u001b[0;32mprint\u001b[0m \u001b[0mcostFunction\u001b[0m\u001b[0;34m(\u001b[0m\u001b[0minit_theta\u001b[0m\u001b[0;34m,\u001b[0m\u001b[0mX\u001b[0m\u001b[0;34m,\u001b[0m\u001b[0my\u001b[0m\u001b[0;34m)\u001b[0m\u001b[0;34m\u001b[0m\u001b[0m\n\u001b[0m\u001b[1;32m     49\u001b[0m \u001b[0;34m\u001b[0m\u001b[0m\n\u001b[1;32m     50\u001b[0m \u001b[0;32mprint\u001b[0m \u001b[0minit_theta\u001b[0m\u001b[0;34m.\u001b[0m\u001b[0mshape\u001b[0m\u001b[0;34m\u001b[0m\u001b[0m\n",
      "\u001b[0;32m<ipython-input-3-2370aa2b0e3e>\u001b[0m in \u001b[0;36mcostFunction\u001b[0;34m(theta, X, y, lmbda)\u001b[0m\n\u001b[1;32m     30\u001b[0m     \u001b[0mtheta\u001b[0m\u001b[0;34m=\u001b[0m\u001b[0mtheta\u001b[0m\u001b[0;34m.\u001b[0m\u001b[0mreshape\u001b[0m\u001b[0;34m(\u001b[0m\u001b[0;34m(\u001b[0m\u001b[0;36m3\u001b[0m\u001b[0;34m,\u001b[0m\u001b[0;36m1\u001b[0m\u001b[0;34m)\u001b[0m\u001b[0;34m)\u001b[0m\u001b[0;34m\u001b[0m\u001b[0m\n\u001b[1;32m     31\u001b[0m     \u001b[0mhx\u001b[0m\u001b[0;34m=\u001b[0m\u001b[0mnp\u001b[0m\u001b[0;34m.\u001b[0m\u001b[0mdot\u001b[0m\u001b[0;34m(\u001b[0m\u001b[0mX\u001b[0m\u001b[0;34m,\u001b[0m\u001b[0mtheta\u001b[0m\u001b[0;34m)\u001b[0m\u001b[0;34m\u001b[0m\u001b[0m\n\u001b[0;32m---> 32\u001b[0;31m     \u001b[0mhx\u001b[0m\u001b[0;34m=\u001b[0m\u001b[0msigmoid\u001b[0m\u001b[0;34m(\u001b[0m\u001b[0mhx\u001b[0m\u001b[0;34m)\u001b[0m\u001b[0;34m\u001b[0m\u001b[0m\n\u001b[0m\u001b[1;32m     33\u001b[0m     \u001b[0mcost\u001b[0m\u001b[0;34m=\u001b[0m\u001b[0mnp\u001b[0m\u001b[0;34m.\u001b[0m\u001b[0msum\u001b[0m\u001b[0;34m(\u001b[0m\u001b[0;34m(\u001b[0m\u001b[0;34m-\u001b[0m\u001b[0my\u001b[0m\u001b[0;34m*\u001b[0m\u001b[0mnp\u001b[0m\u001b[0;34m.\u001b[0m\u001b[0mlog\u001b[0m\u001b[0;34m(\u001b[0m\u001b[0mhx\u001b[0m\u001b[0;34m)\u001b[0m \u001b[0;34m-\u001b[0m \u001b[0;34m(\u001b[0m\u001b[0;36m1\u001b[0m\u001b[0;34m-\u001b[0m\u001b[0my\u001b[0m\u001b[0;34m)\u001b[0m\u001b[0;34m*\u001b[0m\u001b[0mnp\u001b[0m\u001b[0;34m.\u001b[0m\u001b[0mlog\u001b[0m\u001b[0;34m(\u001b[0m\u001b[0;36m1\u001b[0m\u001b[0;34m-\u001b[0m\u001b[0mhx\u001b[0m\u001b[0;34m)\u001b[0m\u001b[0;34m)\u001b[0m\u001b[0;34m,\u001b[0m\u001b[0maxis\u001b[0m\u001b[0;34m=\u001b[0m\u001b[0;36m0\u001b[0m\u001b[0;34m)\u001b[0m\u001b[0;34m\u001b[0m\u001b[0m\n\u001b[1;32m     34\u001b[0m     \u001b[0mcost\u001b[0m\u001b[0;34m=\u001b[0m\u001b[0;34m(\u001b[0m\u001b[0;36m1.\u001b[0m\u001b[0;34m/\u001b[0m\u001b[0mm\u001b[0m\u001b[0;34m)\u001b[0m \u001b[0;34m*\u001b[0m \u001b[0mcost\u001b[0m\u001b[0;34m\u001b[0m\u001b[0m\n",
      "\u001b[0;31mNameError\u001b[0m: global name 'sigmoid' is not defined"
     ]
    }
   ],
   "source": [
    "#adding an extra columns of ones\n",
    "\n",
    "def prepare_data():\n",
    "    \n",
    "    data=np.loadtxt(\"ex2data1.txt\",delimiter=\",\")\n",
    "    X=data[:,[0,1]]\n",
    "    y=data[:,2]\n",
    "    y=y.reshape((100,1))\n",
    "    \n",
    "    m=X.shape[0]\n",
    "    n=X.shape[1]+1  # +1 for the extra intercept column\n",
    "\n",
    "    X=np.hstack((np.ones((m,1)),X))\n",
    "    return X,y\n",
    "\n",
    "\n",
    "X,y=prepare_data()\n",
    "\n",
    "init_theta=np.zeros(3,dtype=\"float\")  #the init theta for the fmin in optmize has to be a 1D array\n",
    "def costFunction(theta,X,y,lmbda=0):\n",
    "    ''' X is m x n\n",
    "    theta is (n,)\n",
    "    y is m x 1\n",
    "    '''\n",
    "    \n",
    "    #lmbda=0\n",
    "    \n",
    "    m=X.shape[0]\n",
    "    \n",
    "    theta=theta.reshape((3,1))\n",
    "    hx=np.dot(X,theta)\n",
    "    hx=sigmoid(hx)\n",
    "    cost=np.sum((-y*np.log(hx) - (1-y)*np.log(1-hx)),axis=0)\n",
    "    cost=(1./m) * cost\n",
    "    regularization_term=((lmbda)/2*m)*np.sum(np.square(theta[1:]))\n",
    "    return cost+regularization_term\n",
    "\n",
    "\n",
    "\n",
    "def gradient(theta,X,y):\n",
    "    theta=theta.reshape((3,1))\n",
    "    hx=np.dot(X,theta)\n",
    "    grad=np.mean(((sigmoid(hx)-y)*X),axis=0)\n",
    "    return grad\n",
    "    \n",
    "\n",
    "\n",
    "print costFunction(init_theta,X,y)\n",
    "\n",
    "print init_theta.shape\n",
    "\n",
    "print gradient(init_theta,X,y)\n",
    "\n",
    "\n"
   ]
  },
  {
   "cell_type": "code",
   "execution_count": 4,
   "metadata": {
    "collapsed": false
   },
   "outputs": [
    {
     "ename": "NameError",
     "evalue": "name 'scipy' is not defined",
     "output_type": "error",
     "traceback": [
      "\u001b[0;31m---------------------------------------------------------------------------\u001b[0m",
      "\u001b[0;31mNameError\u001b[0m                                 Traceback (most recent call last)",
      "\u001b[0;32m<ipython-input-4-654ef07fe083>\u001b[0m in \u001b[0;36m<module>\u001b[0;34m()\u001b[0m\n\u001b[1;32m     17\u001b[0m \u001b[0mlmbda\u001b[0m\u001b[0;34m=\u001b[0m\u001b[0mnp\u001b[0m\u001b[0;34m.\u001b[0m\u001b[0mmatrix\u001b[0m\u001b[0;34m(\u001b[0m\u001b[0mnp\u001b[0m\u001b[0;34m.\u001b[0m\u001b[0marray\u001b[0m\u001b[0;34m(\u001b[0m\u001b[0;34m[\u001b[0m\u001b[0;36m0\u001b[0m\u001b[0;34m]\u001b[0m\u001b[0;34m)\u001b[0m\u001b[0;34m)\u001b[0m\u001b[0;34m\u001b[0m\u001b[0m\n\u001b[1;32m     18\u001b[0m \u001b[0;34m\u001b[0m\u001b[0m\n\u001b[0;32m---> 19\u001b[0;31m \u001b[0mfinal_theta\u001b[0m\u001b[0;34m=\u001b[0m\u001b[0mscipy\u001b[0m\u001b[0;34m.\u001b[0m\u001b[0moptimize\u001b[0m\u001b[0;34m.\u001b[0m\u001b[0mfmin\u001b[0m\u001b[0;34m(\u001b[0m\u001b[0mcostFunction\u001b[0m\u001b[0;34m,\u001b[0m\u001b[0mx0\u001b[0m\u001b[0;34m=\u001b[0m\u001b[0minit_theta\u001b[0m\u001b[0;34m,\u001b[0m\u001b[0margs\u001b[0m\u001b[0;34m=\u001b[0m\u001b[0;34m(\u001b[0m\u001b[0mX\u001b[0m\u001b[0;34m,\u001b[0m\u001b[0my\u001b[0m\u001b[0;34m)\u001b[0m\u001b[0;34m,\u001b[0m\u001b[0mmaxiter\u001b[0m\u001b[0;34m=\u001b[0m\u001b[0;36m500\u001b[0m\u001b[0;34m)\u001b[0m\u001b[0;34m\u001b[0m\u001b[0m\n\u001b[0m\u001b[1;32m     20\u001b[0m \u001b[0;34m\u001b[0m\u001b[0m\n\u001b[1;32m     21\u001b[0m \u001b[0;32mprint\u001b[0m \u001b[0mfinal_theta\u001b[0m\u001b[0;34m\u001b[0m\u001b[0m\n",
      "\u001b[0;31mNameError\u001b[0m: name 'scipy' is not defined"
     ]
    }
   ],
   "source": [
    "def prediction(theta,X):\n",
    "    ''' here theta is (2,)'''\n",
    "    \n",
    "    ''' X is N x 2'''\n",
    "    \n",
    "    theta=np.transpose(np.asmatrix(theta))   #theta is (2 x 1)\n",
    "    \n",
    "    pred=sigmoid(np.dot(X,theta))\n",
    "    \n",
    "    #return 1 if pred>=0.5 else 0\n",
    "    \n",
    "    pred=np.array(pred>0.5,dtype='int64')\n",
    "    return pred\n",
    "\n",
    "\n",
    "#finding the minimum value of theta\n",
    "lmbda=np.matrix(np.array([0]))\n",
    "\n",
    "final_theta=scipy.optimize.fmin(costFunction,x0=init_theta,args=(X,y),maxiter=500)\n",
    "\n",
    "print final_theta\n",
    "\n",
    "pred=prediction(final_theta,X)\n",
    "\n",
    "\n",
    "\n",
    "#the optimize.fmin function takes the intital theta as a 1D numpy array so i ahve passed the initial theta as (3,)\n",
    "#now since it is a 1D array hence i am reshaping the theta inside the cost function.\n",
    "\n",
    "#The X and Y for the optimize function is a 2D array \n",
    "\n",
    "#without the intercept term i was getting an incorrect answer all the predictions were 1 hence the intercept in the \n",
    "#logit regression is paramount.\n",
    "\n",
    "\n",
    "#the costfunction should return a single value not an arary of value. hence i am doing np.mean() for the cost function\n",
    "\n",
    "#also the cost function should take the argument in the order of theta,X,y for the fmin to work properly\n",
    "    "
   ]
  },
  {
   "cell_type": "markdown",
   "metadata": {},
   "source": [
    "Now i can write the gradient descent update rule for this optimisation problem but in a lot of optimisation problem the optimisation to be carried is quite complicated. Scipy and numpy have optimsation routine built in them using these routine i can find the minima of the function."
   ]
  },
  {
   "cell_type": "code",
   "execution_count": 132,
   "metadata": {
    "collapsed": false
   },
   "outputs": [],
   "source": [
    "pred=prediction(final_theta,X)"
   ]
  },
  {
   "cell_type": "markdown",
   "metadata": {},
   "source": [
    "The Elements of Statistical Learning by Hastie et al. define ridge regression as follows (Section 3.4.1, equation 3.41):\n",
    "β̂ ridge=argminβ{∑i=1N(yi−β0−∑j=1pxijβj)2+λ∑j=1pβ2j},\n",
    "i.e. explicitly exclude the intercept term β0 from the ridge penalty.\n",
    "\n",
    "Then they write:\n",
    "\n",
    "[...] notice that the intercept β0 has been left out of the penalty term. Penalization of the intercept would make the procedure depend on the origin chosen for Y; that is, adding a constant c to each of the targets yi would not simply result in a shift of the predictions by the same amount c.\n",
    "Indeed, in the presence of the intercept term, adding c to all yi will simply lead to β0 increasing by c as well and correspondingly all predicted values ŷ i will also increase by c. This is not true if the intercept is penalized: β0 will have to increase by less than c."
   ]
  },
  {
   "cell_type": "code",
   "execution_count": 143,
   "metadata": {
    "collapsed": false
   },
   "outputs": [
    {
     "data": {
      "text/plain": [
       "array([[ 0.025926],\n",
       "       [ 0.549662]])"
      ]
     },
     "execution_count": 143,
     "metadata": {},
     "output_type": "execute_result"
    }
   ],
   "source": [
    "np.random.seed(2)\n"
   ]
  },
  {
   "cell_type": "code",
   "execution_count": null,
   "metadata": {
    "collapsed": true
   },
   "outputs": [],
   "source": []
  }
 ],
 "metadata": {
  "kernelspec": {
   "display_name": "Python 2",
   "language": "python",
   "name": "python2"
  },
  "language_info": {
   "codemirror_mode": {
    "name": "ipython",
    "version": 2
   },
   "file_extension": ".py",
   "mimetype": "text/x-python",
   "name": "python",
   "nbconvert_exporter": "python",
   "pygments_lexer": "ipython2",
   "version": "2.7.9"
  }
 },
 "nbformat": 4,
 "nbformat_minor": 0
}
