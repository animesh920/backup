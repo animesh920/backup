{
 "cells": [
  {
   "cell_type": "code",
   "execution_count": 24,
   "metadata": {
    "collapsed": true
   },
   "outputs": [],
   "source": [
    "import numpy as np"
   ]
  },
  {
   "cell_type": "code",
   "execution_count": 25,
   "metadata": {
    "collapsed": false
   },
   "outputs": [],
   "source": [
    "data=np.loadtxt(\"ex1data1.txt\",dtype=\"float\",delimiter=\",\")"
   ]
  },
  {
   "cell_type": "code",
   "execution_count": 26,
   "metadata": {
    "collapsed": false
   },
   "outputs": [],
   "source": [
    "X=data[:,0]\n",
    "y=data[:,1]"
   ]
  },
  {
   "cell_type": "code",
   "execution_count": 27,
   "metadata": {
    "collapsed": false
   },
   "outputs": [],
   "source": [
    "#the number of training examples\n",
    "m=len(y)"
   ]
  },
  {
   "cell_type": "code",
   "execution_count": 28,
   "metadata": {
    "collapsed": false
   },
   "outputs": [],
   "source": [
    "#reshaping both X and y. both X and y are of the shape of N,1\n",
    "X=X.reshape(m,1)\n",
    "y=y.reshape(m,1)\n"
   ]
  },
  {
   "cell_type": "code",
   "execution_count": 6,
   "metadata": {
    "collapsed": false
   },
   "outputs": [],
   "source": [
    "%matplotlib inline\n",
    "import matplotlib.pyplot as plt\n"
   ]
  },
  {
   "cell_type": "code",
   "execution_count": 19,
   "metadata": {
    "collapsed": false
   },
   "outputs": [
    {
     "data": {
      "text/plain": [
       "(-5, 25)"
      ]
     },
     "execution_count": 19,
     "metadata": {},
     "output_type": "execute_result"
    },
    {
     "data": {
      "image/png": "[encoded data removed]",
      "text/plain": [
       "<matplotlib.figure.Figure at 0x106831f10>"
      ]
     },
     "metadata": {},
     "output_type": "display_data"
    }
   ],
   "source": [
    "#for coloring in plt.scatter specifically mention the c arg, c arg is not the third arg in plt.scatter function\n",
    "plt.scatter(X,y,c=\"r\",marker=\"+\")\n",
    "plt.xlabel(\"population of the city in 10000\")\n",
    "plt.ylabel(\"profit in $10000\")\n",
    "plt.xlim(4,30)\n",
    "plt.ylim(-5,25)\n"
   ]
  },
  {
   "cell_type": "code",
   "execution_count": 56,
   "metadata": {
    "collapsed": false
   },
   "outputs": [],
   "source": [
    "#vstack(vertical stack) for rbind  hstack(horizontal stack) for cbind\n",
    "\n",
    "ones=np.ones((m,1))\n",
    "X=np.hstack((ones,X))\n",
    "\n",
    "#initializing the theta\n",
    "\n",
    "theta=np.zeros((2,1))"
   ]
  },
  {
   "cell_type": "code",
   "execution_count": 39,
   "metadata": {
    "collapsed": false
   },
   "outputs": [
    {
     "data": {
      "text/plain": [
       "32.072733877455654"
      ]
     },
     "execution_count": 39,
     "metadata": {},
     "output_type": "execute_result"
    }
   ],
   "source": [
    "def computeCost(X,y,theta):\n",
    "    m=X.shape[0]\n",
    "    hx=np.dot(X,theta)\n",
    "    cost=np.sum(np.square(hx-y))\n",
    "    cost= 1./(2*m) *cost\n",
    "    return cost\n",
    "\n",
    "computeCost(X,y,theta)\n",
    "\n",
    "#so the computeCost is correctly computing the cost of 32.07"
   ]
  },
  {
   "cell_type": "code",
   "execution_count": 88,
   "metadata": {
    "collapsed": false
   },
   "outputs": [],
   "source": [
    "def gradientDescent(X,y,theta):\n",
    "    theta=np.zeros((2,1))\n",
    "    iterations=1500\n",
    "    alpha=0.01\n",
    "    \n",
    "    cost_history=np.empty(iterations)\n",
    "    \n",
    "    for i in range(iterations):\n",
    "        hx=np.dot(X,theta)\n",
    "        \n",
    "#         #printing the cost to see that the cost is decreasing\n",
    "        \n",
    "        cost_history[i]=computeCost(X,y,theta)\n",
    "#         print theta\n",
    "        \n",
    "#         grad_intercept=(1./m) * np.sum(hx-y)\n",
    "        \n",
    "#         print grad_intercept\n",
    "        \n",
    "#         grad_slope=(1./m) * (np.sum((hx-y)*X[:,1]))\n",
    "        \n",
    "#         print grad_slope\n",
    "        \n",
    "#         theta[0]=theta[0]-alpha*grad_intercept\n",
    "#         theta[1]=theta[1]-alpha*grad_slope\n",
    "        \n",
    "        #computing the cost in vector fashion\n",
    "        grad=(1./m)*alpha*np.sum((hx-y)*X,axis=0)\n",
    "        grad=grad.reshape((2,1))\n",
    "        theta=theta - grad\n",
    "        \n",
    "    return theta,cost_history\n",
    "\n",
    "theta,cost_history=gradientDescent(X,y,theta)\n"
   ]
  },
  {
   "cell_type": "raw",
   "metadata": {},
   "source": [
    "for matrix multiplication i have to use the np.dot() function . this multiplies the matrices. For vector multiplication i have to use the standard * operator of python multiplication. Also beware that a lot of times the numpy operations return a numpy array and not matrices. so i have to specifically say array=array.reshape(shape)\n",
    "\n",
    "One more important point is that the numpy functions like sum,product and sqrt take axis as argument to return the output value. axis =0 is for column computation axis=1 is for row computataion.\n",
    "\n",
    "Another thing i learnt is to do in palce vector changes. earlier i was doing theta[0] and so on it was not working\n",
    "now i am doing   theta= theta - alpha*gradient_vector.\n",
    "\n",
    "Since most of the matrix operation returns a numpy array, so i have to wrap the array object with np.matrix\n",
    "\n",
    "final_matrix_object=np.matrix(arra_object).reshape((n_row,n_col))"
   ]
  },
  {
   "cell_type": "code",
   "execution_count": 92,
   "metadata": {
    "collapsed": false
   },
   "outputs": [
    {
     "data": {
      "text/plain": [
       "(4, 10)"
      ]
     },
     "execution_count": 92,
     "metadata": {},
     "output_type": "execute_result"
    },
    {
     "data": {
      "image/png": "[encoded data removed]",
      "text/plain": [
       "<matplotlib.figure.Figure at 0x106e12e50>"
      ]
     },
     "metadata": {},
     "output_type": "display_data"
    }
   ],
   "source": [
    "#plotting the cost history with iterations\n",
    "\n",
    "plt.plot(range(1,iterations+1),cost_history,\"r.\")\n",
    "plt.ylim(4,10)"
   ]
  },
  {
   "cell_type": "raw",
   "metadata": {},
   "source": [
    "So i can see here the cost is decreasing as i increase the number of iterations. It is almost at its minima."
   ]
  },
  {
   "cell_type": "code",
   "execution_count": 111,
   "metadata": {
    "collapsed": false
   },
   "outputs": [
    {
     "data": {
      "text/plain": [
       "[<matplotlib.lines.Line2D at 0x106e3d790>]"
      ]
     },
     "execution_count": 111,
     "metadata": {},
     "output_type": "execute_result"
    },
    {
     "data": {
      "image/png": "[encoded data removed]",
      "text/plain": [
       "<matplotlib.figure.Figure at 0x106e3dc90>"
      ]
     },
     "metadata": {},
     "output_type": "display_data"
    }
   ],
   "source": [
    "#plotting the regression line \n",
    "plt.scatter(X[:,1],y,c=\"b\",marker=\"+\")\n",
    "plt.plot(X[:,1],np.dot(X,theta))"
   ]
  },
  {
   "cell_type": "code",
   "execution_count": 176,
   "metadata": {
    "collapsed": false
   },
   "outputs": [],
   "source": [
    "#Multiple linear regression\n",
    "\n",
    "X_multi=np.loadtxt(\"ex1data2.txt\",delimiter=\",\")\n",
    "\n",
    "\n"
   ]
  },
  {
   "cell_type": "code",
   "execution_count": 177,
   "metadata": {
    "collapsed": false
   },
   "outputs": [],
   "source": [
    "#normalizing the feature\n",
    "\n",
    "X_multi=(X_multi-(np.mean(X_multi,axis=0)))/(np.std(X_multi,axis=0))\n"
   ]
  },
  {
   "cell_type": "code",
   "execution_count": 178,
   "metadata": {
    "collapsed": false
   },
   "outputs": [],
   "source": [
    "#adding an extra columns of 1's as the first column of the matrix\n",
    "\n",
    "X_multi=np.hstack((np.ones((X_multi.shape[0],1),dtype=\"float\"),X_multi))\n",
    "\n",
    "y=X_multi[:,3]\n",
    "y=y.reshape((X_multi.shape[0],1))\n",
    "\n",
    "X_multi=X_multi[:,[0,1,2]]\n"
   ]
  },
  {
   "cell_type": "code",
   "execution_count": 179,
   "metadata": {
    "collapsed": false
   },
   "outputs": [
    {
     "data": {
      "text/plain": [
       "array([ 0.])"
      ]
     },
     "execution_count": 179,
     "metadata": {},
     "output_type": "execute_result"
    }
   ],
   "source": [
    "def computeCostMulti(X_multi,y,theta):\n",
    "    m=X_multi.shape[0]   #this is the number of training example in the dataset\n",
    "    \n",
    "    hx=np.dot(X_multi,theta)\n",
    "    \n",
    "    return (1/m)*(np.sum(np.square(hx-y),axis=0))\n",
    "\n",
    "theta=np.zeros((3,1))\n",
    "\n",
    "computeCostMulti(X_multi,y,theta)"
   ]
  },
  {
   "cell_type": "code",
   "execution_count": 180,
   "metadata": {
    "collapsed": false
   },
   "outputs": [
    {
     "name": "stdout",
     "output_type": "stream",
     "text": [
      "(47, 3)\n",
      "(3, 1)\n"
     ]
    }
   ],
   "source": [
    "print X_multi.shape\n",
    "print theta.shape"
   ]
  },
  {
   "cell_type": "code",
   "execution_count": 181,
   "metadata": {
    "collapsed": false
   },
   "outputs": [],
   "source": [
    "def gradientDescentMulti(X_multi,y,theta):\n",
    "    theta=np.zeros((3,1))\n",
    "    \n",
    "    alpha=0.01\n",
    "    iterations=1500\n",
    "    m=X_multi.shape[0]\n",
    "    \n",
    "    J_history=np.empty(iterations)\n",
    "    \n",
    "    for i in range(iterations):\n",
    "        hx=np.dot(X_multi,theta)\n",
    "        grad=np.sum((hx-y)*X_multi,axis=0)\n",
    "        grad=grad/m\n",
    "        \n",
    "        #J_history[i]=computeCostMulti(X_multi,y,theta)\n",
    "        grad=grad.reshape((3,1))\n",
    "        theta=theta-alpha*grad\n",
    "    return theta\n",
    "\n",
    "theta=gradientDescentMulti(X_multi,y,theta)\n"
   ]
  },
  {
   "cell_type": "code",
   "execution_count": 182,
   "metadata": {
    "collapsed": false
   },
   "outputs": [
    {
     "data": {
      "text/plain": [
       "array([[ -9.66779848e-17],\n",
       "       [  8.84137547e-01],\n",
       "       [ -5.25503786e-02]])"
      ]
     },
     "execution_count": 182,
     "metadata": {},
     "output_type": "execute_result"
    }
   ],
   "source": [
    "theta"
   ]
  },
  {
   "cell_type": "code",
   "execution_count": null,
   "metadata": {
    "collapsed": true
   },
   "outputs": [],
   "source": []
  }
 ],
 "metadata": {
  "kernelspec": {
   "display_name": "Python 2",
   "language": "python",
   "name": "python2"
  },
  "language_info": {
   "codemirror_mode": {
    "name": "ipython",
    "version": 2
   },
   "file_extension": ".py",
   "mimetype": "text/x-python",
   "name": "python",
   "nbconvert_exporter": "python",
   "pygments_lexer": "ipython2",
   "version": "2.7.9"
  }
 },
 "nbformat": 4,
 "nbformat_minor": 0
}
