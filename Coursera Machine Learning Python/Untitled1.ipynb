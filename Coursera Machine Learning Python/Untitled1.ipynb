{
 "cells": [
  {
   "cell_type": "code",
   "execution_count": 1,
   "metadata": {
    "collapsed": true
   },
   "outputs": [],
   "source": [
    "from matplotlib import pyplot as plt\n",
    "import numpy as np\n",
    "import scipy.io"
   ]
  },
  {
   "cell_type": "code",
   "execution_count": 22,
   "metadata": {
    "collapsed": false
   },
   "outputs": [],
   "source": [
    "data=scipy.io.loadmat('ex7data2.mat')\n",
    "X=data['X']"
   ]
  },
  {
   "cell_type": "code",
   "execution_count": 6,
   "metadata": {
    "collapsed": false
   },
   "outputs": [
    {
     "data": {
      "text/plain": [
       "[<matplotlib.lines.Line2D at 0x1066a3a50>]"
      ]
     },
     "execution_count": 6,
     "metadata": {},
     "output_type": "execute_result"
    },
    {
     "data": {
      "image/png": "[encoded data removed]",
      "text/plain": [
       "<matplotlib.figure.Figure at 0x10633d590>"
      ]
     },
     "metadata": {},
     "output_type": "display_data"
    }
   ],
   "source": [
    "#visualizing the data\n",
    "plt.plot(X[:,0],X[:,1],'r+')"
   ]
  },
  {
   "cell_type": "code",
   "execution_count": 32,
   "metadata": {
    "collapsed": false
   },
   "outputs": [
    {
     "name": "stdout",
     "output_type": "stream",
     "text": [
      "[ 1.  3.  2.]\n"
     ]
    }
   ],
   "source": [
    "def findClosestCentroid(data,centroids):\n",
    "    idx=np.zeros(data.shape[0])\n",
    "    num_centroids=len(centroids)\n",
    "    for elem,index in zip(data,range(X.shape[0])):\n",
    "        all_distance=[]\n",
    "        for cluster_num,cluster_centroid in zip(range(1,num_centroids+1),centroids):\n",
    "            distance=np.sqrt(np.sum(np.square(elem-cluster_centroid)))\n",
    "            all_distance.append((distance,cluster_num))\n",
    "        _,cluster_assignment=min(all_distance,key=lambda x:x[0])\n",
    "        idx[index]=cluster_assignment\n",
    "    return idx\n",
    "                          \n",
    "initial_centroids=np.array([[3,3],[6,2],[8,5]]) # each list of the list of list is a row vector\n",
    "\n",
    "#the first three centroids closest centroids should be 1,3,2\n",
    "\n",
    "print findClosestCentroid(X[:3,:],initial_centroids)\n",
    "\n",
    "idx=findClosestCentroid(X,initial_centroids)\n",
    "\n"
   ]
  },
  {
   "cell_type": "code",
   "execution_count": 53,
   "metadata": {
    "collapsed": false
   },
   "outputs": [
    {
     "data": {
      "text/plain": [
       "array([[ 2.42830111,  3.15792418],\n",
       "       [ 5.81350331,  2.63365645],\n",
       "       [ 7.11938687,  3.6166844 ]])"
      ]
     },
     "execution_count": 53,
     "metadata": {},
     "output_type": "execute_result"
    }
   ],
   "source": [
    "def computeMeanCentroids(X,idx,K):\n",
    "    new_centroids=[]\n",
    "    for i in range(1,K+1):\n",
    "        mean=np.mean(X[idx==i],axis=0)\n",
    "        new_centroids.append(mean)\n",
    "    return np.asarray(new_centroids)\n",
    "\n",
    "\n",
    "computeMeanCentroids(X,idx,3)"
   ]
  },
  {
   "cell_type": "code",
   "execution_count": 83,
   "metadata": {
    "collapsed": false
   },
   "outputs": [],
   "source": [
    "def kmeans(X,K):\n",
    "    #initializing the K starting random points\n",
    "    idx_array=np.arange(X.shape[0])\n",
    "    np.random.shuffle(idx_array)\n",
    "    initial_centroids=X[idx_array[:K]]\n",
    "    for i in range(50):\n",
    "        idx=findClosestCentroid(X,initial_centroids)\n",
    "        new_centroids=computeMeanCentroids(X,idx,K)\n",
    "    return (X,idx,new_centroids)\n",
    "\n",
    "kmeans_out=kmeans(X,3)"
   ]
  },
  {
   "cell_type": "code",
   "execution_count": null,
   "metadata": {
    "collapsed": false
   },
   "outputs": [],
   "source": []
  },
  {
   "cell_type": "markdown",
   "metadata": {},
   "source": [
    "##PCA"
   ]
  },
  {
   "cell_type": "code",
   "execution_count": 88,
   "metadata": {
    "collapsed": false
   },
   "outputs": [],
   "source": [
    "#here i am working with pca on a 2D dataset.\n",
    "\n",
    "data=scipy.io.loadmat('ex7data1.mat')\n",
    "X=data['X']"
   ]
  },
  {
   "cell_type": "code",
   "execution_count": 89,
   "metadata": {
    "collapsed": false
   },
   "outputs": [
    {
     "data": {
      "text/plain": [
       "[<matplotlib.lines.Line2D at 0x106d830d0>]"
      ]
     },
     "execution_count": 89,
     "metadata": {},
     "output_type": "execute_result"
    },
    {
     "data": {
      "image/png": "[encoded data removed]",
      "text/plain": [
       "<matplotlib.figure.Figure at 0x106dcd850>"
      ]
     },
     "metadata": {},
     "output_type": "display_data"
    }
   ],
   "source": [
    "plt.plot(X[:,0],X[:,1],\"g+\")\n",
    "\n",
    "#variance along x axis is larger and variance along y axis is smaller. so one of the principal component will dominate\n",
    "#the other"
   ]
  },
  {
   "cell_type": "markdown",
   "metadata": {},
   "source": [
    "PCA consists of 2 steps. The first step is to compute the convariance matrix of the data. Then the octave's SVD function is used to get the principal component laoding for the PCA.Before using PCA, it is important to \f",
    "rst normalize the data by subtracting the mean value of each feature from the dataset, and scaling each dimension so that they are in the same range.\n",
    "\n",
    "After normalizing the data, you can run PCA to compute the principal components. You task is to complete the code in pca.m to compute the principal components of the dataset. First, you should compute the covariance matrix of the data, which is given by:\n",
    "\n",
    "\n",
    "covariance matrix= (1/m)*(X'X)\n",
    "\n",
    "where X is the data matrix with examples in rows, and m is the number of examples. Note that covariance matrix is a n x n matrix.\n",
    "\n"
   ]
  },
  {
   "cell_type": "code",
   "execution_count": 162,
   "metadata": {
    "collapsed": false
   },
   "outputs": [
    {
     "data": {
      "text/plain": [
       "'The script will also output the top principal component (eigen-\\nvector) found, and you should expect to see an output of about [-0.707\\n-0.707]. (It is possible that Octave may instead output the negative of this,\\nsince U1 and \\xf4\\x80\\x80\\x80U1 are equally valid choices for the \\nrst principal component.)\\nYou should now submit your PCA function.'"
      ]
     },
     "execution_count": 162,
     "metadata": {},
     "output_type": "execute_result"
    }
   ],
   "source": [
    "#normalizing X before running PCA, this is needed because scaling affects the variance in each direction hence to make\n",
    "#data dimension invariant i am scaling the PCA.\n",
    "X_norm=(X-np.mean(X,axis=0))/np.std(X,axis=0)\n",
    "\n",
    "\n",
    "def pca(X,num_components):    \n",
    "    m,n=X.shape\n",
    "    covariance_matrix=(1./m)*(np.dot(X.T,X))\n",
    "    return np.linalg.svd(covariance_matrix)\n",
    "\n",
    "U,S,V=pca(X_norm,2)\n",
    "\n",
    "\n",
    "#where U will contain the principal components and S will contain a diagonal matrix. The matrix S is the loading for \n",
    "#each of the principal components\n",
    "\n",
    "\n",
    "'''The script will also output the top principal component (eigen-\n",
    "vector) found, and you should expect to see an output of about [-0.707\n",
    "-0.707]. (It is possible that Octave may instead output the negative of this,\n",
    "since U1 and 􀀀U1 are equally valid choices for the \f",
    "rst principal component.)\n",
    "You should now submit your PCA function.'''"
   ]
  },
  {
   "cell_type": "code",
   "execution_count": 149,
   "metadata": {
    "collapsed": false
   },
   "outputs": [
    {
     "name": "stdout",
     "output_type": "stream",
     "text": [
      "[[-0.70710678 -0.70710678]\n",
      " [-0.70710678  0.70710678]]\n",
      "[ 1.73553038  0.26446962]\n",
      "[[-0.70710678 -0.70710678]\n",
      " [-0.70710678  0.70710678]]\n",
      "first principle component [-0.70710678 -0.70710678]\n",
      "second principle component [-0.70710678  0.70710678]\n"
     ]
    }
   ],
   "source": [
    "print U\n",
    "print S\n",
    "print V\n",
    "\n",
    "print 'first principle component',U[0,:]\n",
    "print 'second principle component',U[1,:]"
   ]
  },
  {
   "cell_type": "code",
   "execution_count": 150,
   "metadata": {
    "collapsed": false,
    "scrolled": false
   },
   "outputs": [
    {
     "data": {
      "text/plain": [
       "[<matplotlib.lines.Line2D at 0x10841f5d0>]"
      ]
     },
     "execution_count": 150,
     "metadata": {},
     "output_type": "execute_result"
    },
    {
     "data": {
      "image/png": "[encoded data removed]",
      "text/plain": [
       "<matplotlib.figure.Figure at 0x1083e1cd0>"
      ]
     },
     "metadata": {},
     "output_type": "display_data"
    }
   ],
   "source": [
    "#plotting the principle components\n",
    "\n",
    "slope_1=(-0.70/-0.70)\n",
    "slope_2=(0.70/-0.70)\n",
    "\n",
    "plt.plot(X[:,0],X[:,1],\"ro\")\n",
    "plt.plot(range(1,7),map(lambda x:((x*slope_1+1)),range(1,7)),'g-')\n",
    "plt.plot(range(1,7),map(lambda x:((x*slope_2+8.5)),range(1,7)),'b-')"
   ]
  },
  {
   "cell_type": "code",
   "execution_count": 134,
   "metadata": {
    "collapsed": false
   },
   "outputs": [
    {
     "data": {
      "text/plain": [
       "-1.6653345369377348e-16"
      ]
     },
     "execution_count": 134,
     "metadata": {},
     "output_type": "execute_result"
    }
   ],
   "source": [
    "#dot product of the two eigen vector is 0 this means the two vectors are perpendicular to each other\n",
    "np.dot(U[0,:],U[1,:])"
   ]
  },
  {
   "cell_type": "code",
   "execution_count": 163,
   "metadata": {
    "collapsed": false
   },
   "outputs": [
    {
     "data": {
      "text/plain": [
       "array([[-4.78759045],\n",
       "       [-7.34122042],\n",
       "       [-4.99760204],\n",
       "       [-4.58251038],\n",
       "       [-4.96535088],\n",
       "       [-7.33909864],\n",
       "       [-5.02657745],\n",
       "       [-8.90393595],\n",
       "       [-6.38329374],\n",
       "       [-7.20197778],\n",
       "       [-7.05107253],\n",
       "       [-6.95290959],\n",
       "       [-6.4674726 ],\n",
       "       [-7.00429773],\n",
       "       [-4.66963233],\n",
       "       [-8.4480763 ],\n",
       "       [-7.3196659 ],\n",
       "       [-5.28701594],\n",
       "       [-8.81999314],\n",
       "       [-6.95020407],\n",
       "       [-8.75989905],\n",
       "       [-5.92729807],\n",
       "       [-8.315444  ],\n",
       "       [-6.33065452],\n",
       "       [-4.54033809],\n",
       "       [-5.77450612],\n",
       "       [-7.69650922],\n",
       "       [-7.70841907],\n",
       "       [-5.39933015],\n",
       "       [-6.35631705],\n",
       "       [-6.53101334],\n",
       "       [-8.06183103],\n",
       "       [-4.92218554],\n",
       "       [-7.0797285 ],\n",
       "       [-5.61499734],\n",
       "       [-7.8001156 ],\n",
       "       [-4.53023245],\n",
       "       [-7.90528254],\n",
       "       [-3.56709632],\n",
       "       [-6.67057627],\n",
       "       [-7.38689297],\n",
       "       [-5.3854378 ],\n",
       "       [-4.95846894],\n",
       "       [-7.41694217],\n",
       "       [-4.429343  ],\n",
       "       [-6.63230794],\n",
       "       [-2.87009502],\n",
       "       [-4.94269685],\n",
       "       [-5.98252923],\n",
       "       [-7.92173768]])"
      ]
     },
     "execution_count": 163,
     "metadata": {},
     "output_type": "execute_result"
    }
   ],
   "source": [
    "def reduce_to_k_dim(data,pca_matrix,num_components):\n",
    "    return np.dot(X,np.transpose(U[:num_components,:]))\n",
    "\n",
    "#reduction of the input data to a single dimension, ie along the first principal component\n",
    "reduce_to_k_dim(X_norm,U,1)"
   ]
  },
  {
   "cell_type": "code",
   "execution_count": 168,
   "metadata": {
    "collapsed": false
   },
   "outputs": [
    {
     "name": "stdout",
     "output_type": "stream",
     "text": [
      "[[-0.52331306 -1.59279252]\n",
      " [ 0.46381518  0.84034523]\n",
      " [-1.14839331 -0.58315891]\n",
      " [-1.05405373 -1.27071783]\n",
      " [-0.98402167 -0.81658417]\n",
      " [-0.08490201  1.46633377]\n",
      " [-0.44215763 -1.35221333]\n",
      " [ 1.65512709  1.65622961]\n",
      " [-0.05198776  0.09440201]\n",
      " [ 0.49305926  0.61245677]\n",
      " [ 0.50359639  0.38973079]\n",
      " [ 0.32935623  0.45242294]\n",
      " [ 0.17431804 -0.04748911]\n",
      " [ 1.08056741 -0.33689741]\n",
      " [-0.99325294 -1.21879564]\n",
      " [ 1.41742949  1.2923503 ]\n",
      " [ 0.60026548  0.65385535]\n",
      " [-0.98061738 -0.37147508]\n",
      " [ 0.96523763  2.32981886]\n",
      " [ 1.02758927 -0.35168199]\n",
      " [ 1.47948139  1.65649752]\n",
      " [-0.35270365 -0.19743438]\n",
      " [ 1.42096706  1.10315449]\n",
      " [ 0.23612558 -0.30931801]\n",
      " [-1.25101023 -1.1038306 ]\n",
      " [-0.65914279 -0.05946964]\n",
      " [ 0.80965726  0.93988073]\n",
      " [ 1.55321995  0.10421963]\n",
      " [-1.00960756 -0.18146695]\n",
      " [-0.08649323  0.09629619]\n",
      " [-0.55631899  0.87867759]\n",
      " [ 1.62794601  0.51189371]\n",
      " [-0.76240121 -1.13086421]\n",
      " [ 1.15584817 -0.31789212]\n",
      " [-0.5285968  -0.43176175]\n",
      " [ 0.67806821  1.23533447]\n",
      " [-1.13111516 -1.25536309]\n",
      " [ 1.30118247  0.66791095]\n",
      " [-1.88774936 -1.73253268]\n",
      " [ 0.28697223  0.10689618]\n",
      " [ 0.37178505  1.00958613]\n",
      " [-0.69748919 -0.55861538]\n",
      " [-0.82300596 -1.01074999]\n",
      " [ 0.53397416  0.86562738]\n",
      " [-0.8830723  -1.68050588]\n",
      " [-0.01507225  0.39968681]\n",
      " [-2.41895154 -2.09660014]\n",
      " [-1.7828174   0.06738835]\n",
      " [-0.02929439 -0.49103538]\n",
      " [ 0.97195249  1.06825042]]\n"
     ]
    }
   ],
   "source": [
    "\n",
    "print X_norm"
   ]
  },
  {
   "cell_type": "code",
   "execution_count": 170,
   "metadata": {
    "collapsed": false
   },
   "outputs": [
    {
     "data": {
      "text/plain": [
       "array([[-4.78759045],\n",
       "       [-7.34122042],\n",
       "       [-4.99760204],\n",
       "       [-4.58251038],\n",
       "       [-4.96535088],\n",
       "       [-7.33909864],\n",
       "       [-5.02657745],\n",
       "       [-8.90393595],\n",
       "       [-6.38329374],\n",
       "       [-7.20197778],\n",
       "       [-7.05107253],\n",
       "       [-6.95290959],\n",
       "       [-6.4674726 ],\n",
       "       [-7.00429773],\n",
       "       [-4.66963233],\n",
       "       [-8.4480763 ],\n",
       "       [-7.3196659 ],\n",
       "       [-5.28701594],\n",
       "       [-8.81999314],\n",
       "       [-6.95020407],\n",
       "       [-8.75989905],\n",
       "       [-5.92729807],\n",
       "       [-8.315444  ],\n",
       "       [-6.33065452],\n",
       "       [-4.54033809],\n",
       "       [-5.77450612],\n",
       "       [-7.69650922],\n",
       "       [-7.70841907],\n",
       "       [-5.39933015],\n",
       "       [-6.35631705],\n",
       "       [-6.53101334],\n",
       "       [-8.06183103],\n",
       "       [-4.92218554],\n",
       "       [-7.0797285 ],\n",
       "       [-5.61499734],\n",
       "       [-7.8001156 ],\n",
       "       [-4.53023245],\n",
       "       [-7.90528254],\n",
       "       [-3.56709632],\n",
       "       [-6.67057627],\n",
       "       [-7.38689297],\n",
       "       [-5.3854378 ],\n",
       "       [-4.95846894],\n",
       "       [-7.41694217],\n",
       "       [-4.429343  ],\n",
       "       [-6.63230794],\n",
       "       [-2.87009502],\n",
       "       [-4.94269685],\n",
       "       [-5.98252923],\n",
       "       [-7.92173768]])"
      ]
     },
     "execution_count": 170,
     "metadata": {},
     "output_type": "execute_result"
    }
   ],
   "source": [
    "reduce_to_k_dim(X_norm[0],U,1)"
   ]
  },
  {
   "cell_type": "code",
   "execution_count": 173,
   "metadata": {
    "collapsed": false
   },
   "outputs": [
    {
     "data": {
      "text/plain": [
       "array([[-2.39112589, -2.39646456]])"
      ]
     },
     "execution_count": 173,
     "metadata": {},
     "output_type": "execute_result"
    }
   ],
   "source": [
    "np.dotX[0]U[:1,:]"
   ]
  },
  {
   "cell_type": "code",
   "execution_count": 181,
   "metadata": {
    "collapsed": false
   },
   "outputs": [
    {
     "data": {
      "text/plain": [
       "(1, 2)"
      ]
     },
     "execution_count": 181,
     "metadata": {},
     "output_type": "execute_result"
    }
   ],
   "source": [
    "np.shape(U[:1,:])"
   ]
  },
  {
   "cell_type": "code",
   "execution_count": null,
   "metadata": {
    "collapsed": true
   },
   "outputs": [],
   "source": []
  }
 ],
 "metadata": {
  "kernelspec": {
   "display_name": "Python 2",
   "language": "python",
   "name": "python2"
  },
  "language_info": {
   "codemirror_mode": {
    "name": "ipython",
    "version": 2
   },
   "file_extension": ".py",
   "mimetype": "text/x-python",
   "name": "python",
   "nbconvert_exporter": "python",
   "pygments_lexer": "ipython2",
   "version": "2.7.9"
  }
 },
 "nbformat": 4,
 "nbformat_minor": 0
}
