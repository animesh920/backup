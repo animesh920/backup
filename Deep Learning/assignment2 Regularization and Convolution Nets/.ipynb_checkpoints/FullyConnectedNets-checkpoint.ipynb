{
 "cells": [
  {
   "cell_type": "markdown",
   "metadata": {},
   "source": [
    "# Fully-Connected Neural Nets\n",
    "In the previous homework you implemented a fully-connected two-layer neural network on CIFAR-10. The implementation was simple but not very modular since the loss and gradient were computed in a single monolithic function. This is manageable for a simple two-layer network, but would become impractical as we move to bigger models. Ideally we want to build networks using a more modular design so that we can implement different layer types in isolation and then snap them together into models with different architectures.\n",
    "\n",
    "In this exercise we will implement fully-connected networks using a more modular approach. For each layer we will implement a `forward` and a `backward` function. The `forward` function will receive inputs, weights, and other parameters and will return both an output and a `cache` object storing data needed for the backward pass, like this:\n",
    "\n",
    "```python\n",
    "def layer_forward(x, w):\n",
    "  \"\"\" Receive inputs x and weights w \"\"\"\n",
    "  # Do some computations ...\n",
    "  z = # ... some intermediate value\n",
    "  # Do some more computations ...\n",
    "  out = # the output\n",
    "   \n",
    "  cache = (x, w, z, out) # Values we need to compute gradients\n",
    "   \n",
    "  return out, cache\n",
    "```\n",
    "\n",
    "The backward pass will receive upstream derivatives and the `cache` object, and will return gradients with respect to the inputs and weights, like this:\n",
    "\n",
    "```python\n",
    "def layer_backward(dout, cache):\n",
    "  \"\"\"\n",
    "  Receive derivative of loss with respect to outputs and cache,\n",
    "  and compute derivative with respect to inputs.\n",
    "  \"\"\"\n",
    "  # Unpack cache values\n",
    "  x, w, z, out = cache\n",
    "  \n",
    "  # Use values in cache to compute derivatives\n",
    "  dx = # Derivative of loss with respect to x\n",
    "  dw = # Derivative of loss with respect to w\n",
    "  \n",
    "  return dx, dw\n",
    "```\n",
    "\n",
    "After implementing a bunch of layers this way, we will be able to easily combine them to build classifiers with different architectures.\n",
    "\n",
    "In addition to implementing fully-connected networks of arbitrary depth, we will also explore different update rules for optimization, and introduce Dropout as a regularizer and Batch Normalization as a tool to more efficiently optimize deep networks.\n",
    "  "
   ]
  },
  {
   "cell_type": "code",
   "execution_count": 1,
   "metadata": {
    "collapsed": false
   },
   "outputs": [
    {
     "name": "stdout",
     "output_type": "stream",
     "text": [
      "run the following from the cs231n directory and try again:\n",
      "python setup.py build_ext --inplace\n",
      "You may also need to restart your iPython kernel\n"
     ]
    }
   ],
   "source": [
    "# As usual, a bit of setup\n",
    "\n",
    "import time\n",
    "import numpy as np\n",
    "import matplotlib.pyplot as plt\n",
    "from cs231n.classifiers.fc_net import *\n",
    "from cs231n.data_utils import get_CIFAR10_data\n",
    "from cs231n.gradient_check import eval_numerical_gradient, eval_numerical_gradient_array\n",
    "from cs231n.solver import Solver\n",
    "\n",
    "%matplotlib inline\n",
    "plt.rcParams['figure.figsize'] = (10.0, 8.0) # set default size of plots\n",
    "plt.rcParams['image.interpolation'] = 'nearest'\n",
    "plt.rcParams['image.cmap'] = 'gray'\n",
    "\n",
    "# for auto-reloading external modules\n",
    "# see http://stackoverflow.com/questions/1907993/autoreload-of-modules-in-ipython\n",
    "%load_ext autoreload\n",
    "%autoreload 2\n",
    "\n",
    "def rel_error(x, y):\n",
    "  \"\"\" returns relative error \"\"\"\n",
    "  return np.max(np.abs(x - y) / (np.maximum(1e-8, np.abs(x) + np.abs(y))))"
   ]
  },
  {
   "cell_type": "code",
   "execution_count": 3,
   "metadata": {
    "collapsed": false
   },
   "outputs": [
    {
     "name": "stdout",
     "output_type": "stream",
     "text": [
      "X_val:  (1000, 3, 32, 32)\n",
      "X_train:  (49000, 3, 32, 32)\n",
      "X_test:  (1000, 3, 32, 32)\n",
      "y_val:  (1000,)\n",
      "y_train:  (49000,)\n",
      "y_test:  (1000,)\n"
     ]
    }
   ],
   "source": [
    "# Load the (preprocessed) CIFAR10 data.\n",
    "\n",
    "data = get_CIFAR10_data()\n",
    "for k, v in data.iteritems():\n",
    "  print '%s: ' % k, v.shape"
   ]
  },
  {
   "cell_type": "markdown",
   "metadata": {},
   "source": [
    "# Affine layer: foward\n",
    "Open the file `cs231n/layers.py` and implement the `affine_forward` function.\n",
    "\n",
    "Once you are done you can test your implementaion by running the following:"
   ]
  },
  {
   "cell_type": "code",
   "execution_count": 17,
   "metadata": {
    "collapsed": false
   },
   "outputs": [
    {
     "name": "stdout",
     "output_type": "stream",
     "text": [
      " Testing affine_forward function:\n",
      "difference:  9.76984772881e-10\n"
     ]
    }
   ],
   "source": [
    "# Test the affine_forward function\n",
    "\n",
    "num_inputs = 2\n",
    "input_shape = (4, 5, 6)\n",
    "output_dim = 3\n",
    "\n",
    "input_size = num_inputs * np.prod(input_shape)\n",
    "weight_size = output_dim * np.prod(input_shape)\n",
    "\n",
    "x = np.linspace(-0.1, 0.5, num=input_size).reshape(num_inputs, *input_shape)\n",
    "w = np.linspace(-0.2, 0.3, num=weight_size).reshape(np.prod(input_shape), output_dim)\n",
    "b = np.linspace(-0.3, 0.1, num=output_dim)\n",
    "\n",
    "out, _ = affine_forward(x, w, b)\n",
    "correct_out = np.array([[ 1.49834967,  1.70660132,  1.91485297],\n",
    "                        [ 3.25553199,  3.5141327,   3.77273342]])\n",
    "\n",
    "# Compare your output with ours. The error should be around 1e-9.\n",
    "print 'Testing affine_forward function:'\n",
    "print 'difference: ', rel_error(out, correct_out)"
   ]
  },
  {
   "cell_type": "markdown",
   "metadata": {},
   "source": [
    "# Affine layer: backward\n",
    "Now implement the `affine_backward` function and test your implementation using numeric gradient checking."
   ]
  },
  {
   "cell_type": "code",
   "execution_count": 22,
   "metadata": {
    "collapsed": false
   },
   "outputs": [
    {
     "name": "stdout",
     "output_type": "stream",
     "text": [
      "Testing affine_backward function:\n",
      "dx error:  9.83697764506e-11\n",
      "dw error:  3.07821868718e-10\n",
      "db error:  6.83346592161e-11\n"
     ]
    }
   ],
   "source": [
    "# Test the affine_backward function\n",
    "\n",
    "x = np.random.randn(10, 2, 3)\n",
    "w = np.random.randn(6, 5)\n",
    "b = np.random.randn(5)\n",
    "dout = np.random.randn(10, 5)\n",
    "\n",
    "dx_num = eval_numerical_gradient_array(lambda x: affine_forward(x, w, b)[0], x, dout)\n",
    "dw_num = eval_numerical_gradient_array(lambda w: affine_forward(x, w, b)[0], w, dout)\n",
    "db_num = eval_numerical_gradient_array(lambda b: affine_forward(x, w, b)[0], b, dout)\n",
    "\n",
    "_, cache = affine_forward(x, w, b)\n",
    "dx, dw, db = affine_backward(dout, cache)\n",
    "\n",
    "# The error should be around 1e-10\n",
    "print 'Testing affine_backward function:'\n",
    "print 'dx error: ', rel_error(dx_num, dx)\n",
    "print 'dw error: ', rel_error(dw_num, dw)\n",
    "print 'db error: ', rel_error(db_num, db)"
   ]
  },
  {
   "cell_type": "code",
   "execution_count": 24,
   "metadata": {
    "collapsed": false
   },
   "outputs": [
    {
     "data": {
      "text/plain": [
       "(9, 1)"
      ]
     },
     "execution_count": 24,
     "metadata": {},
     "output_type": "execute_result"
    }
   ],
   "source": [
    "a=np.random.rand(3,3)\n",
    "(a.reshape(-1,1)).shape"
   ]
  },
  {
   "cell_type": "markdown",
   "metadata": {},
   "source": [
    "# ReLU layer: forward\n",
    "Implement the forward pass for the ReLU activation function in the `relu_forward` function and test your implementation using the following:"
   ]
  },
  {
   "cell_type": "code",
   "execution_count": 25,
   "metadata": {
    "collapsed": false
   },
   "outputs": [
    {
     "name": "stdout",
     "output_type": "stream",
     "text": [
      "Testing relu_forward function:\n",
      "difference:  4.99999979802e-08\n"
     ]
    }
   ],
   "source": [
    "# Test the relu_forward function\n",
    "\n",
    "x = np.linspace(-0.5, 0.5, num=12).reshape(3, 4)\n",
    "\n",
    "out, _ = relu_forward(x)\n",
    "correct_out = np.array([[ 0.,          0.,          0.,          0.,        ],\n",
    "                        [ 0.,          0.,          0.04545455,  0.13636364,],\n",
    "                        [ 0.22727273,  0.31818182,  0.40909091,  0.5,       ]])\n",
    "\n",
    "# Compare your output with ours. The error should be around 1e-8\n",
    "print 'Testing relu_forward function:'\n",
    "print 'difference: ', rel_error(out, correct_out)"
   ]
  },
  {
   "cell_type": "markdown",
   "metadata": {},
   "source": [
    "# ReLU layer: backward\n",
    "Now implement the backward pass for the ReLU activation function in the `relu_backward` function and test your implementation using numeric gradient checking:"
   ]
  },
  {
   "cell_type": "code",
   "execution_count": 40,
   "metadata": {
    "collapsed": false
   },
   "outputs": [
    {
     "name": "stdout",
     "output_type": "stream",
     "text": [
      "Testing relu_backward function:\n",
      "dx error:  1.0\n"
     ]
    }
   ],
   "source": [
    "x = np.random.randn(10, 10)\n",
    "dout = np.random.randn(*x.shape)\n",
    "\n",
    "dx_num = eval_numerical_gradient_array(lambda x: relu_forward(x)[0], x, dout)\n",
    "\n",
    "_, cache = relu_forward(x)\n",
    "dx = relu_backward(dout, cache)\n",
    "\n",
    "# The error should be around 1e-12\n",
    "print 'Testing relu_backward function:'\n",
    "print 'dx error: ', rel_error(dx_num, dx)\n",
    "\n",
    "# print 'dx'\n",
    "# print dx\n",
    "# print 'dx_num'\n",
    "# print dx_num"
   ]
  },
  {
   "cell_type": "markdown",
   "metadata": {},
   "source": [
    "# \"Sandwich\" layers\n",
    "There are some common patterns of layers that are frequently used in neural nets. For example, affine layers are frequently followed by a ReLU nonlinearity. To make these common patterns easy, we define several convenience layers in the file `cs231n/layer_utils.py`.\n",
    "\n",
    "For now take a look at the `affine_relu_forward` and `affine_relu_backward` functions, and run the following to numerically gradient check the backward pass:"
   ]
  },
  {
   "cell_type": "code",
   "execution_count": 64,
   "metadata": {
    "collapsed": false
   },
   "outputs": [
    {
     "name": "stdout",
     "output_type": "stream",
     "text": [
      "Testing affine_relu_forward:\n",
      "dx error:  8.41869661681e-10\n",
      "dw error:  3.48598365802e-09\n",
      "db error:  3.27562620889e-12\n"
     ]
    }
   ],
   "source": [
    "from cs231n.layer_utils import affine_relu_forward, affine_relu_backward\n",
    "\n",
    "x = np.random.randn(2, 3, 4)\n",
    "w = np.random.randn(12, 10)\n",
    "b = np.random.randn(10)\n",
    "dout = np.random.randn(2, 10)\n",
    "\n",
    "out, cache = affine_relu_forward(x, w, b)\n",
    "dx, dw, db = affine_relu_backward(dout, cache)\n",
    "\n",
    "dx_num = eval_numerical_gradient_array(lambda x: affine_relu_forward(x, w, b)[0], x, dout)\n",
    "dw_num = eval_numerical_gradient_array(lambda w: affine_relu_forward(x, w, b)[0], w, dout)\n",
    "db_num = eval_numerical_gradient_array(lambda b: affine_relu_forward(x, w, b)[0], b, dout)\n",
    "\n",
    "print 'Testing affine_relu_forward:'\n",
    "print 'dx error: ', rel_error(dx_num, dx)\n",
    "print 'dw error: ', rel_error(dw_num, dw)\n",
    "print 'db error: ', rel_error(db_num, db)"
   ]
  },
  {
   "cell_type": "markdown",
   "metadata": {},
   "source": [
    "# Loss layers: Softmax and SVM\n",
    "You implemented these loss functions in the last assignment, so we'll give them to you for free here. You should still make sure you understand how they work by looking at the implementations in `cs231n/layers.py`.\n",
    "\n",
    "You can make sure that the implementations are correct by running the following:"
   ]
  },
  {
   "cell_type": "code",
   "execution_count": 42,
   "metadata": {
    "collapsed": false
   },
   "outputs": [
    {
     "name": "stdout",
     "output_type": "stream",
     "text": [
      "Testing svm_loss:\n",
      "loss:  9.00002868135\n",
      "dx error:  1.40215660067e-09\n",
      "\n",
      "Testing softmax_loss:\n",
      "loss:  2.30258834371\n",
      "dx error:  7.82076493587e-09\n"
     ]
    }
   ],
   "source": [
    "num_classes, num_inputs = 10, 50\n",
    "x = 0.001 * np.random.randn(num_inputs, num_classes)\n",
    "y = np.random.randint(num_classes, size=num_inputs)\n",
    "\n",
    "dx_num = eval_numerical_gradient(lambda x: svm_loss(x, y)[0], x, verbose=False)\n",
    "loss, dx = svm_loss(x, y)\n",
    "\n",
    "# Test svm_loss function. Loss should be around 9 and dx error should be 1e-9\n",
    "print 'Testing svm_loss:'\n",
    "print 'loss: ', loss\n",
    "print 'dx error: ', rel_error(dx_num, dx)\n",
    "\n",
    "dx_num = eval_numerical_gradient(lambda x: softmax_loss(x, y)[0], x, verbose=False)\n",
    "loss, dx = softmax_loss(x, y)\n",
    "\n",
    "# Test softmax_loss function. Loss should be 2.3 and dx error should be 1e-8\n",
    "print '\\nTesting softmax_loss:'\n",
    "print 'loss: ', loss\n",
    "print 'dx error: ', rel_error(dx_num, dx)"
   ]
  },
  {
   "cell_type": "markdown",
   "metadata": {},
   "source": [
    "# Two-layer network\n",
    "In the previous assignment you implemented a two-layer neural network in a single monolithic class. Now that you have implemented modular versions of the necessary layers, you will reimplement the two layer network using these modular implementations.\n",
    "\n",
    "Open the file `cs231n/classifiers/fc_net.py` and complete the implementation of the `TwoLayerNet` class. This class will serve as a model for the other networks you will implement in this assignment, so read through it to make sure you understand the API. You can run the cell below to test your implementation."
   ]
  },
  {
   "cell_type": "code",
   "execution_count": 59,
   "metadata": {
    "collapsed": false
   },
   "outputs": [
    {
     "data": {
      "text/plain": [
       "['__class__',\n",
       " '__delattr__',\n",
       " '__dict__',\n",
       " '__doc__',\n",
       " '__format__',\n",
       " '__getattribute__',\n",
       " '__hash__',\n",
       " '__init__',\n",
       " '__module__',\n",
       " '__new__',\n",
       " '__reduce__',\n",
       " '__reduce_ex__',\n",
       " '__repr__',\n",
       " '__setattr__',\n",
       " '__sizeof__',\n",
       " '__str__',\n",
       " '__subclasshook__',\n",
       " '__weakref__',\n",
       " 'loss',\n",
       " 'params',\n",
       " 'reg']"
      ]
     },
     "execution_count": 59,
     "metadata": {},
     "output_type": "execute_result"
    }
   ],
   "source": [
    "N, D, H, C = 3, 5, 50, 7\n",
    "X = np.random.randn(N, D)\n",
    "y = np.random.randint(C, size=N)\n",
    "\n",
    "std = 1e-2\n",
    "model = TwoLayerNet(input_dim=D, hidden_dim=H, num_classes=C, weight_scale=std)\n",
    "\n",
    "dir(model)"
   ]
  },
  {
   "cell_type": "code",
   "execution_count": 81,
   "metadata": {
    "collapsed": false
   },
   "outputs": [
    {
     "name": "stdout",
     "output_type": "stream",
     "text": [
      "Testing initialization ... \n",
      "Testing test-time forward pass ... \n",
      "Testing training loss (no regularization)\n",
      "26.5948426952\n",
      "Running numeric gradient check with reg =  0.0\n",
      "W1 relative error: 1.22e-08\n",
      "W2 relative error: 3.32e-10\n",
      "b1 relative error: 8.37e-09\n",
      "b2 relative error: 2.53e-10\n",
      "Running numeric gradient check with reg =  0.7\n",
      "W1 relative error: 2.53e-07\n",
      "W2 relative error: 2.85e-08\n",
      "b1 relative error: 1.56e-08\n",
      "b2 relative error: 8.89e-10\n"
     ]
    }
   ],
   "source": [
    "N, D, H, C = 3, 5, 50, 7\n",
    "X = np.random.randn(N, D)\n",
    "y = np.random.randint(C, size=N)\n",
    "\n",
    "std = 1e-2\n",
    "model = TwoLayerNet(input_dim=D, hidden_dim=H, num_classes=C, weight_scale=std)\n",
    "\n",
    "print 'Testing initialization ... '\n",
    "W1_std = abs(model.params['W1'].std() - std)\n",
    "b1 = model.params['b1']\n",
    "W2_std = abs(model.params['W2'].std() - std)\n",
    "b2 = model.params['b2']\n",
    "assert W1_std < std / 10, 'First layer weights do not seem right'\n",
    "assert np.all(b1 == 0), 'First layer biases do not seem right'\n",
    "assert W2_std < std / 10, 'Second layer weights do not seem right'\n",
    "assert np.all(b2 == 0), 'Second layer biases do not seem right'\n",
    "\n",
    "print 'Testing test-time forward pass ... '\n",
    "model.params['W1'] = np.linspace(-0.7, 0.3, num=D*H).reshape(D, H)\n",
    "model.params['b1'] = np.linspace(-0.1, 0.9, num=H)\n",
    "model.params['W2'] = np.linspace(-0.3, 0.4, num=H*C).reshape(H, C)\n",
    "model.params['b2'] = np.linspace(-0.9, 0.1, num=C)\n",
    "X = np.linspace(-5.5, 4.5, num=N*D).reshape(D, N).T\n",
    "scores = model.loss(X)\n",
    "correct_scores = np.asarray(\n",
    "  [[11.53165108,  12.2917344,   13.05181771,  13.81190102,  14.57198434, 15.33206765,  16.09215096],\n",
    "   [12.05769098,  12.74614105,  13.43459113,  14.1230412,   14.81149128, 15.49994135,  16.18839143],\n",
    "   [12.58373087,  13.20054771,  13.81736455,  14.43418138,  15.05099822, 15.66781506,  16.2846319 ]])\n",
    "scores_diff = np.abs(scores - correct_scores).sum()\n",
    "assert scores_diff < 1e-6, 'Problem with test-time forward pass'\n",
    "\n",
    "print 'Testing training loss (no regularization)'\n",
    "y = np.asarray([0, 5, 1])\n",
    "loss, grads = model.loss(X, y)\n",
    "correct_loss = 3.4702243556\n",
    "\n",
    "assert abs(loss - correct_loss) < 1e-10, 'Problem with training-time loss'\n",
    "\n",
    "model.reg = 1.0\n",
    "loss, grads = model.loss(X, y)\n",
    "correct_loss = 26.5948426952\n",
    "print loss\n",
    "\n",
    "assert abs(loss - correct_loss) < 1e-10, 'Problem with regularization loss'\n",
    "\n",
    "for reg in [0.0, 0.7]:\n",
    "  print 'Running numeric gradient check with reg = ', reg\n",
    "  model.reg = reg\n",
    "  loss, grads = model.loss(X, y)\n",
    "\n",
    "  for name in sorted(grads):\n",
    "    f = lambda _: model.loss(X, y)[0]\n",
    "    grad_num = eval_numerical_gradient(f, model.params[name], verbose=False)\n",
    "#     print name,grad_num\n",
    "    print '%s relative error: %.2e' % (name, rel_error(grad_num, grads[name]))"
   ]
  },
  {
   "cell_type": "markdown",
   "metadata": {},
   "source": [
    "# Solver\n",
    "In the previous assignment, the logic for training models was coupled to the models themselves. Following a more modular design, for this assignment we have split the logic for training models into a separate class.\n",
    "\n",
    "Open the file `cs231n/solver.py` and read through it to familiarize yourself with the API. After doing so, use a `Solver` instance to train a `TwoLayerNet` that achieves at least `50%` accuracy on the validation set."
   ]
  },
  {
   "cell_type": "code",
   "execution_count": 85,
   "metadata": {
    "collapsed": false
   },
   "outputs": [
    {
     "name": "stdout",
     "output_type": "stream",
     "text": [
      "['X_val', 'X_train', 'X_test', 'y_val', 'y_train', 'y_test']\n",
      "(49000, 3, 32, 32)\n",
      "[0 1 2 3 4 5 6 7 8 9]\n"
     ]
    }
   ],
   "source": [
    "print data.keys()\n",
    "print data['X_train'].shape\n",
    "print np.unique(data['y_val'])"
   ]
  },
  {
   "cell_type": "code",
   "execution_count": 87,
   "metadata": {
    "collapsed": false
   },
   "outputs": [
    {
     "name": "stdout",
     "output_type": "stream",
     "text": [
      "(Iteration 1 / 4900) loss: 4.369300\n",
      "(Epoch 0 / 10) train acc: 0.129000; val_acc: 0.152000\n",
      "(Iteration 101 / 4900) loss: 1.973421\n"
     ]
    },
    {
     "ename": "KeyboardInterrupt",
     "evalue": "",
     "output_type": "error",
     "traceback": [
      "\u001b[0;31m---------------------------------------------------------------------------\u001b[0m",
      "\u001b[0;31mKeyboardInterrupt\u001b[0m                         Traceback (most recent call last)",
      "\u001b[0;32m<ipython-input-87-5c8325e3931d>\u001b[0m in \u001b[0;36m<module>\u001b[0;34m()\u001b[0m\n\u001b[1;32m     17\u001b[0m \u001b[0;31m# 50% accuracy on the validation set.                                        #\u001b[0m\u001b[0;34m\u001b[0m\u001b[0;34m\u001b[0m\u001b[0m\n\u001b[1;32m     18\u001b[0m \u001b[0;31m##############################################################################\u001b[0m\u001b[0;34m\u001b[0m\u001b[0;34m\u001b[0m\u001b[0m\n\u001b[0;32m---> 19\u001b[0;31m \u001b[0msolver\u001b[0m\u001b[0;34m.\u001b[0m\u001b[0mtrain\u001b[0m\u001b[0;34m(\u001b[0m\u001b[0;34m)\u001b[0m\u001b[0;34m\u001b[0m\u001b[0m\n\u001b[0m\u001b[1;32m     20\u001b[0m \u001b[0;31m##############################################################################\u001b[0m\u001b[0;34m\u001b[0m\u001b[0;34m\u001b[0m\u001b[0m\n\u001b[1;32m     21\u001b[0m \u001b[0;31m#                             END OF YOUR CODE                               #\u001b[0m\u001b[0;34m\u001b[0m\u001b[0;34m\u001b[0m\u001b[0m\n",
      "\u001b[0;32m/Users/animesh/Documents/cs231_new/assignment2/cs231n/solver.py\u001b[0m in \u001b[0;36mtrain\u001b[0;34m(self)\u001b[0m\n\u001b[1;32m    225\u001b[0m \u001b[0;34m\u001b[0m\u001b[0m\n\u001b[1;32m    226\u001b[0m     \u001b[0;32mfor\u001b[0m \u001b[0mt\u001b[0m \u001b[0;32min\u001b[0m \u001b[0mxrange\u001b[0m\u001b[0;34m(\u001b[0m\u001b[0mnum_iterations\u001b[0m\u001b[0;34m)\u001b[0m\u001b[0;34m:\u001b[0m\u001b[0;34m\u001b[0m\u001b[0m\n\u001b[0;32m--> 227\u001b[0;31m       \u001b[0mself\u001b[0m\u001b[0;34m.\u001b[0m\u001b[0m_step\u001b[0m\u001b[0;34m(\u001b[0m\u001b[0;34m)\u001b[0m\u001b[0;34m\u001b[0m\u001b[0m\n\u001b[0m\u001b[1;32m    228\u001b[0m \u001b[0;34m\u001b[0m\u001b[0m\n\u001b[1;32m    229\u001b[0m       \u001b[0;31m# Maybe print training loss\u001b[0m\u001b[0;34m\u001b[0m\u001b[0;34m\u001b[0m\u001b[0m\n",
      "\u001b[0;32m/Users/animesh/Documents/cs231_new/assignment2/cs231n/solver.py\u001b[0m in \u001b[0;36m_step\u001b[0;34m(self)\u001b[0m\n\u001b[1;32m    163\u001b[0m \u001b[0;34m\u001b[0m\u001b[0m\n\u001b[1;32m    164\u001b[0m     \u001b[0;31m# Compute loss and gradient\u001b[0m\u001b[0;34m\u001b[0m\u001b[0;34m\u001b[0m\u001b[0m\n\u001b[0;32m--> 165\u001b[0;31m     \u001b[0mloss\u001b[0m\u001b[0;34m,\u001b[0m \u001b[0mgrads\u001b[0m \u001b[0;34m=\u001b[0m \u001b[0mself\u001b[0m\u001b[0;34m.\u001b[0m\u001b[0mmodel\u001b[0m\u001b[0;34m.\u001b[0m\u001b[0mloss\u001b[0m\u001b[0;34m(\u001b[0m\u001b[0mX_batch\u001b[0m\u001b[0;34m,\u001b[0m \u001b[0my_batch\u001b[0m\u001b[0;34m)\u001b[0m\u001b[0;34m\u001b[0m\u001b[0m\n\u001b[0m\u001b[1;32m    166\u001b[0m     \u001b[0mself\u001b[0m\u001b[0;34m.\u001b[0m\u001b[0mloss_history\u001b[0m\u001b[0;34m.\u001b[0m\u001b[0mappend\u001b[0m\u001b[0;34m(\u001b[0m\u001b[0mloss\u001b[0m\u001b[0;34m)\u001b[0m\u001b[0;34m\u001b[0m\u001b[0m\n\u001b[1;32m    167\u001b[0m \u001b[0;34m\u001b[0m\u001b[0m\n",
      "\u001b[0;32m/Users/animesh/Documents/cs231_new/assignment2/cs231n/classifiers/fc_net.py\u001b[0m in \u001b[0;36mloss\u001b[0;34m(self, X, y)\u001b[0m\n\u001b[1;32m    124\u001b[0m     \u001b[0mb2\u001b[0m\u001b[0;34m=\u001b[0m\u001b[0mself\u001b[0m\u001b[0;34m.\u001b[0m\u001b[0mparams\u001b[0m\u001b[0;34m[\u001b[0m\u001b[0;34m\"b2\"\u001b[0m\u001b[0;34m]\u001b[0m\u001b[0;34m\u001b[0m\u001b[0m\n\u001b[1;32m    125\u001b[0m     \u001b[0;31m#adding a regularization loss\u001b[0m\u001b[0;34m\u001b[0m\u001b[0;34m\u001b[0m\u001b[0m\n\u001b[0;32m--> 126\u001b[0;31m     \u001b[0mreg_loss\u001b[0m\u001b[0;34m=\u001b[0m\u001b[0mnp\u001b[0m\u001b[0;34m.\u001b[0m\u001b[0msum\u001b[0m\u001b[0;34m(\u001b[0m\u001b[0mnp\u001b[0m\u001b[0;34m.\u001b[0m\u001b[0mpower\u001b[0m\u001b[0;34m(\u001b[0m\u001b[0mW1\u001b[0m\u001b[0;34m,\u001b[0m\u001b[0;36m2\u001b[0m\u001b[0;34m)\u001b[0m\u001b[0;34m)\u001b[0m\u001b[0;34m+\u001b[0m\u001b[0mnp\u001b[0m\u001b[0;34m.\u001b[0m\u001b[0msum\u001b[0m\u001b[0;34m(\u001b[0m\u001b[0mnp\u001b[0m\u001b[0;34m.\u001b[0m\u001b[0mpower\u001b[0m\u001b[0;34m(\u001b[0m\u001b[0mW2\u001b[0m\u001b[0;34m,\u001b[0m\u001b[0;36m2\u001b[0m\u001b[0;34m)\u001b[0m\u001b[0;34m)\u001b[0m\u001b[0;34m\u001b[0m\u001b[0m\n\u001b[0m\u001b[1;32m    127\u001b[0m     \u001b[0mloss\u001b[0m\u001b[0;34m=\u001b[0m\u001b[0mloss\u001b[0m\u001b[0;34m+\u001b[0m\u001b[0;34m(\u001b[0m\u001b[0;36m0.5\u001b[0m\u001b[0;34m*\u001b[0m\u001b[0mself\u001b[0m\u001b[0;34m.\u001b[0m\u001b[0mreg\u001b[0m\u001b[0;34m*\u001b[0m\u001b[0mreg_loss\u001b[0m\u001b[0;34m)\u001b[0m\u001b[0;34m\u001b[0m\u001b[0m\n\u001b[1;32m    128\u001b[0m \u001b[0;34m\u001b[0m\u001b[0m\n",
      "\u001b[0;31mKeyboardInterrupt\u001b[0m: "
     ]
    }
   ],
   "source": [
    "model = TwoLayerNet()\n",
    "N, D, H, C = 49000, 3*32*32, 100, 10\n",
    "std = 1e-2\n",
    "model = TwoLayerNet(input_dim=D, hidden_dim=H, num_classes=C, weight_scale=std)\n",
    "\n",
    "solver = Solver(model,data,update_rule='sgd',\n",
    "                  optim_config={\n",
    "                    'learning_rate': 1e-3,\n",
    "                  },\n",
    "                  lr_decay=0.95,\n",
    "                  num_epochs=10, batch_size=100,\n",
    "                  print_every=100)\n",
    "\n",
    "\n",
    "##############################################################################\n",
    "# TODO: Use a Solver instance to train a TwoLayerNet that achieves at least  #\n",
    "# 50% accuracy on the validation set.                                        #\n",
    "##############################################################################\n",
    "solver.train()\n",
    "##############################################################################\n",
    "#                             END OF YOUR CODE                               #\n",
    "##############################################################################"
   ]
  },
  {
   "cell_type": "code",
   "execution_count": 88,
   "metadata": {
    "collapsed": false
   },
   "outputs": [
    {
     "data": {
      "image/png": "[encoded data removed]",
      "text/plain": [
       "<matplotlib.figure.Figure at 0x1067b6dd0>"
      ]
     },
     "metadata": {},
     "output_type": "display_data"
    }
   ],
   "source": [
    "# Run this cell to visualize training loss and train / val accuracy\n",
    "\n",
    "plt.subplot(2, 1, 1)\n",
    "plt.title('Training loss')\n",
    "plt.plot(solver.loss_history, 'o')\n",
    "plt.xlabel('Iteration')\n",
    "\n",
    "plt.subplot(2, 1, 2)\n",
    "plt.title('Accuracy')\n",
    "plt.plot(solver.train_acc_history, '-o', label='train')\n",
    "plt.plot(solver.val_acc_history, '-o', label='val')\n",
    "plt.plot([0.5] * len(solver.val_acc_history), 'k--')\n",
    "plt.xlabel('Epoch')\n",
    "plt.legend(loc='lower right')\n",
    "plt.gcf().set_size_inches(15, 12)\n",
    "plt.show()"
   ]
  },
  {
   "cell_type": "markdown",
   "metadata": {},
   "source": [
    "# Multilayer network\n",
    "Next you will implement a fully-connected network with an arbitrary number of hidden layers.\n",
    "\n",
    "Read through the `FullyConnectedNet` class in the file `cs231n/classifiers/fc_net.py`.\n",
    "\n",
    "Implement the initialization, the forward pass, and the backward pass. For the moment don't worry about implementing dropout or batch normalization; we will add those features soon."
   ]
  },
  {
   "cell_type": "markdown",
   "metadata": {},
   "source": [
    "## Initial loss and gradient check"
   ]
  },
  {
   "cell_type": "markdown",
   "metadata": {},
   "source": [
    "As a sanity check, run the following to check the initial loss and to gradient check the network both with and without regularization. Do the initial losses seem reasonable?\n",
    "\n",
    "For gradient checking, you should expect to see errors around 1e-6 or less."
   ]
  },
  {
   "cell_type": "code",
   "execution_count": 142,
   "metadata": {
    "collapsed": false
   },
   "outputs": [
    {
     "name": "stdout",
     "output_type": "stream",
     "text": [
      "Running check with reg =  0\n",
      "Initial loss:  2.29271795131\n",
      "W1 relative error: 1.10e-07\n",
      "W2 relative error: 2.28e-06\n",
      "W3 relative error: 5.26e-08\n",
      "b1 relative error: 7.81e-09\n",
      "b2 relative error: 7.39e-09\n",
      "b3 relative error: 1.02e-10\n",
      "Running check with reg =  3.14\n",
      "Initial loss:  6.81180261411\n",
      "W1 relative error: 2.41e-08\n",
      "W2 relative error: 5.13e-08\n",
      "W3 relative error: 3.89e-08\n",
      "b1 relative error: 1.12e-08\n",
      "b2 relative error: 3.55e-08\n",
      "b3 relative error: 1.39e-10\n"
     ]
    }
   ],
   "source": [
    "N, D, H1, H2, C = 2, 15, 20, 30, 10\n",
    "X = np.random.randn(N, D)\n",
    "y = np.random.randint(C, size=(N,))\n",
    "\n",
    "for reg in [0, 3.14]:\n",
    "  print 'Running check with reg = ', reg\n",
    "  model = FullyConnectedNet([H1, H2], input_dim=D, num_classes=C,\n",
    "                            reg=reg, weight_scale=5e-2, dtype=np.float64)\n",
    "\n",
    "  loss, grads = model.loss(X, y)\n",
    "  print 'Initial loss: ', loss\n",
    "\n",
    "  for name in sorted(grads):\n",
    "    f = lambda _: model.loss(X, y)[0]\n",
    "    grad_num = eval_numerical_gradient(f, model.params[name], verbose=False, h=1e-5)\n",
    "    print '%s relative error: %.2e' % (name, rel_error(grad_num, grads[name]))"
   ]
  },
  {
   "cell_type": "markdown",
   "metadata": {},
   "source": [
    "As another sanity check, make sure you can overfit a small dataset of 50 images. First we will try a three-layer network with 100 units in each hidden layer. You will need to tweak the learning rate and initialization scale, but you should be able to overfit and achieve 100% training accuracy within 20 epochs."
   ]
  },
  {
   "cell_type": "code",
   "execution_count": 114,
   "metadata": {
    "collapsed": false
   },
   "outputs": [
    {
     "data": {
      "text/plain": [
       "array([0, 1, 2, 3, 4, 5, 6, 7, 8, 9])"
      ]
     },
     "execution_count": 114,
     "metadata": {},
     "output_type": "execute_result"
    }
   ],
   "source": [
    "np.unique(small_data[\"y_train\"])"
   ]
  },
  {
   "cell_type": "code",
   "execution_count": 145,
   "metadata": {
    "collapsed": false,
    "scrolled": false
   },
   "outputs": [
    {
     "name": "stdout",
     "output_type": "stream",
     "text": [
      "{'b2': array([  6.84909836e-03,  -1.29644680e-03,  -1.66732802e-02,\n",
      "        -1.44032847e-03,   1.93382838e-02,   1.12220236e-02,\n",
      "         1.34911502e-02,  -6.00191340e-03,   1.77564004e-04,\n",
      "         1.20725095e-02,  -1.45711948e-02,   2.65518016e-02,\n",
      "         1.96502108e-02,  -1.93359527e-02,  -6.79146881e-03,\n",
      "        -1.55016967e-02,   4.00565790e-02,   1.16240208e-02,\n",
      "        -2.33916427e-02,  -4.89768791e-03,   1.21165398e-03,\n",
      "        -1.03981956e-02,  -3.75012918e-03,   1.15048654e-02,\n",
      "         1.38805888e-03,   1.36379942e-02,   9.60884552e-03,\n",
      "        -9.16439770e-03,   2.97091966e-03,  -7.85546573e-03,\n",
      "         1.78052848e-02,  -1.71274405e-02,   1.83580582e-02,\n",
      "         3.80503909e-02,  -6.29721221e-03,  -7.76836688e-03,\n",
      "        -1.44058214e-02,  -3.10301232e-02,  -6.61615684e-03,\n",
      "        -8.06923462e-03,  -2.58860026e-03,  -2.91604058e-02,\n",
      "        -1.70024328e-02,   6.99582655e-03,  -2.92152115e-03,\n",
      "         4.91255706e-03,   2.19407640e-02,   8.37362498e-03,\n",
      "        -7.81631755e-03,   1.76435231e-02,  -3.42117759e-04,\n",
      "         7.68539671e-05,   3.20007719e-03,  -1.14056194e-02,\n",
      "         1.34831435e-02,   3.79499398e-02,  -1.84797549e-02,\n",
      "         5.40878687e-03,   1.47728177e-02,   4.22489539e-02,\n",
      "        -2.01746290e-02,   2.16422765e-02,  -3.36617174e-02,\n",
      "        -1.34470654e-02,  -4.26293097e-03,   9.61060522e-03,\n",
      "         3.76166824e-03,  -2.18080980e-02,   6.43202366e-04,\n",
      "        -1.69409540e-02,  -3.05571403e-02,  -1.84725985e-02,\n",
      "        -8.71965486e-03,   1.00836173e-02,   2.71996562e-02,\n",
      "        -8.60403770e-03,   7.04954105e-03,  -6.02469404e-04,\n",
      "        -2.58893744e-02,   1.59245281e-02,  -1.84006345e-02,\n",
      "         1.74827032e-02,  -8.29003453e-03,  -4.65604474e-03,\n",
      "         8.59732465e-03,  -2.53713180e-02,   4.37935014e-04,\n",
      "         1.29001290e-02,  -1.64376681e-02,   2.85821391e-02,\n",
      "         4.39954285e-03,  -3.01683172e-03,   1.34678497e-03,\n",
      "         9.79664539e-03,  -1.64115858e-02,  -1.22638707e-02,\n",
      "        -3.09472822e-02,  -1.26502229e-02,   3.67651791e-02,\n",
      "        -2.19156943e-02]), 'W3': array([[ -6.76226852e+00,   2.47721910e+00,  -1.65376882e+01,\n",
      "         -1.35123898e+00,  -6.28796632e+00,  -1.85334561e+01,\n",
      "          1.15610180e+01,   1.91743859e+01,   6.17254875e+00,\n",
      "          1.21041385e+01],\n",
      "       [  1.38530650e+00,   3.21880650e+00,   2.47061352e+01,\n",
      "         -1.29160363e+00,  -9.15389020e-02,  -7.12339130e+00,\n",
      "         -1.05366410e+01,  -3.98806618e+01,   1.35960962e+01,\n",
      "          1.59347108e+01],\n",
      "       [  1.11347550e+01,   2.44878447e+00,   1.02528949e+01,\n",
      "         -3.25908216e+00,  -1.28661213e+01,   5.43104537e+00,\n",
      "         -1.94338476e+01,  -3.80535002e+01,   1.64581056e+01,\n",
      "          2.80948135e+01],\n",
      "       [ -5.83991990e+00,  -2.11993463e+00,  -3.58223304e+01,\n",
      "         -2.24754820e+00,  -3.60956286e+00,   6.22100183e+00,\n",
      "          2.31989145e+01,   5.13175211e+01,   1.72531471e+00,\n",
      "         -3.37261916e+01],\n",
      "       [ -4.73660888e+00,  -1.30670147e+01,   1.53177741e+01,\n",
      "         -9.87379617e+00,   7.77452491e+00,   6.39911859e+00,\n",
      "         -1.16863498e+01,   3.80902295e+00,   6.57054269e+00,\n",
      "         -2.72840452e-01],\n",
      "       [  7.05845928e+00,   7.95258399e+00,   2.42683962e+01,\n",
      "          6.78110659e-01,   3.96132836e+00,   8.31088255e+00,\n",
      "         -2.62704206e+01,  -3.61088849e+01,   2.45614656e+01,\n",
      "         -1.57987002e+01],\n",
      "       [  4.57766569e+01,  -1.93178938e+00,   1.28911245e+02,\n",
      "          7.80882448e-01,   5.44105877e-01,   1.43630471e+01,\n",
      "         -5.86669317e+01,  -1.59121384e+02,   7.76888910e-01,\n",
      "          2.66109486e+01],\n",
      "       [ -6.92454934e+00,   5.14419517e+00,  -1.08876950e+01,\n",
      "          4.58633311e+00,   1.12763507e+00,   1.39668943e+01,\n",
      "         -1.20898772e+01,   3.01262476e+01,   4.90045793e+00,\n",
      "         -2.91943951e+01],\n",
      "       [  2.48366141e+01,   3.86498383e+00,   9.12590147e+01,\n",
      "         -7.49064842e-01,   2.27364096e+00,   1.75793060e+01,\n",
      "         -5.18492977e+01,  -1.00805422e+02,   3.59161807e+00,\n",
      "          9.66167539e+00],\n",
      "       [ -8.91695689e-01,   1.37279227e+00,   8.03685845e-01,\n",
      "          3.31068382e-01,   1.41781027e+00,   2.52442079e+00,\n",
      "         -1.61385110e+00,   2.00813019e+01,  -1.00855414e+01,\n",
      "         -1.19344156e+01],\n",
      "       [ -4.38591327e+00,   1.51541471e+00,  -1.90966703e+01,\n",
      "          2.03292828e+00,  -1.14053063e+00,   1.22475482e+01,\n",
      "          3.95900829e+00,   2.51901435e+01,   9.45067903e+00,\n",
      "         -2.97096957e+01],\n",
      "       [ -2.17646999e+01,  -1.79594981e+01,  -5.01808595e+01,\n",
      "         -7.92501571e+00,   4.15678039e+00,  -1.56560325e+01,\n",
      "          3.91797257e+01,   9.42501022e+01,  -1.07627547e+01,\n",
      "         -1.54081418e+01],\n",
      "       [  2.65891482e+00,  -6.57761108e+00,   6.13663905e+00,\n",
      "         -4.62203494e+00,  -7.12158610e+00,   1.99919577e+01,\n",
      "         -2.50924334e+01,   1.21774757e+01,   7.98287795e+00,\n",
      "         -6.27483945e+00],\n",
      "       [ -1.86614362e+01,   1.22055581e+01,   6.53007255e-01,\n",
      "         -1.04856027e+01,   3.35169879e+00,  -1.38862566e+01,\n",
      "         -1.58829512e+01,   1.83997377e+01,   1.49308421e+01,\n",
      "          9.78786851e+00],\n",
      "       [  4.63169731e+00,  -9.82209670e+00,   1.04584150e+01,\n",
      "          1.27226242e+00,   9.59155030e+00,   5.25386594e+00,\n",
      "         -2.69930235e-01,   1.23973429e+01,  -2.71767458e+01,\n",
      "         -6.33862176e+00],\n",
      "       [ -6.16543552e+00,   2.65857104e+00,  -4.70774657e+01,\n",
      "         -5.28652605e-01,  -2.40871792e+00,  -2.64721076e+01,\n",
      "          3.24779573e+01,   3.29073058e+01,  -6.80401912e+00,\n",
      "          2.22509399e+01],\n",
      "       [ -3.18765239e+00,  -3.17606335e+00,  -1.49500897e+01,\n",
      "          5.35613522e+00,   8.50426418e+00,   1.91067470e+00,\n",
      "          7.88060324e+00,   3.16653102e+01,  -1.68610336e+01,\n",
      "         -1.56244260e+01],\n",
      "       [  1.77057496e+01,  -2.66475292e+00,   6.44361112e+01,\n",
      "         -2.88320292e+00,  -1.16491291e+01,  -3.89719205e+00,\n",
      "         -3.13127269e+01,  -6.91996858e+01,   5.27481095e+00,\n",
      "          3.37381279e+01],\n",
      "       [  6.65199138e+00,   1.67177980e+01,   1.14434816e+01,\n",
      "          2.38587306e+00,  -1.95288425e+01,   1.00726767e+01,\n",
      "         -2.50742584e+01,   7.38436940e+00,   9.54174650e-01,\n",
      "         -1.26531222e+01],\n",
      "       [ -2.44806064e+01,   7.67217419e+00,  -6.57763927e+01,\n",
      "         -4.67375699e+00,  -1.12349707e+01,  -2.05775695e+01,\n",
      "          2.84114983e+01,   8.57370983e+01,   8.47320800e+00,\n",
      "         -1.75450221e+00],\n",
      "       [ -5.60509397e+00,   7.75931335e+00,   4.26627580e+00,\n",
      "         -5.43315369e+00,   4.29068590e+00,  -9.76355154e+00,\n",
      "         -6.68468311e+00,   6.18931045e+00,   2.74920158e+00,\n",
      "          1.50127335e+00],\n",
      "       [ -1.29604089e+01,   9.40104427e+00,  -2.54884907e+01,\n",
      "         -2.81643286e+00,  -1.24315918e+01,  -1.65265324e+01,\n",
      "          1.26313246e+01,   2.08698110e+01,   1.58748162e+00,\n",
      "          2.59480555e+01],\n",
      "       [ -9.48629781e+00,   9.31666071e-01,  -9.27616600e+00,\n",
      "         -6.31713657e+00,   1.43602635e+00,  -6.84910293e+00,\n",
      "         -7.17663149e+00,   8.95527588e+00,   1.35524053e+01,\n",
      "          1.05700391e+01],\n",
      "       [  2.68712234e+01,   1.06152034e+01,   2.85299643e+01,\n",
      "          6.43347994e+00,   1.20939202e+00,   2.90890130e+01,\n",
      "         -2.90645698e+01,  -3.40099176e+01,   5.26897210e+00,\n",
      "         -4.47490425e+01],\n",
      "       [  2.58522587e+00,  -1.93904406e+00,   8.68897053e+00,\n",
      "         -5.86835606e+00,  -9.34900812e+00,  -8.19950368e-01,\n",
      "         -4.86449027e+00,   1.45410379e+00,   4.20208146e+00,\n",
      "          7.27370255e+00],\n",
      "       [ -1.33098148e+01,   1.14366656e+01,   2.41359174e+00,\n",
      "         -5.09623653e+00,  -4.63153955e+00,  -1.15905328e+01,\n",
      "         -6.36734283e+00,   1.23279150e+01,   2.09103504e-01,\n",
      "          1.62255813e+01],\n",
      "       [ -1.33616929e+01,   4.42002769e+00,  -1.69908472e+01,\n",
      "         -5.42458757e+00,  -5.58921904e+00,  -1.74940251e+01,\n",
      "          1.34627980e+01,   2.28746500e+01,   8.35438484e+00,\n",
      "          1.13217887e+01],\n",
      "       [ -6.55867794e+00,   8.63781078e+00,   3.31691583e+01,\n",
      "         -3.96620167e+00,   1.06397452e+01,  -3.71793085e-01,\n",
      "         -3.38010603e+01,  -2.71122861e+01,   1.53276544e+01,\n",
      "          4.00182225e+00],\n",
      "       [  1.55958949e+01,   1.22172678e+01,   6.53596045e+01,\n",
      "          5.99589621e+00,  -1.91960158e+01,  -1.04054174e+01,\n",
      "         -3.85555856e+01,  -7.98534240e+01,  -7.75495356e+00,\n",
      "          5.79064708e+01],\n",
      "       [ -2.45936306e+01,   1.71900314e+00,  -5.34232707e+01,\n",
      "         -1.02060516e+01,  -1.40530848e+00,  -1.22002252e+01,\n",
      "          2.92056119e+01,   4.13770305e+01,   2.63471296e+01,\n",
      "          3.22998769e+00],\n",
      "       [ -1.74791207e+01,   2.02426688e+00,  -5.00282410e+01,\n",
      "          1.58379128e+00,  -1.08053621e+01,  -6.94285350e+00,\n",
      "          2.54692817e+01,   6.36525352e+01,  -6.20257938e+00,\n",
      "         -3.63259774e-01],\n",
      "       [ -8.81155030e+00,   8.76998025e+00,  -1.17443800e+01,\n",
      "         -2.78735783e+00,  -5.54245915e+00,  -6.48654548e+00,\n",
      "          4.06657552e+00,   2.30451404e+01,   1.20521789e+00,\n",
      "         -2.46761652e+00],\n",
      "       [  2.00970308e+00,   5.17605005e-01,   1.02135829e+01,\n",
      "         -5.38096416e+00,  -1.08503520e+01,   1.61216927e+00,\n",
      "         -2.27685261e+01,   1.89740811e+01,   3.34577352e+00,\n",
      "          3.31567626e+00],\n",
      "       [ -3.11792311e+00,  -9.20360798e-01,   1.29931432e+01,\n",
      "         -6.46370676e-01,   1.33713010e+01,   8.38724602e+00,\n",
      "         -2.00332994e+01,   1.87018309e+01,   1.92277514e-01,\n",
      "         -2.97137120e+01],\n",
      "       [  1.73394440e+01,  -1.25300734e+01,   1.93777999e+01,\n",
      "         -5.07942008e+00,   1.74642771e+01,   2.34067699e+01,\n",
      "         -1.51481227e+01,  -5.16586835e+01,   2.36021770e+01,\n",
      "         -1.49163935e+01],\n",
      "       [ -1.46160839e+01,  -1.42460630e+01,  -3.17450976e+01,\n",
      "         -7.05788398e+00,   6.97128791e-01,  -1.00902134e+01,\n",
      "          2.62870470e+01,   5.93051466e+01,  -5.67541653e+00,\n",
      "         -3.98296184e+00],\n",
      "       [ -2.08535924e-01,  -3.71387478e+00,   3.02023758e+00,\n",
      "         -2.07173458e+00,  -6.43473880e+00,  -5.44302319e+00,\n",
      "         -4.30120725e+00,  -3.87214768e+00,   1.05511785e+01,\n",
      "          1.28970906e+01],\n",
      "       [ -1.66553862e-01,  -4.98326229e-01,  -2.17509732e-01,\n",
      "          1.13168424e+00,  -5.28625749e+00,  -2.70613378e+01,\n",
      "          3.14298534e+01,  -3.31159818e+01,   2.45550246e-01,\n",
      "          3.43823422e+01],\n",
      "       [ -2.42595135e+00,  -3.79962460e+00,   2.12281136e+00,\n",
      "          3.18442558e-01,   7.25553720e+00,  -6.63354539e+00,\n",
      "         -2.16369348e+00,  -5.07684074e+00,   1.48129863e+00,\n",
      "          9.23798405e+00],\n",
      "       [ -1.05104931e+01,  -1.03653100e+01,  -1.29849418e+01,\n",
      "         -6.25149356e+00,  -6.14561738e+00,  -7.46866714e+00,\n",
      "         -2.03192247e+00,   2.99479672e+01,   9.64973054e+00,\n",
      "          1.60696369e+01],\n",
      "       [ -6.32780303e+00,  -1.30073085e+00,  -1.15395356e+01,\n",
      "         -3.36796836e+00,  -1.09411830e+01,  -7.77673348e+00,\n",
      "          1.31397735e+01,   2.17508026e+01,  -2.11797265e+00,\n",
      "          8.22969497e+00],\n",
      "       [ -2.53528648e+01,   3.77071831e+00,  -3.31556432e+01,\n",
      "         -7.13129959e+00,   5.64043339e+00,  -1.67131537e+01,\n",
      "          1.70707402e+01,   5.00748283e+01,   8.18903095e+00,\n",
      "         -2.34939398e+00],\n",
      "       [  1.04614889e+01,  -1.62453036e+01,  -4.94311303e+00,\n",
      "         -8.71489614e+00,   4.87344823e+00,   5.16031426e+00,\n",
      "         -2.98067019e+00,  -1.44998319e+00,   8.87322359e+00,\n",
      "          6.87009579e+00],\n",
      "       [ -5.77331005e+00,  -2.93113960e+00,   3.93747175e+00,\n",
      "         -3.64528525e+00,  -1.84752684e+00,   1.61150292e+01,\n",
      "         -1.96074098e+01,   2.41120530e+01,  -4.76465610e+00,\n",
      "         -6.75997524e+00],\n",
      "       [ -3.83962681e+00,  -4.17080690e+00,   5.69763742e+00,\n",
      "          1.25380480e-01,  -1.05628020e+00,   8.11349808e+00,\n",
      "         -1.82174762e+00,   4.45329147e-01,   9.03701909e+00,\n",
      "         -1.26041907e+01],\n",
      "       [  5.46544843e+00,   1.08270503e+00,   2.52917180e+01,\n",
      "         -1.36920796e+00,   1.03851716e+01,   1.25056167e+01,\n",
      "         -2.19352783e+01,  -1.47938251e+01,  -8.68201414e-01,\n",
      "         -1.56238092e+01],\n",
      "       [ -4.16869789e+00,  -9.48289305e+00,  -6.36410850e+00,\n",
      "          1.07857686e+00,   7.22620222e+00,   6.43565781e+00,\n",
      "         -8.58400197e+00,   1.42677876e+00,   3.01107931e+00,\n",
      "          9.09533796e+00],\n",
      "       [ -4.36703530e+01,  -8.76528760e-02,  -5.93953675e+01,\n",
      "         -1.10012552e+01,  -1.17806183e+01,  -3.81874699e+01,\n",
      "          4.90035245e+01,   9.39134202e+01,   1.17859156e+01,\n",
      "          9.09087927e+00],\n",
      "       [  1.38992561e+01,  -1.88541083e+00,  -1.07321845e+01,\n",
      "         -1.44091464e+00,   5.89397204e+00,   6.27271575e+00,\n",
      "          8.98234060e-01,  -1.90467985e+01,   4.07276865e+00,\n",
      "          9.10214946e-01],\n",
      "       [ -3.60116594e+00,  -9.19047486e+00,   1.43088225e+01,\n",
      "         -6.43177051e+00,   4.56005281e+00,   1.16863083e+00,\n",
      "         -1.47931908e-01,  -5.73218772e-01,   5.35890817e+00,\n",
      "         -3.76943972e+00],\n",
      "       [  2.00046094e+01,  -2.57201272e+00,   4.30874613e+01,\n",
      "          5.15266347e+00,   2.60472735e+00,   1.02641718e+01,\n",
      "         -2.38777210e+01,  -6.16292948e+01,  -7.31687399e+00,\n",
      "          1.51745351e+01],\n",
      "       [ -2.32263929e+01,  -9.79322663e+00,  -4.41098072e+01,\n",
      "         -1.43989642e+01,   1.22561628e+01,  -3.99364745e+00,\n",
      "          1.53365484e+01,   8.66085423e+01,   5.41211150e+00,\n",
      "         -2.28446080e+01],\n",
      "       [ -4.98592365e+00,  -6.06215533e+00,   1.17190386e+01,\n",
      "          4.40564894e+00,   1.65943555e+01,   1.45381316e+00,\n",
      "          7.49286646e+00,  -1.48287374e+01,  -5.73840465e+00,\n",
      "         -1.04055348e+01],\n",
      "       [  7.96610442e+00,  -2.07602319e+01,  -5.09717400e+01,\n",
      "         -1.00938852e+00,   2.52736753e+01,   1.63537737e+01,\n",
      "          2.80842414e+01,   5.05542065e+01,  -1.29697459e+01,\n",
      "         -4.21242344e+01],\n",
      "       [ -1.36689835e+00,   5.40172864e+00,   2.92949741e+01,\n",
      "          5.51911475e+00,   2.83839791e+00,  -5.27042486e+00,\n",
      "         -1.38473225e+01,  -2.45139243e+01,  -6.97256072e+00,\n",
      "          1.04751901e+01],\n",
      "       [  1.57382032e+01,  -8.03357538e+00,   6.53502074e+01,\n",
      "         -1.12355405e+00,  -7.49285006e+00,  -8.37013507e+00,\n",
      "         -1.18038950e+01,  -7.66256967e+01,  -1.83648126e+01,\n",
      "          5.08856495e+01],\n",
      "       [  1.08306542e+01,   9.35564970e-01,   1.15838604e+01,\n",
      "          2.55342540e+00,  -1.65182340e+01,  -1.82497986e+01,\n",
      "          2.33679115e+01,  -3.77322571e+01,  -3.19390592e+00,\n",
      "          2.85806253e+01],\n",
      "       [ -1.44355142e+01,   7.24476690e+00,  -4.56257158e+01,\n",
      "          5.40928894e+00,  -1.38479490e+01,  -9.44441427e+00,\n",
      "          3.60083324e+01,   5.54828907e+01,  -3.60894914e+00,\n",
      "         -1.70758617e+01],\n",
      "       [ -4.34542981e-01,  -9.81425163e-01,  -1.96040637e+01,\n",
      "         -1.21968328e+01,   2.51982949e+00,  -7.45424572e+00,\n",
      "          8.95916058e-01,   3.13861004e+01,   9.27840945e+00,\n",
      "         -2.41829023e+00],\n",
      "       [  1.39478814e+01,  -9.20145957e+00,   5.90494550e+00,\n",
      "          8.77536643e+00,   3.79578173e+00,   1.59393979e+01,\n",
      "          9.32047395e+00,  -8.02090218e-01,  -2.40982308e+01,\n",
      "         -2.43353206e+01],\n",
      "       [  1.02127442e+01,  -8.05811273e+00,  -1.93107758e+01,\n",
      "          9.86293857e-01,   2.50391303e+00,   9.85346049e+00,\n",
      "          4.64930978e+00,   3.25270846e+01,  -9.47469683e+00,\n",
      "         -2.28381934e+01],\n",
      "       [ -9.68682022e+00,  -1.45640740e+01,   4.51712243e+00,\n",
      "         -5.56602218e+00,   1.23222734e+01,   1.15910812e+01,\n",
      "         -1.29574451e+01,   1.67691138e+01,   1.17539247e+01,\n",
      "         -1.31280409e+01],\n",
      "       [  2.74145608e+01,  -1.38066431e+01,   6.37849190e+01,\n",
      "          4.69796857e+00,   1.38491903e+01,   1.44445521e+01,\n",
      "         -2.02623061e+01,  -8.46489901e+01,  -1.25842171e+01,\n",
      "          7.44098543e+00],\n",
      "       [  2.65335930e+00,  -6.56101724e+00,  -2.23242676e+00,\n",
      "         -3.79244421e-01,   1.08377101e+01,   1.83537312e+01,\n",
      "          5.27769500e+00,  -1.92937641e+01,   9.26658557e+00,\n",
      "         -1.79124017e+01],\n",
      "       [ -1.66978149e+01,   4.62895616e+00,  -4.99379836e+01,\n",
      "         -3.87507301e+00,  -1.78274026e-01,  -1.20312195e+01,\n",
      "          2.44587560e+01,   7.31544272e+01,  -1.24046734e+01,\n",
      "         -5.93506776e+00],\n",
      "       [ -2.58780046e+00,   5.29602954e+00,  -1.21023327e+01,\n",
      "         -6.02363964e+00,  -1.12598988e+00,   1.80656880e+01,\n",
      "         -1.25944050e+01,   2.77967095e+01,   1.32944150e+01,\n",
      "         -2.99955462e+01],\n",
      "       [  9.33550855e+00,  -1.90012389e+01,  -2.76605394e+00,\n",
      "          1.22836075e+00,   1.92697040e+01,   2.41673949e+00,\n",
      "          1.54012560e+01,  -2.12984972e+01,  -1.73474942e+01,\n",
      "          1.47464854e+01],\n",
      "       [ -1.54793179e+00,  -7.06059149e-01,  -1.88699178e+00,\n",
      "          1.33496717e+00,  -8.85397296e+00,  -1.23470474e+00,\n",
      "          4.30461268e+00,   4.86351313e+00,   3.84112606e+00,\n",
      "         -1.08629449e-01],\n",
      "       [ -6.18789186e+00,   3.85058177e+00,   1.55379107e+01,\n",
      "         -6.92016545e+00,  -7.45108048e+00,   5.49707043e+00,\n",
      "         -2.65418920e+01,  -1.79357435e+01,   3.68481415e+01,\n",
      "          2.69660220e+00],\n",
      "       [  2.94856741e+01,  -1.40475476e+01,   4.02197855e+01,\n",
      "         -3.16817872e+00,   2.31475149e+01,   3.14376687e+01,\n",
      "         -2.97628565e+01,  -6.26825814e+01,   4.57733477e+00,\n",
      "         -1.86188370e+01],\n",
      "       [  1.91574896e+01,  -3.29649655e+00,   3.25578260e+01,\n",
      "          1.23402192e+01,  -2.85336589e+00,  -7.36869602e+00,\n",
      "          6.36363481e+00,  -4.71002503e+01,  -2.48693871e+01,\n",
      "          1.53262478e+01],\n",
      "       [  2.82344142e+01,   2.50831497e+00,   3.99415584e+01,\n",
      "          1.36669507e+01,  -3.22922590e+00,   1.59783776e+01,\n",
      "         -2.63755012e+01,  -5.75157501e+01,  -1.36062172e+01,\n",
      "          2.73256346e-01],\n",
      "       [  3.65292782e+00,  -1.18257032e+01,  -1.81064369e+01,\n",
      "         -5.38116403e-02,   1.23773483e+00,  -1.36288345e+00,\n",
      "          3.29292994e+00,   1.28174869e+01,  -9.31931671e+00,\n",
      "          1.91839602e+01],\n",
      "       [  2.23783077e+01,  -1.28717725e+01,   3.93187645e+01,\n",
      "         -3.09511695e+00,   2.67631209e+00,  -7.53958604e+00,\n",
      "         -2.06365668e+01,  -4.81086749e+01,  -4.17307092e+00,\n",
      "          3.21078892e+01],\n",
      "       [ -6.12165171e+00,   1.57687373e+00,  -3.03971391e+01,\n",
      "         -3.03363914e-01,  -9.51621474e+00,   2.15589247e+00,\n",
      "          1.48693421e+01,   2.90043044e+01,  -4.91347480e+00,\n",
      "          3.92076609e+00],\n",
      "       [  7.30026946e+00,  -1.03256283e+01,   4.17506695e+00,\n",
      "          2.19744275e+00,   1.82776354e+01,   1.24614384e+01,\n",
      "          3.41088218e+00,  -1.64706935e+01,  -2.48807797e+00,\n",
      "         -1.86645238e+01],\n",
      "       [ -1.59750141e+01,   1.29748835e+00,  -3.58472596e+00,\n",
      "         -4.62312158e+00,  -4.71565882e+00,  -1.33277798e+01,\n",
      "          1.23382277e+01,   2.52707839e+01,   3.06731934e+00,\n",
      "         -3.55695330e-01],\n",
      "       [ -6.57617906e-01,  -2.01433106e+00,  -9.26126762e+00,\n",
      "         -3.61563787e+00,   1.91173711e+00,  -3.37587744e+00,\n",
      "          8.06057917e+00,   4.37600179e+00,   9.41229697e+00,\n",
      "         -3.92657787e+00],\n",
      "       [  6.59947909e+00,  -1.47668622e+01,  -1.55579280e+01,\n",
      "         -2.26459849e+00,   2.44328104e+01,   2.44051291e+01,\n",
      "         -1.11151215e+01,   2.66975073e+01,  -6.37925999e+00,\n",
      "         -3.35279208e+01],\n",
      "       [ -1.22065887e+01,   3.10689870e-01,  -3.50833188e+00,\n",
      "         -6.58509032e+00,   4.16078017e+00,  -5.77262619e+00,\n",
      "         -5.10270355e+00,   1.86700445e+01,   1.53457331e+01,\n",
      "         -3.63206416e+00],\n",
      "       [  1.47445334e+01,  -1.40211937e+01,   2.75670089e+01,\n",
      "          4.11062081e-02,   5.22496196e+00,   7.83437031e+00,\n",
      "         -2.59613531e+00,  -3.67343518e+01,  -1.28175228e+01,\n",
      "          1.03476314e+01],\n",
      "       [  1.86282911e+01,   1.24300865e+00,   3.11701468e+01,\n",
      "          8.10189960e+00,   4.89809025e+00,   5.03949184e+00,\n",
      "         -1.20902863e+01,  -6.72669870e+01,  -9.72960641e+00,\n",
      "          2.10885474e+01],\n",
      "       [  1.54086895e+01,   5.44466678e+00,  -1.95712206e+01,\n",
      "          1.22735606e+00,   7.37314169e-01,   1.72484760e+01,\n",
      "         -7.39256369e+00,  -8.31012136e+00,   4.02802914e+00,\n",
      "         -9.79642656e+00],\n",
      "       [ -2.52743235e+01,   1.40728714e+01,  -6.73395332e+01,\n",
      "          1.19586527e+00,  -2.13938156e+01,  -9.60223253e+00,\n",
      "          1.85908506e+01,   8.77582900e+01,   9.23162994e+00,\n",
      "         -7.11814631e+00],\n",
      "       [  1.74656565e+01,   3.90308947e-01,   5.67567359e+01,\n",
      "          3.65383866e-01,  -9.28127112e+00,   1.13505265e+01,\n",
      "         -3.54772804e+01,  -6.77374394e+01,   6.96515121e+00,\n",
      "          1.98337907e+01],\n",
      "       [  1.84012787e+01,   4.89108170e+00,   5.99959782e+01,\n",
      "          7.06329148e+00,   3.88010548e+00,   5.23703394e+00,\n",
      "         -2.08421230e+01,  -9.34388525e+01,  -6.55592446e-01,\n",
      "          1.52754874e+01],\n",
      "       [ -2.61404447e+01,  -5.03294304e+00,  -2.21250594e+01,\n",
      "         -1.50303933e+01,   1.10968671e+01,  -1.07561640e+01,\n",
      "          9.00399753e+00,   5.37097385e+01,   1.75867354e+01,\n",
      "         -1.26795270e+01],\n",
      "       [ -1.63705235e+01,  -1.29933021e+01,  -2.27766401e+01,\n",
      "          1.09150611e+00,   1.88117210e+01,  -9.37309191e+00,\n",
      "          3.46613011e+01,   3.78918868e+01,  -1.24969170e+01,\n",
      "         -1.95711465e+01],\n",
      "       [  7.59732882e+00,   1.54415928e-01,  -1.79874242e+01,\n",
      "          7.26239259e+00,   2.33112659e+00,   7.33213516e+00,\n",
      "          6.56339808e+00,   1.64045307e+01,  -5.67377403e+00,\n",
      "         -2.57101697e+01],\n",
      "       [  1.32879654e+01,  -6.42260377e+00,   7.49538249e+00,\n",
      "          4.95949748e+00,   1.36547834e+01,   8.48329644e+00,\n",
      "         -2.85314528e+00,  -1.78073042e+01,  -3.58416323e+00,\n",
      "         -1.84331890e+01],\n",
      "       [  1.72444370e+01,  -1.37167446e+01,   3.81950845e+01,\n",
      "          7.72678318e+00,   8.75482193e+00,   1.71696538e+01,\n",
      "         -1.19959962e+01,  -4.55835696e+01,  -9.56229887e+00,\n",
      "         -6.41257802e+00],\n",
      "       [ -1.70539729e+01,   8.69901325e+00,  -2.08926220e+01,\n",
      "          2.80459480e+00,  -5.08987999e+00,  -1.67340829e+01,\n",
      "          2.02567006e+01,   4.19483416e+01,  -7.33035785e+00,\n",
      "         -7.12784927e+00],\n",
      "       [ -2.19371162e+01,   2.67939000e+00,  -3.56078969e+01,\n",
      "         -9.66299608e+00,  -3.10187649e+00,  -1.01492677e+01,\n",
      "          1.37771700e+01,   5.66379281e+01,   1.60441304e+01,\n",
      "         -8.19092109e+00],\n",
      "       [  7.61811982e+00,   1.34427781e+01,   1.29028405e+01,\n",
      "          3.14846398e+00,   2.63264688e+00,   6.44920680e+00,\n",
      "         -1.68389712e+01,  -2.67472115e+01,   8.57806613e+00,\n",
      "         -1.08670443e+01],\n",
      "       [ -1.53609468e+01,   9.18320312e+00,  -7.29850387e+01,\n",
      "         -1.22806305e+00,  -7.62859000e+00,  -2.34046118e+00,\n",
      "          2.19669227e+01,   8.70703186e+01,   1.70421209e+01,\n",
      "         -3.54197858e+01],\n",
      "       [ -5.63906272e+00,   5.45996362e+00,  -3.37787329e+01,\n",
      "          3.64725729e+00,  -1.35512560e+01,  -1.96519155e+00,\n",
      "          3.80082220e+01,   4.01801186e+01,  -1.98326071e+01,\n",
      "         -1.19431206e+01],\n",
      "       [  4.31156359e+00,   3.77154412e+00,   1.00410839e+01,\n",
      "          6.96009824e+00,  -8.04464479e+00,  -2.33417172e+00,\n",
      "          4.64425242e+00,  -1.68550230e+01,  -7.32727450e+00,\n",
      "          2.39216101e+00],\n",
      "       [  3.48319354e+01,  -6.28403529e+00,   7.61776825e+01,\n",
      "          6.33272651e+00,   1.68211153e+01,   2.76758131e+01,\n",
      "         -3.23655924e+01,  -1.13975869e+02,  -1.09573140e+01,\n",
      "         -6.91801178e-01],\n",
      "       [  1.24577490e+01,   4.93692557e+00,   3.40664713e+01,\n",
      "         -1.38976995e-01,  -2.66685647e+00,  -2.58828495e+00,\n",
      "         -1.53477509e+01,  -3.32232247e+01,  -1.41428764e+00,\n",
      "          3.54936769e+00],\n",
      "       [  2.34031936e+00,   1.77502881e+00,   1.77628315e+01,\n",
      "          6.69201060e+00,  -8.87164425e+00,  -1.55079097e+01,\n",
      "          2.25605274e+00,  -2.21847759e+01,  -1.53218347e+01,\n",
      "          3.06706032e+01]]), 'b1': array([ 0.03281388, -0.00758424,  0.00697501,  0.01876526, -0.00205434,\n",
      "       -0.01263564, -0.00942148, -0.01268661,  0.00304983, -0.00809288,\n",
      "       -0.03583315, -0.00057594, -0.01945405, -0.00251141,  0.01286655,\n",
      "       -0.00981085,  0.03117744,  0.00675714, -0.00333738,  0.01181138,\n",
      "        0.01243544, -0.01567162, -0.0216018 , -0.0202189 , -0.01870177,\n",
      "       -0.01873528, -0.00226424,  0.01009069,  0.01879527, -0.01606402,\n",
      "       -0.01597046,  0.00726357,  0.01052331, -0.00783288,  0.00700554,\n",
      "       -0.04210976, -0.01960613,  0.00958619, -0.0072683 , -0.00847639,\n",
      "        0.0107901 , -0.00782746, -0.01234454,  0.00518612,  0.01064283,\n",
      "        0.00961579, -0.00187801,  0.00286837, -0.02745517,  0.01689353,\n",
      "       -0.01544158,  0.01723987, -0.01374083, -0.01620492,  0.01415568,\n",
      "       -0.00582868,  0.01919367,  0.02873136,  0.00962186,  0.00073094,\n",
      "        0.02630939, -0.0152701 ,  0.00155311, -0.02196225, -0.00248706,\n",
      "        0.00239591, -0.00365409,  0.0022663 ,  0.00779549, -0.00580443,\n",
      "       -0.00014718,  0.01175225,  0.00842957, -0.00042863, -0.00273304,\n",
      "        0.01038596, -0.00389479, -0.02147017, -0.02696779,  0.00201129,\n",
      "       -0.00578166, -0.02559275, -0.0165312 , -0.0103297 ,  0.0025199 ,\n",
      "       -0.00605417,  0.01404798,  0.01855895,  0.01439529,  0.00724673,\n",
      "       -0.01277921, -0.00844587,  0.01682463, -0.01929326, -0.02225264,\n",
      "       -0.01579151, -0.00637969,  0.01998693, -0.01767259,  0.00820325]), 'W1': array([[-3.28508825,  0.13032265,  0.57070674, ..., -1.90569686,\n",
      "        -0.22677379,  1.61897404],\n",
      "       [-3.0344376 ,  0.11736621,  0.87508384, ..., -1.87491166,\n",
      "         0.28882641,  0.97905066],\n",
      "       [-3.0615116 , -0.25652486,  0.61762263, ..., -1.72229275,\n",
      "        -0.43424917,  1.81671991],\n",
      "       ..., \n",
      "       [-2.05394239,  1.00121361,  0.8228051 , ..., -1.77442493,\n",
      "        -0.47662943,  1.12813913],\n",
      "       [-2.53489867,  0.49592285,  0.49707009, ..., -1.57441968,\n",
      "        -0.3501603 ,  0.85754053],\n",
      "       [-2.16172224,  0.92090382,  1.0822931 , ..., -1.13462851,\n",
      "        -0.41228967,  1.5607591 ]]), 'b3': array([ 0.00416697, -0.08545442,  0.09482154, -0.08502912,  0.02288511,\n",
      "       -0.01553528, -0.0173164 ,  0.1036071 , -0.02125924, -0.00088625]), 'W2': array([[ -0.19401904,  -6.10885938,   5.39277746, ...,  -0.56515809,\n",
      "         -2.10170828,   0.72262876],\n",
      "       [ -1.21179735,  -1.75364895,  -8.28523288, ...,  -3.80924049,\n",
      "         -1.6897033 ,   1.05919706],\n",
      "       [  2.26800159,  16.15619638,  -0.10284781, ...,   3.14431516,\n",
      "          2.88145679,  -5.22510892],\n",
      "       ..., \n",
      "       [  2.85667529,   7.92220741,   4.08268593, ...,   3.20125128,\n",
      "          1.13483226,  -2.6743629 ],\n",
      "       [ -3.93915007,  -6.68367419,  -8.08940974, ...,  -1.77123035,\n",
      "         -3.0112171 ,   1.32702774],\n",
      "       [  5.34972288,  23.59423003,   2.79153162, ...,   4.11194781,\n",
      "          8.19281054,  -5.43554215]])}\n"
     ]
    }
   ],
   "source": [
    "# TODO: Use a three-layer Net to overfit 50 training examples.\n",
    "\n",
    "N = 50\n",
    "small_data = {\n",
    "  'X_train': data['X_train'][:num_train],\n",
    "  'y_train': data['y_train'][:num_train],\n",
    "  'X_val': data['X_val'],\n",
    "  'y_val': data['y_val'],\n",
    "}\n",
    "\n",
    "\n",
    "\n",
    "N, D, H1, H2, C =2,3*32*32,100,100,10\n",
    "\n",
    "weight_scale = 1e-1\n",
    "learning_rate = 1e-2\n",
    "\n",
    "model = FullyConnectedNet([H1, H2], input_dim=D, num_classes=C,\n",
    "                            reg=reg, weight_scale=1e-1, dtype=np.float64)\n",
    "\n",
    "# # N, D, H1, H2, C = 2, 15, 20, 30, 10\n",
    "# model = FullyConnectedNet([100, 100],\n",
    "#               weight_scale=weight_scale, dtype=np.float64)\n",
    "solver = Solver(model, small_data,\n",
    "                print_every=10, num_epochs=20, batch_size=25,\n",
    "                update_rule='sgd',\n",
    "                optim_config={\n",
    "                  'learning_rate': learning_rate,\n",
    "                }\n",
    "         )\n",
    "# solver.train()\n",
    "\n",
    "l,_=model.loss(data[\"X_val\"],data[\"y_val\"])\n",
    "print l\n",
    "\n",
    "# plt.plot(solver.loss_history, 'o')\n",
    "# plt.title('Training loss history')\n",
    "# plt.xlabel('Iteration')\n",
    "# plt.ylabel('Training loss')\n",
    "# plt.show()"
   ]
  },
  {
   "cell_type": "markdown",
   "metadata": {},
   "source": [
    "Now try to use a five-layer network with 100 units on each layer to overfit 50 training examples. Again you will have to adjust the learning rate and weight initialization, but you should be able to achieve 100% training accuracy within 20 epochs."
   ]
  },
  {
   "cell_type": "code",
   "execution_count": 104,
   "metadata": {
    "collapsed": false
   },
   "outputs": [
    {
     "name": "stdout",
     "output_type": "stream",
     "text": [
      "param name  (3072, 100)\n",
      "param name  (100, 100)\n",
      "param name  (100, 100)\n",
      "param name  (100, 100)\n",
      "param name  (100, 10)\n"
     ]
    },
    {
     "ename": "KeyError",
     "evalue": "'b5'",
     "output_type": "error",
     "traceback": [
      "\u001b[0;31m---------------------------------------------------------------------------\u001b[0m",
      "\u001b[0;31mKeyError\u001b[0m                                  Traceback (most recent call last)",
      "\u001b[0;32m<ipython-input-104-031bffc86387>\u001b[0m in \u001b[0;36m<module>\u001b[0;34m()\u001b[0m\n\u001b[1;32m     20\u001b[0m                 }\n\u001b[1;32m     21\u001b[0m          )\n\u001b[0;32m---> 22\u001b[0;31m \u001b[0msolver\u001b[0m\u001b[0;34m.\u001b[0m\u001b[0mtrain\u001b[0m\u001b[0;34m(\u001b[0m\u001b[0;34m)\u001b[0m\u001b[0;34m\u001b[0m\u001b[0m\n\u001b[0m\u001b[1;32m     23\u001b[0m \u001b[0;34m\u001b[0m\u001b[0m\n\u001b[1;32m     24\u001b[0m \u001b[0mplt\u001b[0m\u001b[0;34m.\u001b[0m\u001b[0mplot\u001b[0m\u001b[0;34m(\u001b[0m\u001b[0msolver\u001b[0m\u001b[0;34m.\u001b[0m\u001b[0mloss_history\u001b[0m\u001b[0;34m,\u001b[0m \u001b[0;34m'o'\u001b[0m\u001b[0;34m)\u001b[0m\u001b[0;34m\u001b[0m\u001b[0m\n",
      "\u001b[0;32m/Users/animesh/Documents/cs231_new/assignment2/cs231n/solver.py\u001b[0m in \u001b[0;36mtrain\u001b[0;34m(self)\u001b[0m\n\u001b[1;32m    225\u001b[0m \u001b[0;34m\u001b[0m\u001b[0m\n\u001b[1;32m    226\u001b[0m     \u001b[0;32mfor\u001b[0m \u001b[0mt\u001b[0m \u001b[0;32min\u001b[0m \u001b[0mxrange\u001b[0m\u001b[0;34m(\u001b[0m\u001b[0mnum_iterations\u001b[0m\u001b[0;34m)\u001b[0m\u001b[0;34m:\u001b[0m\u001b[0;34m\u001b[0m\u001b[0m\n\u001b[0;32m--> 227\u001b[0;31m       \u001b[0mself\u001b[0m\u001b[0;34m.\u001b[0m\u001b[0m_step\u001b[0m\u001b[0;34m(\u001b[0m\u001b[0;34m)\u001b[0m\u001b[0;34m\u001b[0m\u001b[0m\n\u001b[0m\u001b[1;32m    228\u001b[0m \u001b[0;34m\u001b[0m\u001b[0m\n\u001b[1;32m    229\u001b[0m       \u001b[0;31m# Maybe print training loss\u001b[0m\u001b[0;34m\u001b[0m\u001b[0;34m\u001b[0m\u001b[0m\n",
      "\u001b[0;32m/Users/animesh/Documents/cs231_new/assignment2/cs231n/solver.py\u001b[0m in \u001b[0;36m_step\u001b[0;34m(self)\u001b[0m\n\u001b[1;32m    168\u001b[0m     \u001b[0;31m# Perform a parameter update\u001b[0m\u001b[0;34m\u001b[0m\u001b[0;34m\u001b[0m\u001b[0m\n\u001b[1;32m    169\u001b[0m     \u001b[0;32mfor\u001b[0m \u001b[0mp\u001b[0m\u001b[0;34m,\u001b[0m \u001b[0mw\u001b[0m \u001b[0;32min\u001b[0m \u001b[0mself\u001b[0m\u001b[0;34m.\u001b[0m\u001b[0mmodel\u001b[0m\u001b[0;34m.\u001b[0m\u001b[0mparams\u001b[0m\u001b[0;34m.\u001b[0m\u001b[0miteritems\u001b[0m\u001b[0;34m(\u001b[0m\u001b[0;34m)\u001b[0m\u001b[0;34m:\u001b[0m\u001b[0;34m\u001b[0m\u001b[0m\n\u001b[0;32m--> 170\u001b[0;31m       \u001b[0mdw\u001b[0m \u001b[0;34m=\u001b[0m \u001b[0mgrads\u001b[0m\u001b[0;34m[\u001b[0m\u001b[0mp\u001b[0m\u001b[0;34m]\u001b[0m\u001b[0;34m\u001b[0m\u001b[0m\n\u001b[0m\u001b[1;32m    171\u001b[0m       \u001b[0mconfig\u001b[0m \u001b[0;34m=\u001b[0m \u001b[0mself\u001b[0m\u001b[0;34m.\u001b[0m\u001b[0moptim_configs\u001b[0m\u001b[0;34m[\u001b[0m\u001b[0mp\u001b[0m\u001b[0;34m]\u001b[0m\u001b[0;34m\u001b[0m\u001b[0m\n\u001b[1;32m    172\u001b[0m       \u001b[0mnext_w\u001b[0m\u001b[0;34m,\u001b[0m \u001b[0mnext_config\u001b[0m \u001b[0;34m=\u001b[0m \u001b[0mself\u001b[0m\u001b[0;34m.\u001b[0m\u001b[0mupdate_rule\u001b[0m\u001b[0;34m(\u001b[0m\u001b[0mw\u001b[0m\u001b[0;34m,\u001b[0m \u001b[0mdw\u001b[0m\u001b[0;34m,\u001b[0m \u001b[0mconfig\u001b[0m\u001b[0;34m)\u001b[0m\u001b[0;34m\u001b[0m\u001b[0m\n",
      "\u001b[0;31mKeyError\u001b[0m: 'b5'"
     ]
    }
   ],
   "source": [
    "# TODO: Use a five-layer Net to overfit 50 training examples.\n",
    "\n",
    "num_train = 50\n",
    "small_data = {\n",
    "  'X_train': data['X_train'][:num_train],\n",
    "  'y_train': data['y_train'][:num_train],\n",
    "  'X_val': data['X_val'],\n",
    "  'y_val': data['y_val'],\n",
    "}\n",
    "\n",
    "learning_rate = 1e-3\n",
    "weight_scale = 1e-5\n",
    "model = FullyConnectedNet([100, 100, 100, 100],\n",
    "                weight_scale=weight_scale, dtype=np.float64)\n",
    "solver = Solver(model, small_data,\n",
    "                print_every=10, num_epochs=20, batch_size=25,\n",
    "                update_rule='sgd',\n",
    "                optim_config={\n",
    "                  'learning_rate': learning_rate,\n",
    "                }\n",
    "         )\n",
    "solver.train()\n",
    "\n",
    "plt.plot(solver.loss_history, 'o')\n",
    "plt.title('Training loss history')\n",
    "plt.xlabel('Iteration')\n",
    "plt.ylabel('Training loss')\n",
    "plt.show()"
   ]
  },
  {
   "cell_type": "markdown",
   "metadata": {},
   "source": [
    "# Inline question: \n",
    "Did you notice anything about the comparative difficulty of training the three-layer net vs training the five layer net?\n",
    "\n",
    "# Answer:\n",
    "[FILL THIS IN]\n",
    "\n",
    "the running time increase quite a lot.\n"
   ]
  },
  {
   "cell_type": "markdown",
   "metadata": {},
   "source": [
    "# Update rules\n",
    "So far we have used vanilla stochastic gradient descent (SGD) as our update rule. More sophisticated update rules can make it easier to train deep networks. We will implement a few of the most commonly used update rules and compare them to vanilla SGD."
   ]
  },
  {
   "cell_type": "markdown",
   "metadata": {},
   "source": [
    "# SGD+Momentum\n",
    "Stochastic gradient descent with momentum is a widely used update rule that tends to make deep networks converge faster than vanilla stochstic gradient descent.\n",
    "\n",
    "Open the file `cs231n/optim.py` and read the documentation at the top of the file to make sure you understand the API. Implement the SGD+momentum update rule in the function `sgd_momentum` and run the following to check your implementation. You should see errors less than 1e-8."
   ]
  },
  {
   "cell_type": "code",
   "execution_count": null,
   "metadata": {
    "collapsed": false
   },
   "outputs": [],
   "source": [
    "from cs231n.optim import sgd_momentum\n",
    "\n",
    "N, D = 4, 5\n",
    "w = np.linspace(-0.4, 0.6, num=N*D).reshape(N, D)\n",
    "dw = np.linspace(-0.6, 0.4, num=N*D).reshape(N, D)\n",
    "v = np.linspace(0.6, 0.9, num=N*D).reshape(N, D)\n",
    "\n",
    "config = {'learning_rate': 1e-3, 'velocity': v}\n",
    "next_w, _ = sgd_momentum(w, dw, config=config)\n",
    "\n",
    "expected_next_w = np.asarray([\n",
    "  [ 0.1406,      0.20738947,  0.27417895,  0.34096842,  0.40775789],\n",
    "  [ 0.47454737,  0.54133684,  0.60812632,  0.67491579,  0.74170526],\n",
    "  [ 0.80849474,  0.87528421,  0.94207368,  1.00886316,  1.07565263],\n",
    "  [ 1.14244211,  1.20923158,  1.27602105,  1.34281053,  1.4096    ]])\n",
    "expected_velocity = np.asarray([\n",
    "  [ 0.5406,      0.55475789,  0.56891579, 0.58307368,  0.59723158],\n",
    "  [ 0.61138947,  0.62554737,  0.63970526,  0.65386316,  0.66802105],\n",
    "  [ 0.68217895,  0.69633684,  0.71049474,  0.72465263,  0.73881053],\n",
    "  [ 0.75296842,  0.76712632,  0.78128421,  0.79544211,  0.8096    ]])\n",
    "\n",
    "print 'next_w error: ', rel_error(next_w, expected_next_w)\n",
    "print 'velocity error: ', rel_error(expected_velocity, config['velocity'])"
   ]
  },
  {
   "cell_type": "markdown",
   "metadata": {},
   "source": [
    "Once you have done so, run the following to train a six-layer network with both SGD and SGD+momentum. You should see the SGD+momentum update rule converge faster."
   ]
  },
  {
   "cell_type": "code",
   "execution_count": null,
   "metadata": {
    "collapsed": false,
    "scrolled": false
   },
   "outputs": [],
   "source": [
    "num_train = 4000\n",
    "small_data = {\n",
    "  'X_train': data['X_train'][:num_train],\n",
    "  'y_train': data['y_train'][:num_train],\n",
    "  'X_val': data['X_val'],\n",
    "  'y_val': data['y_val'],\n",
    "}\n",
    "\n",
    "solvers = {}\n",
    "\n",
    "for update_rule in ['sgd', 'sgd_momentum']:\n",
    "  print 'running with ', update_rule\n",
    "  model = FullyConnectedNet([100, 100, 100, 100, 100], weight_scale=5e-2)\n",
    "\n",
    "  solver = Solver(model, small_data,\n",
    "                  num_epochs=5, batch_size=100,\n",
    "                  update_rule=update_rule,\n",
    "                  optim_config={\n",
    "                    'learning_rate': 1e-2,\n",
    "                  },\n",
    "                  verbose=True)\n",
    "  solvers[update_rule] = solver\n",
    "  solver.train()\n",
    "  print\n",
    "\n",
    "plt.subplot(3, 1, 1)\n",
    "plt.title('Training loss')\n",
    "plt.xlabel('Iteration')\n",
    "\n",
    "plt.subplot(3, 1, 2)\n",
    "plt.title('Training accuracy')\n",
    "plt.xlabel('Epoch')\n",
    "\n",
    "plt.subplot(3, 1, 3)\n",
    "plt.title('Validation accuracy')\n",
    "plt.xlabel('Epoch')\n",
    "\n",
    "for update_rule, solver in solvers.iteritems():\n",
    "  plt.subplot(3, 1, 1)\n",
    "  plt.plot(solver.loss_history, 'o', label=update_rule)\n",
    "  \n",
    "  plt.subplot(3, 1, 2)\n",
    "  plt.plot(solver.train_acc_history, '-o', label=update_rule)\n",
    "\n",
    "  plt.subplot(3, 1, 3)\n",
    "  plt.plot(solver.val_acc_history, '-o', label=update_rule)\n",
    "  \n",
    "for i in [1, 2, 3]:\n",
    "  plt.subplot(3, 1, i)\n",
    "  plt.legend(loc='upper center', ncol=4)\n",
    "plt.gcf().set_size_inches(15, 15)\n",
    "plt.show()"
   ]
  },
  {
   "cell_type": "markdown",
   "metadata": {},
   "source": [
    "# RMSProp and Adam\n",
    "RMSProp [1] and Adam [2] are update rules that set per-parameter learning rates by using a running average of the second moments of gradients.\n",
    "\n",
    "In the file `cs231n/optim.py`, implement the RMSProp update rule in the `rmsprop` function and implement the Adam update rule in the `adam` function, and check your implementations using the tests below.\n",
    "\n",
    "[1] Tijmen Tieleman and Geoffrey Hinton. \"Lecture 6.5-rmsprop: Divide the gradient by a running average of its recent magnitude.\" COURSERA: Neural Networks for Machine Learning 4 (2012).\n",
    "\n",
    "[2] Diederik Kingma and Jimmy Ba, \"Adam: A Method for Stochastic Optimization\", ICLR 2015."
   ]
  },
  {
   "cell_type": "code",
   "execution_count": null,
   "metadata": {
    "collapsed": false
   },
   "outputs": [],
   "source": [
    "# Test RMSProp implementation; you should see errors less than 1e-7\n",
    "from cs231n.optim import rmsprop\n",
    "\n",
    "N, D = 4, 5\n",
    "w = np.linspace(-0.4, 0.6, num=N*D).reshape(N, D)\n",
    "dw = np.linspace(-0.6, 0.4, num=N*D).reshape(N, D)\n",
    "cache = np.linspace(0.6, 0.9, num=N*D).reshape(N, D)\n",
    "\n",
    "config = {'learning_rate': 1e-2, 'cache': cache}\n",
    "next_w, _ = rmsprop(w, dw, config=config)\n",
    "\n",
    "expected_next_w = np.asarray([\n",
    "  [-0.39223849, -0.34037513, -0.28849239, -0.23659121, -0.18467247],\n",
    "  [-0.132737,   -0.08078555, -0.02881884,  0.02316247,  0.07515774],\n",
    "  [ 0.12716641,  0.17918792,  0.23122175,  0.28326742,  0.33532447],\n",
    "  [ 0.38739248,  0.43947102,  0.49155973,  0.54365823,  0.59576619]])\n",
    "expected_cache = np.asarray([\n",
    "  [ 0.5976,      0.6126277,   0.6277108,   0.64284931,  0.65804321],\n",
    "  [ 0.67329252,  0.68859723,  0.70395734,  0.71937285,  0.73484377],\n",
    "  [ 0.75037008,  0.7659518,   0.78158892,  0.79728144,  0.81302936],\n",
    "  [ 0.82883269,  0.84469141,  0.86060554,  0.87657507,  0.8926    ]])\n",
    "\n",
    "print 'next_w error: ', rel_error(expected_next_w, next_w)\n",
    "print 'cache error: ', rel_error(expected_cache, config['cache'])"
   ]
  },
  {
   "cell_type": "code",
   "execution_count": null,
   "metadata": {
    "collapsed": false
   },
   "outputs": [],
   "source": [
    "# Test Adam implementation; you should see errors around 1e-7 or less\n",
    "from cs231n.optim import adam\n",
    "\n",
    "N, D = 4, 5\n",
    "w = np.linspace(-0.4, 0.6, num=N*D).reshape(N, D)\n",
    "dw = np.linspace(-0.6, 0.4, num=N*D).reshape(N, D)\n",
    "m = np.linspace(0.6, 0.9, num=N*D).reshape(N, D)\n",
    "v = np.linspace(0.7, 0.5, num=N*D).reshape(N, D)\n",
    "\n",
    "config = {'learning_rate': 1e-2, 'm': m, 'v': v, 't': 5}\n",
    "next_w, _ = adam(w, dw, config=config)\n",
    "\n",
    "expected_next_w = np.asarray([\n",
    "  [-0.40094747, -0.34836187, -0.29577703, -0.24319299, -0.19060977],\n",
    "  [-0.1380274,  -0.08544591, -0.03286534,  0.01971428,  0.0722929],\n",
    "  [ 0.1248705,   0.17744702,  0.23002243,  0.28259667,  0.33516969],\n",
    "  [ 0.38774145,  0.44031188,  0.49288093,  0.54544852,  0.59801459]])\n",
    "expected_v = np.asarray([\n",
    "  [ 0.69966,     0.68908382,  0.67851319,  0.66794809,  0.65738853,],\n",
    "  [ 0.64683452,  0.63628604,  0.6257431,   0.61520571,  0.60467385,],\n",
    "  [ 0.59414753,  0.58362676,  0.57311152,  0.56260183,  0.55209767,],\n",
    "  [ 0.54159906,  0.53110598,  0.52061845,  0.51013645,  0.49966,   ]])\n",
    "expected_m = np.asarray([\n",
    "  [ 0.48,        0.49947368,  0.51894737,  0.53842105,  0.55789474],\n",
    "  [ 0.57736842,  0.59684211,  0.61631579,  0.63578947,  0.65526316],\n",
    "  [ 0.67473684,  0.69421053,  0.71368421,  0.73315789,  0.75263158],\n",
    "  [ 0.77210526,  0.79157895,  0.81105263,  0.83052632,  0.85      ]])\n",
    "\n",
    "print 'next_w error: ', rel_error(expected_next_w, next_w)\n",
    "print 'v error: ', rel_error(expected_v, config['v'])\n",
    "print 'm error: ', rel_error(expected_m, config['m'])"
   ]
  },
  {
   "cell_type": "markdown",
   "metadata": {},
   "source": [
    "Once you have debugged your RMSProp and Adam implementations, run the following to train a pair of deep networks using these new update rules:"
   ]
  },
  {
   "cell_type": "code",
   "execution_count": null,
   "metadata": {
    "collapsed": false
   },
   "outputs": [],
   "source": [
    "learning_rates = {'rmsprop': 1e-4, 'adam': 1e-3}\n",
    "for update_rule in ['adam', 'rmsprop']:\n",
    "  print 'running with ', update_rule\n",
    "  model = FullyConnectedNet([100, 100, 100, 100, 100], weight_scale=5e-2)\n",
    "\n",
    "  solver = Solver(model, small_data,\n",
    "                  num_epochs=5, batch_size=100,\n",
    "                  update_rule=update_rule,\n",
    "                  optim_config={\n",
    "                    'learning_rate': learning_rates[update_rule]\n",
    "                  },\n",
    "                  verbose=True)\n",
    "  solvers[update_rule] = solver\n",
    "  solver.train()\n",
    "  print\n",
    "\n",
    "plt.subplot(3, 1, 1)\n",
    "plt.title('Training loss')\n",
    "plt.xlabel('Iteration')\n",
    "\n",
    "plt.subplot(3, 1, 2)\n",
    "plt.title('Training accuracy')\n",
    "plt.xlabel('Epoch')\n",
    "\n",
    "plt.subplot(3, 1, 3)\n",
    "plt.title('Validation accuracy')\n",
    "plt.xlabel('Epoch')\n",
    "\n",
    "for update_rule, solver in solvers.iteritems():\n",
    "  plt.subplot(3, 1, 1)\n",
    "  plt.plot(solver.loss_history, 'o', label=update_rule)\n",
    "  \n",
    "  plt.subplot(3, 1, 2)\n",
    "  plt.plot(solver.train_acc_history, '-o', label=update_rule)\n",
    "\n",
    "  plt.subplot(3, 1, 3)\n",
    "  plt.plot(solver.val_acc_history, '-o', label=update_rule)\n",
    "  \n",
    "for i in [1, 2, 3]:\n",
    "  plt.subplot(3, 1, i)\n",
    "  plt.legend(loc='upper center', ncol=4)\n",
    "plt.gcf().set_size_inches(15, 15)\n",
    "plt.show()"
   ]
  },
  {
   "cell_type": "markdown",
   "metadata": {},
   "source": [
    "# Train a good model!\n",
    "Train the best fully-connected model that you can on CIFAR-10, storing your best model in the `best_model` variable. We require you to get at least 50% accuracy on the validation set using a fully-connected net.\n",
    "\n",
    "If you are careful it should be possible to get accuracies above 55%, but we don't require it for this part and won't assign extra credit for doing so. Later in the assignment we will ask you to train the best convolutional network that you can on CIFAR-10, and we would prefer that you spend your effort working on convolutional nets rather than fully-connected nets.\n",
    "\n",
    "You might find it useful to complete the `BatchNormalization.ipynb` and `Dropout.ipynb` notebooks before completing this part, since those techniques can help you train powerful models."
   ]
  },
  {
   "cell_type": "code",
   "execution_count": null,
   "metadata": {
    "collapsed": false,
    "scrolled": false
   },
   "outputs": [],
   "source": [
    "best_model = None\n",
    "################################################################################\n",
    "# TODO: Train the best FullyConnectedNet that you can on CIFAR-10. You might   #\n",
    "# batch normalization and dropout useful. Store your best model in the         #\n",
    "# best_model variable.                                                         #\n",
    "################################################################################\n",
    "pass\n",
    "################################################################################\n",
    "#                              END OF YOUR CODE                                #\n",
    "################################################################################"
   ]
  },
  {
   "cell_type": "markdown",
   "metadata": {},
   "source": [
    "# Test you model\n",
    "Run your best model on the validation and test sets. You should achieve above 50% accuracy on the validation set."
   ]
  },
  {
   "cell_type": "code",
   "execution_count": null,
   "metadata": {
    "collapsed": false
   },
   "outputs": [],
   "source": [
    "y_test_pred = np.argmax(best_model.loss(X_test), axis=1)\n",
    "y_val_pred = np.argmax(best_model.loss(X_val), axis=1)\n",
    "print 'Validation set accuracy: ', (y_val_pred == y_val).mean()\n",
    "print 'Test set accuracy: ', (y_test_pred == y_test).mean()"
   ]
  }
 ],
 "metadata": {
  "kernelspec": {
   "display_name": "Python 2",
   "language": "python",
   "name": "python2"
  },
  "language_info": {
   "codemirror_mode": {
    "name": "ipython",
    "version": 2
   },
   "file_extension": ".py",
   "mimetype": "text/x-python",
   "name": "python",
   "nbconvert_exporter": "python",
   "pygments_lexer": "ipython2",
   "version": "2.7.10"
  }
 },
 "nbformat": 4,
 "nbformat_minor": 0
}
