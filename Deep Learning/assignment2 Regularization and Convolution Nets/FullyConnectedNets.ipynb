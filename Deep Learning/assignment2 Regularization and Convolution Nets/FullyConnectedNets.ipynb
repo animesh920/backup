{
 "cells": [
  {
   "cell_type": "markdown",
   "metadata": {},
   "source": [
    "# Fully-Connected Neural Nets\n",
    "In the previous homework you implemented a fully-connected two-layer neural network on CIFAR-10. The implementation was simple but not very modular since the loss and gradient were computed in a single monolithic function. This is manageable for a simple two-layer network, but would become impractical as we move to bigger models. Ideally we want to build networks using a more modular design so that we can implement different layer types in isolation and then snap them together into models with different architectures.\n",
    "\n",
    "In this exercise we will implement fully-connected networks using a more modular approach. For each layer we will implement a `forward` and a `backward` function. The `forward` function will receive inputs, weights, and other parameters and will return both an output and a `cache` object storing data needed for the backward pass, like this:\n",
    "\n",
    "```python\n",
    "def layer_forward(x, w):\n",
    "  \"\"\" Receive inputs x and weights w \"\"\"\n",
    "  # Do some computations ...\n",
    "  z = # ... some intermediate value\n",
    "  # Do some more computations ...\n",
    "  out = # the output\n",
    "   \n",
    "  cache = (x, w, z, out) # Values we need to compute gradients\n",
    "   \n",
    "  return out, cache\n",
    "```\n",
    "\n",
    "The backward pass will receive upstream derivatives and the `cache` object, and will return gradients with respect to the inputs and weights, like this:\n",
    "\n",
    "```python\n",
    "def layer_backward(dout, cache):\n",
    "  \"\"\"\n",
    "  Receive derivative of loss with respect to outputs and cache,\n",
    "  and compute derivative with respect to inputs.\n",
    "  \"\"\"\n",
    "  # Unpack cache values\n",
    "  x, w, z, out = cache\n",
    "  \n",
    "  # Use values in cache to compute derivatives\n",
    "  dx = # Derivative of loss with respect to x\n",
    "  dw = # Derivative of loss with respect to w\n",
    "  \n",
    "  return dx, dw\n",
    "```\n",
    "\n",
    "After implementing a bunch of layers this way, we will be able to easily combine them to build classifiers with different architectures.\n",
    "\n",
    "In addition to implementing fully-connected networks of arbitrary depth, we will also explore different update rules for optimization, and introduce Dropout as a regularizer and Batch Normalization as a tool to more efficiently optimize deep networks.\n",
    "  "
   ]
  },
  {
   "cell_type": "code",
   "execution_count": 17,
   "metadata": {
    "collapsed": false
   },
   "outputs": [
    {
     "name": "stdout",
     "output_type": "stream",
     "text": [
      "The autoreload extension is already loaded. To reload it, use:\n",
      "  %reload_ext autoreload\n"
     ]
    }
   ],
   "source": [
    "# As usual, a bit of setup\n",
    "\n",
    "import time\n",
    "import numpy as np\n",
    "import matplotlib.pyplot as plt\n",
    "from cs231n.classifiers.fc_net import *\n",
    "from cs231n.data_utils import get_CIFAR10_data\n",
    "from cs231n.gradient_check import eval_numerical_gradient, eval_numerical_gradient_array\n",
    "from cs231n.solver import Solver\n",
    "\n",
    "%matplotlib inline\n",
    "plt.rcParams['figure.figsize'] = (10.0, 8.0) # set default size of plots\n",
    "plt.rcParams['image.interpolation'] = 'nearest'\n",
    "plt.rcParams['image.cmap'] = 'gray'\n",
    "\n",
    "# for auto-reloading external modules\n",
    "# see http://stackoverflow.com/questions/1907993/autoreload-of-modules-in-ipython\n",
    "%load_ext autoreload\n",
    "%autoreload 2\n",
    "\n",
    "def rel_error(x, y):\n",
    "  \"\"\" returns relative error \"\"\"\n",
    "  return np.max(np.abs(x - y) / (np.maximum(1e-8, np.abs(x) + np.abs(y))))"
   ]
  },
  {
   "cell_type": "code",
   "execution_count": 18,
   "metadata": {
    "collapsed": false
   },
   "outputs": [
    {
     "name": "stdout",
     "output_type": "stream",
     "text": [
      "X_val:  (1000, 3, 32, 32)\n",
      "X_train:  (49000, 3, 32, 32)\n",
      "X_test:  (1000, 3, 32, 32)\n",
      "y_val:  (1000,)\n",
      "y_train:  (49000,)\n",
      "y_test:  (1000,)\n"
     ]
    }
   ],
   "source": [
    "# Load the (preprocessed) CIFAR10 data.\n",
    "\n",
    "data = get_CIFAR10_data()\n",
    "for k, v in data.iteritems():\n",
    "  print '%s: ' % k, v.shape"
   ]
  },
  {
   "cell_type": "markdown",
   "metadata": {},
   "source": [
    "# Affine layer: foward\n",
    "Open the file `cs231n/layers.py` and implement the `affine_forward` function.\n",
    "\n",
    "Once you are done you can test your implementaion by running the following:"
   ]
  },
  {
   "cell_type": "code",
   "execution_count": 19,
   "metadata": {
    "collapsed": false
   },
   "outputs": [
    {
     "name": "stdout",
     "output_type": "stream",
     "text": [
      "Testing affine_forward function:\n",
      "difference:  9.76984772881e-10\n"
     ]
    }
   ],
   "source": [
    "# Test the affine_forward function\n",
    "\n",
    "num_inputs = 2\n",
    "input_shape = (4, 5, 6)\n",
    "output_dim = 3\n",
    "\n",
    "input_size = num_inputs * np.prod(input_shape)\n",
    "weight_size = output_dim * np.prod(input_shape)\n",
    "\n",
    "x = np.linspace(-0.1, 0.5, num=input_size).reshape(num_inputs, *input_shape)\n",
    "w = np.linspace(-0.2, 0.3, num=weight_size).reshape(np.prod(input_shape), output_dim)\n",
    "b = np.linspace(-0.3, 0.1, num=output_dim)\n",
    "\n",
    "out, _ = affine_forward(x, w, b)\n",
    "correct_out = np.array([[ 1.49834967,  1.70660132,  1.91485297],\n",
    "                        [ 3.25553199,  3.5141327,   3.77273342]])\n",
    "\n",
    "# Compare your output with ours. The error should be around 1e-9.\n",
    "print 'Testing affine_forward function:'\n",
    "print 'difference: ', rel_error(out, correct_out)"
   ]
  },
  {
   "cell_type": "markdown",
   "metadata": {},
   "source": [
    "# Affine layer: backward\n",
    "Now implement the `affine_backward` function and test your implementation using numeric gradient checking."
   ]
  },
  {
   "cell_type": "code",
   "execution_count": 20,
   "metadata": {
    "collapsed": false
   },
   "outputs": [
    {
     "name": "stdout",
     "output_type": "stream",
     "text": [
      "Testing affine_backward function:\n",
      "dx error:  2.60862092241e-10\n",
      "dw error:  8.82078619002e-10\n",
      "db error:  6.68092618985e-11\n"
     ]
    }
   ],
   "source": [
    "# Test the affine_backward function\n",
    "\n",
    "x = np.random.randn(10, 2, 3)\n",
    "w = np.random.randn(6, 5)\n",
    "b = np.random.randn(5)\n",
    "dout = np.random.randn(10, 5)\n",
    "\n",
    "dx_num = eval_numerical_gradient_array(lambda x: affine_forward(x, w, b)[0], x, dout)\n",
    "dw_num = eval_numerical_gradient_array(lambda w: affine_forward(x, w, b)[0], w, dout)\n",
    "db_num = eval_numerical_gradient_array(lambda b: affine_forward(x, w, b)[0], b, dout)\n",
    "\n",
    "_, cache = affine_forward(x, w, b)\n",
    "dx, dw, db = affine_backward(dout, cache)\n",
    "\n",
    "# The error should be around 1e-10\n",
    "print 'Testing affine_backward function:'\n",
    "print 'dx error: ', rel_error(dx_num, dx)\n",
    "print 'dw error: ', rel_error(dw_num, dw)\n",
    "print 'db error: ', rel_error(db_num, db)"
   ]
  },
  {
   "cell_type": "markdown",
   "metadata": {},
   "source": [
    "# ReLU layer: forward\n",
    "Implement the forward pass for the ReLU activation function in the `relu_forward` function and test your implementation using the following:"
   ]
  },
  {
   "cell_type": "code",
   "execution_count": 21,
   "metadata": {
    "collapsed": false
   },
   "outputs": [
    {
     "name": "stdout",
     "output_type": "stream",
     "text": [
      "Testing relu_forward function:\n",
      "difference:  4.99999979802e-08\n"
     ]
    }
   ],
   "source": [
    "# Test the relu_forward function\n",
    "\n",
    "x = np.linspace(-0.5, 0.5, num=12).reshape(3, 4)\n",
    "\n",
    "out, _ = relu_forward(x)\n",
    "correct_out = np.array([[ 0.,          0.,          0.,          0.,        ],\n",
    "                        [ 0.,          0.,          0.04545455,  0.13636364,],\n",
    "                        [ 0.22727273,  0.31818182,  0.40909091,  0.5,       ]])\n",
    "\n",
    "# Compare your output with ours. The error should be around 1e-8\n",
    "print 'Testing relu_forward function:'\n",
    "print 'difference: ', rel_error(out, correct_out)"
   ]
  },
  {
   "cell_type": "markdown",
   "metadata": {},
   "source": [
    "# ReLU layer: backward\n",
    "Now implement the backward pass for the ReLU activation function in the `relu_backward` function and test your implementation using numeric gradient checking:"
   ]
  },
  {
   "cell_type": "code",
   "execution_count": 22,
   "metadata": {
    "collapsed": false
   },
   "outputs": [
    {
     "name": "stdout",
     "output_type": "stream",
     "text": [
      "Testing relu_backward function:\n",
      "dx error:  3.27561128887e-12\n"
     ]
    }
   ],
   "source": [
    "x = np.random.randn(10, 10)\n",
    "dout = np.random.randn(*x.shape)\n",
    "\n",
    "dx_num = eval_numerical_gradient_array(lambda x: relu_forward(x)[0], x, dout)\n",
    "\n",
    "_, cache = relu_forward(x)\n",
    "dx = relu_backward(dout, cache)\n",
    "\n",
    "# The error should be around 1e-12\n",
    "print 'Testing relu_backward function:'\n",
    "print 'dx error: ', rel_error(dx_num, dx)\n",
    "\n",
    "# print 'dx'\n",
    "# print dx\n",
    "# print 'dx_num'\n",
    "# print dx_num"
   ]
  },
  {
   "cell_type": "markdown",
   "metadata": {},
   "source": [
    "# \"Sandwich\" layers\n",
    "There are some common patterns of layers that are frequently used in neural nets. For example, affine layers are frequently followed by a ReLU nonlinearity. To make these common patterns easy, we define several convenience layers in the file `cs231n/layer_utils.py`.\n",
    "\n",
    "For now take a look at the `affine_relu_forward` and `affine_relu_backward` functions, and run the following to numerically gradient check the backward pass:"
   ]
  },
  {
   "cell_type": "code",
   "execution_count": 23,
   "metadata": {
    "collapsed": false
   },
   "outputs": [
    {
     "name": "stdout",
     "output_type": "stream",
     "text": [
      "Testing affine_relu_forward:\n",
      "dx error:  7.89664032844e-11\n",
      "dw error:  2.84659166999e-09\n",
      "db error:  1.22057774121e-11\n"
     ]
    }
   ],
   "source": [
    "from cs231n.layer_utils import affine_relu_forward, affine_relu_backward\n",
    "\n",
    "x = np.random.randn(2, 3, 4)\n",
    "w = np.random.randn(12, 10)\n",
    "b = np.random.randn(10)\n",
    "dout = np.random.randn(2, 10)\n",
    "\n",
    "out, cache = affine_relu_forward(x, w, b)\n",
    "dx, dw, db = affine_relu_backward(dout, cache)\n",
    "\n",
    "dx_num = eval_numerical_gradient_array(lambda x: affine_relu_forward(x, w, b)[0], x, dout)\n",
    "dw_num = eval_numerical_gradient_array(lambda w: affine_relu_forward(x, w, b)[0], w, dout)\n",
    "db_num = eval_numerical_gradient_array(lambda b: affine_relu_forward(x, w, b)[0], b, dout)\n",
    "\n",
    "print 'Testing affine_relu_forward:'\n",
    "print 'dx error: ', rel_error(dx_num, dx)\n",
    "print 'dw error: ', rel_error(dw_num, dw)\n",
    "print 'db error: ', rel_error(db_num, db)"
   ]
  },
  {
   "cell_type": "markdown",
   "metadata": {},
   "source": [
    "# Loss layers: Softmax and SVM\n",
    "You implemented these loss functions in the last assignment, so we'll give them to you for free here. You should still make sure you understand how they work by looking at the implementations in `cs231n/layers.py`.\n",
    "\n",
    "You can make sure that the implementations are correct by running the following:"
   ]
  },
  {
   "cell_type": "code",
   "execution_count": 24,
   "metadata": {
    "collapsed": false
   },
   "outputs": [
    {
     "name": "stdout",
     "output_type": "stream",
     "text": [
      "Testing svm_loss:\n",
      "loss:  9.00010206606\n",
      "dx error:  1.40215660067e-09\n",
      "\n",
      "Testing softmax_loss:\n",
      "loss:  2.30259572777\n",
      "dx error:  8.24099302611e-09\n"
     ]
    }
   ],
   "source": [
    "num_classes, num_inputs = 10, 50\n",
    "x = 0.001 * np.random.randn(num_inputs, num_classes)\n",
    "y = np.random.randint(num_classes, size=num_inputs)\n",
    "\n",
    "dx_num = eval_numerical_gradient(lambda x: svm_loss(x, y)[0], x, verbose=False)\n",
    "loss, dx = svm_loss(x, y)\n",
    "\n",
    "# Test svm_loss function. Loss should be around 9 and dx error should be 1e-9\n",
    "print 'Testing svm_loss:'\n",
    "print 'loss: ', loss\n",
    "print 'dx error: ', rel_error(dx_num, dx)\n",
    "\n",
    "dx_num = eval_numerical_gradient(lambda x: softmax_loss(x, y)[0], x, verbose=False)\n",
    "loss, dx = softmax_loss(x, y)\n",
    "\n",
    "# Test softmax_loss function. Loss should be 2.3 and dx error should be 1e-8\n",
    "print '\\nTesting softmax_loss:'\n",
    "print 'loss: ', loss\n",
    "print 'dx error: ', rel_error(dx_num, dx)"
   ]
  },
  {
   "cell_type": "markdown",
   "metadata": {},
   "source": [
    "# Two-layer network\n",
    "In the previous assignment you implemented a two-layer neural network in a single monolithic class. Now that you have implemented modular versions of the necessary layers, you will reimplement the two layer network using these modular implementations.\n",
    "\n",
    "Open the file `cs231n/classifiers/fc_net.py` and complete the implementation of the `TwoLayerNet` class. This class will serve as a model for the other networks you will implement in this assignment, so read through it to make sure you understand the API. You can run the cell below to test your implementation."
   ]
  },
  {
   "cell_type": "code",
   "execution_count": 25,
   "metadata": {
    "collapsed": false
   },
   "outputs": [
    {
     "name": "stdout",
     "output_type": "stream",
     "text": [
      "Testing initialization ... \n",
      "Testing test-time forward pass ... \n",
      "Testing training loss (no regularization)\n",
      "4.60875781982e-12\n",
      "26.5948426952\n",
      "Running numeric gradient check with reg =  0.0\n",
      "W1 relative error: 1.22e-08\n",
      "W2 relative error: 3.32e-10\n",
      "b1 relative error: 8.37e-09\n",
      "b2 relative error: 2.53e-10\n",
      "Running numeric gradient check with reg =  0.7\n",
      "W1 relative error: 2.53e-07\n",
      "W2 relative error: 7.98e-08\n",
      "b1 relative error: 1.56e-08\n",
      "b2 relative error: 8.89e-10\n"
     ]
    }
   ],
   "source": [
    "N, D, H, C = 3, 5, 50, 7\n",
    "X = np.random.randn(N, D)\n",
    "y = np.random.randint(C, size=N)\n",
    "\n",
    "std = 1e-2\n",
    "model = TwoLayerNet(input_dim=D, hidden_dim=H, num_classes=C, weight_scale=std)\n",
    "\n",
    "print 'Testing initialization ... '\n",
    "W1_std = abs(model.params['W1'].std() - std)\n",
    "b1 = model.params['b1']\n",
    "W2_std = abs(model.params['W2'].std() - std)\n",
    "b2 = model.params['b2']\n",
    "assert W1_std < std / 10, 'First layer weights do not seem right'\n",
    "assert np.all(b1 == 0), 'First layer biases do not seem right'\n",
    "assert W2_std < std / 10, 'Second layer weights do not seem right'\n",
    "assert np.all(b2 == 0), 'Second layer biases do not seem right'\n",
    "\n",
    "print 'Testing test-time forward pass ... '\n",
    "model.params['W1'] = np.linspace(-0.7, 0.3, num=D*H).reshape(D, H)\n",
    "model.params['b1'] = np.linspace(-0.1, 0.9, num=H)\n",
    "model.params['W2'] = np.linspace(-0.3, 0.4, num=H*C).reshape(H, C)\n",
    "model.params['b2'] = np.linspace(-0.9, 0.1, num=C)\n",
    "X = np.linspace(-5.5, 4.5, num=N*D).reshape(D, N).T\n",
    "scores = model.loss(X)\n",
    "\n",
    "correct_scores = np.asarray(\n",
    "  [[11.53165108,  12.2917344,   13.05181771,  13.81190102,  14.57198434, 15.33206765,  16.09215096],\n",
    "   [12.05769098,  12.74614105,  13.43459113,  14.1230412,   14.81149128, 15.49994135,  16.18839143],\n",
    "   [12.58373087,  13.20054771,  13.81736455,  14.43418138,  15.05099822, 15.66781506,  16.2846319 ]])\n",
    "scores_diff = np.abs(scores - correct_scores).sum()\n",
    "\n",
    "assert scores_diff < 1e-6, 'Problem with test-time forward pass'\n",
    "\n",
    "print 'Testing training loss (no regularization)'\n",
    "y = np.asarray([0, 5, 1])\n",
    "loss, grads = model.loss(X, y)\n",
    "correct_loss = 3.4702243556\n",
    "\n",
    "print abs(loss-correct_loss)\n",
    "\n",
    "assert abs(loss - correct_loss) < 1e-5, 'Problem with training-time loss'\n",
    "\n",
    "\n",
    "\n",
    "model.reg = 1.0\n",
    "loss, grads = model.loss(X, y)\n",
    "correct_loss = 26.5948426952\n",
    "print loss\n",
    "\n",
    "assert abs(loss - correct_loss) < 1e-5, 'Problem with regularization loss'\n",
    "\n",
    "for reg in [0.0, 0.7]:\n",
    "  print 'Running numeric gradient check with reg = ', reg\n",
    "  model.reg = reg\n",
    "  loss, grads = model.loss(X, y)\n",
    "\n",
    "  for name in sorted(grads):\n",
    "    f = lambda _: model.loss(X, y)[0]\n",
    "    grad_num = eval_numerical_gradient(f, model.params[name], verbose=False)\n",
    "#     print name,grad_num\n",
    "    print '%s relative error: %.2e' % (name, rel_error(grad_num, grads[name]))"
   ]
  },
  {
   "cell_type": "markdown",
   "metadata": {},
   "source": [
    "# Solver\n",
    "In the previous assignment, the logic for training models was coupled to the models themselves. Following a more modular design, for this assignment we have split the logic for training models into a separate class.\n",
    "\n",
    "Open the file `cs231n/solver.py` and read through it to familiarize yourself with the API. After doing so, use a `Solver` instance to train a `TwoLayerNet` that achieves at least `50%` accuracy on the validation set."
   ]
  },
  {
   "cell_type": "code",
   "execution_count": 10,
   "metadata": {
    "collapsed": false
   },
   "outputs": [
    {
     "name": "stdout",
     "output_type": "stream",
     "text": [
      "(Iteration 1 / 4900) loss: 4.371242\n",
      "(Epoch 0 / 10) train acc: 0.126000; val_acc: 0.133000\n",
      "(Iteration 101 / 4900) loss: 1.971824\n",
      "(Iteration 201 / 4900) loss: 1.689238\n",
      "(Iteration 301 / 4900) loss: 1.812625\n",
      "(Iteration 401 / 4900) loss: 1.691766\n",
      "(Epoch 1 / 10) train acc: 0.410000; val_acc: 0.380000\n",
      "(Iteration 501 / 4900) loss: 1.595343\n",
      "(Iteration 601 / 4900) loss: 1.736370\n",
      "(Iteration 701 / 4900) loss: 1.646017\n",
      "(Iteration 801 / 4900) loss: 1.713669\n",
      "(Iteration 901 / 4900) loss: 1.854787\n",
      "(Epoch 2 / 10) train acc: 0.412000; val_acc: 0.405000\n",
      "(Iteration 1001 / 4900) loss: 1.573703\n",
      "(Iteration 1101 / 4900) loss: 1.588204\n",
      "(Iteration 1201 / 4900) loss: 1.616695\n",
      "(Iteration 1301 / 4900) loss: 1.782520\n",
      "(Iteration 1401 / 4900) loss: 1.558715\n",
      "(Epoch 3 / 10) train acc: 0.470000; val_acc: 0.467000\n",
      "(Iteration 1501 / 4900) loss: 1.628704\n",
      "(Iteration 1601 / 4900) loss: 1.447854\n",
      "(Iteration 1701 / 4900) loss: 1.485944\n",
      "(Iteration 1801 / 4900) loss: 1.637100\n",
      "(Iteration 1901 / 4900) loss: 1.442026\n",
      "(Epoch 4 / 10) train acc: 0.511000; val_acc: 0.460000\n",
      "(Iteration 2001 / 4900) loss: 1.477914\n",
      "(Iteration 2101 / 4900) loss: 1.467941\n",
      "(Iteration 2201 / 4900) loss: 1.540659\n",
      "(Iteration 2301 / 4900) loss: 1.429791\n",
      "(Iteration 2401 / 4900) loss: 1.483058\n",
      "(Epoch 5 / 10) train acc: 0.511000; val_acc: 0.494000\n",
      "(Iteration 2501 / 4900) loss: 1.437162\n",
      "(Iteration 2601 / 4900) loss: 1.301830\n",
      "(Iteration 2701 / 4900) loss: 1.612932\n",
      "(Iteration 2801 / 4900) loss: 1.581175\n",
      "(Iteration 2901 / 4900) loss: 1.527212\n",
      "(Epoch 6 / 10) train acc: 0.508000; val_acc: 0.470000\n",
      "(Iteration 3001 / 4900) loss: 1.483164\n",
      "(Iteration 3101 / 4900) loss: 1.216007\n",
      "(Iteration 3201 / 4900) loss: 1.397998\n",
      "(Iteration 3301 / 4900) loss: 1.269054\n",
      "(Iteration 3401 / 4900) loss: 1.428210\n",
      "(Epoch 7 / 10) train acc: 0.532000; val_acc: 0.493000\n",
      "(Iteration 3501 / 4900) loss: 1.499194\n",
      "(Iteration 3601 / 4900) loss: 1.447880\n",
      "(Iteration 3701 / 4900) loss: 1.374657\n",
      "(Iteration 3801 / 4900) loss: 1.322152\n",
      "(Iteration 3901 / 4900) loss: 1.416379\n",
      "(Epoch 8 / 10) train acc: 0.525000; val_acc: 0.492000\n",
      "(Iteration 4001 / 4900) loss: 1.425260\n",
      "(Iteration 4101 / 4900) loss: 1.200854\n",
      "(Iteration 4201 / 4900) loss: 1.308535\n",
      "(Iteration 4301 / 4900) loss: 1.509429\n",
      "(Iteration 4401 / 4900) loss: 1.312975\n",
      "(Epoch 9 / 10) train acc: 0.570000; val_acc: 0.466000\n",
      "(Iteration 4501 / 4900) loss: 1.174618\n",
      "(Iteration 4601 / 4900) loss: 1.104086\n",
      "(Iteration 4701 / 4900) loss: 1.169970\n",
      "(Iteration 4801 / 4900) loss: 1.350194\n",
      "(Epoch 10 / 10) train acc: 0.572000; val_acc: 0.503000\n"
     ]
    }
   ],
   "source": [
    "model = TwoLayerNet()\n",
    "N, D, H, C = 49000, 3*32*32, 100, 10\n",
    "std = 1e-2\n",
    "model = TwoLayerNet(input_dim=D, hidden_dim=H, num_classes=C, weight_scale=std)\n",
    "\n",
    "solver = Solver(model,data,update_rule='sgd',\n",
    "                  optim_config={\n",
    "                    'learning_rate': 1e-3,\n",
    "                  },\n",
    "                  lr_decay=0.95,\n",
    "                  num_epochs=10, batch_size=100,\n",
    "                  print_every=100)\n",
    "\n",
    "\n",
    "##############################################################################\n",
    "# TODO: Use a Solver instance to train a TwoLayerNet that achieves at least  #\n",
    "# 50% accuracy on the validation set.                                        #\n",
    "##############################################################################\n",
    "solver.train()\n",
    "##############################################################################\n",
    "#                             END OF YOUR CODE                               #\n",
    "##############################################################################"
   ]
  },
  {
   "cell_type": "code",
   "execution_count": 12,
   "metadata": {
    "collapsed": false
   },
   "outputs": [
    {
     "data": {
      "image/png": "[encoded data removed]",
      "text/plain": [
       "<matplotlib.figure.Figure at 0x10b951450>"
      ]
     },
     "metadata": {},
     "output_type": "display_data"
    }
   ],
   "source": [
    "# Run this cell to visualize training loss and train / val accuracy\n",
    "\n",
    "plt.subplot(2, 1, 1)\n",
    "plt.title('Training loss')\n",
    "plt.plot(solver.loss_history, 'o')\n",
    "plt.xlabel('Iteration')\n",
    "\n",
    "plt.subplot(2, 1, 2)\n",
    "plt.title('Accuracy')\n",
    "plt.plot(solver.train_acc_history, '-o', label='train')\n",
    "plt.plot(solver.val_acc_history, '-o', label='val')\n",
    "plt.plot([0.5] * len(solver.val_acc_history), 'k--')\n",
    "plt.xlabel('Epoch')\n",
    "plt.legend(loc='lower right')\n",
    "plt.gcf().set_size_inches(15, 12)\n",
    "plt.show()"
   ]
  },
  {
   "cell_type": "raw",
   "metadata": {},
   "source": [
    "Now i am able to write a two layer network correctly, this correctness i am getting is via manually finding dX,dW. With manual computation the nn seems to be working. I am going to try the same 2 layer network but this time with the modular design approach to see if i get the same result or not. "
   ]
  },
  {
   "cell_type": "code",
   "execution_count": 39,
   "metadata": {
    "collapsed": false
   },
   "outputs": [
    {
     "name": "stdout",
     "output_type": "stream",
     "text": [
      "(Iteration 1 / 4900) loss: 4.688406\n",
      "(Epoch 0 / 10) train acc: 0.134000; val_acc: 0.143000\n",
      "(Iteration 101 / 4900) loss: 1.970679\n",
      "(Iteration 201 / 4900) loss: 1.825401\n",
      "(Iteration 301 / 4900) loss: 1.926463\n",
      "(Iteration 401 / 4900) loss: 1.751887\n",
      "(Epoch 1 / 10) train acc: 0.416000; val_acc: 0.413000\n",
      "(Iteration 501 / 4900) loss: 1.531889\n",
      "(Iteration 601 / 4900) loss: 1.740570\n",
      "(Iteration 701 / 4900) loss: 1.501695\n",
      "(Iteration 801 / 4900) loss: 1.741873\n",
      "(Iteration 901 / 4900) loss: 1.436147\n",
      "(Epoch 2 / 10) train acc: 0.439000; val_acc: 0.428000\n",
      "(Iteration 1001 / 4900) loss: 1.414779\n",
      "(Iteration 1101 / 4900) loss: 1.486711\n",
      "(Iteration 1201 / 4900) loss: 1.416909\n",
      "(Iteration 1301 / 4900) loss: 1.556814\n",
      "(Iteration 1401 / 4900) loss: 1.641599\n",
      "(Epoch 3 / 10) train acc: 0.470000; val_acc: 0.477000\n",
      "(Iteration 1501 / 4900) loss: 1.636220\n",
      "(Iteration 1601 / 4900) loss: 1.639361\n",
      "(Iteration 1701 / 4900) loss: 1.483710\n",
      "(Iteration 1801 / 4900) loss: 1.405603\n",
      "(Iteration 1901 / 4900) loss: 1.924018\n",
      "(Epoch 4 / 10) train acc: 0.486000; val_acc: 0.478000\n",
      "(Iteration 2001 / 4900) loss: 1.467587\n",
      "(Iteration 2101 / 4900) loss: 1.530765\n",
      "(Iteration 2201 / 4900) loss: 1.422900\n",
      "(Iteration 2301 / 4900) loss: 1.207158\n",
      "(Iteration 2401 / 4900) loss: 1.252251\n",
      "(Epoch 5 / 10) train acc: 0.507000; val_acc: 0.489000\n",
      "(Iteration 2501 / 4900) loss: 1.494226\n",
      "(Iteration 2601 / 4900) loss: 1.449732\n",
      "(Iteration 2701 / 4900) loss: 1.408886\n",
      "(Iteration 2801 / 4900) loss: 1.372019\n",
      "(Iteration 2901 / 4900) loss: 1.500066\n",
      "(Epoch 6 / 10) train acc: 0.518000; val_acc: 0.484000\n",
      "(Iteration 3001 / 4900) loss: 1.167496\n",
      "(Iteration 3101 / 4900) loss: 1.375680\n",
      "(Iteration 3201 / 4900) loss: 1.249124\n",
      "(Iteration 3301 / 4900) loss: 1.217531\n",
      "(Iteration 3401 / 4900) loss: 1.374004\n",
      "(Epoch 7 / 10) train acc: 0.536000; val_acc: 0.490000\n",
      "(Iteration 3501 / 4900) loss: 1.262352\n",
      "(Iteration 3601 / 4900) loss: 1.183955\n",
      "(Iteration 3701 / 4900) loss: 1.193953\n",
      "(Iteration 3801 / 4900) loss: 1.084319\n",
      "(Iteration 3901 / 4900) loss: 1.303444\n",
      "(Epoch 8 / 10) train acc: 0.567000; val_acc: 0.473000\n",
      "(Iteration 4001 / 4900) loss: 1.065544\n",
      "(Iteration 4101 / 4900) loss: 1.494211\n",
      "(Iteration 4201 / 4900) loss: 0.981447\n",
      "(Iteration 4301 / 4900) loss: 1.123795\n",
      "(Iteration 4401 / 4900) loss: 1.218955\n",
      "(Epoch 9 / 10) train acc: 0.561000; val_acc: 0.509000\n",
      "(Iteration 4501 / 4900) loss: 1.197763\n",
      "(Iteration 4601 / 4900) loss: 1.158965\n",
      "(Iteration 4701 / 4900) loss: 1.262931\n",
      "(Iteration 4801 / 4900) loss: 1.543149\n",
      "(Epoch 10 / 10) train acc: 0.594000; val_acc: 0.515000\n"
     ]
    }
   ],
   "source": [
    "from cs231n.classifiers.fc_net import *\n",
    "\n",
    "N, D, H, C = 49000, 3*32*32, 100, 10\n",
    "std = 1e-2\n",
    "model = TwoLayerNet1(input_dim=D, hidden_dim=H, num_classes=C, weight_scale=std)\n",
    "\n",
    "solver = Solver(model,data,update_rule='sgd',\n",
    "                  optim_config={\n",
    "                    'learning_rate': 1e-3,\n",
    "                  },\n",
    "                  lr_decay=0.95,\n",
    "                  num_epochs=10, batch_size=100,\n",
    "                  print_every=100)\n",
    "\n",
    "\n",
    "##############################################################################\n",
    "# TODO: Use a Solver instance to train a TwoLayerNet that achieves at least  #\n",
    "# 50% accuracy on the validation set.                                        #\n",
    "##############################################################################\n",
    "solver.train()\n",
    "##############################################################################\n",
    "#                             END OF YOUR CODE                               #\n",
    "##############################################################################"
   ]
  },
  {
   "cell_type": "markdown",
   "metadata": {},
   "source": [
    "Looking above it is evident that i am able to chain together, the different layer type to create a full neural net. The neural net is working with the data,it seems to be not working with the small data below . Now one thing to keep in mind is that all the hoopla about the neural net is that the different layer type of the neural net are connected. Once i have different layer type implemented then the task of layer conneciton is just using a for loop.\n",
    "\n",
    "\n",
    "See the implementation of TwoLayerNet1() in the fc_net.py file to understand the chaining of neural network."
   ]
  },
  {
   "cell_type": "markdown",
   "metadata": {},
   "source": [
    "# Multilayer network\n",
    "Next you will implement a fully-connected network with an arbitrary number of hidden layers.\n",
    "\n",
    "Read through the `FullyConnectedNet` class in the file `cs231n/classifiers/fc_net.py`.\n",
    "\n",
    "Implement the initialization, the forward pass, and the backward pass. For the moment don't worry about implementing dropout or batch normalization; we will add those features soon."
   ]
  },
  {
   "cell_type": "markdown",
   "metadata": {},
   "source": [
    "## Initial loss and gradient check"
   ]
  },
  {
   "cell_type": "markdown",
   "metadata": {},
   "source": [
    "As a sanity check, run the following to check the initial loss and to gradient check the network both with and without regularization. Do the initial losses seem reasonable?\n",
    "\n",
    "For gradient checking, you should expect to see errors around 1e-6 or less."
   ]
  },
  {
   "cell_type": "code",
   "execution_count": 26,
   "metadata": {
    "collapsed": false
   },
   "outputs": [
    {
     "name": "stdout",
     "output_type": "stream",
     "text": [
      "Running check with reg =  0\n",
      "Initial loss:  2.30164886952\n",
      "W1 relative error: 6.04e-07\n",
      "W2 relative error: 2.56e-06\n",
      "W3 relative error: 1.49e-07\n",
      "b1 relative error: 1.97e-08\n",
      "b2 relative error: 5.54e-08\n",
      "b3 relative error: 1.28e-10\n",
      "Running check with reg =  3.14\n",
      "Initial loss:  7.07813915251\n",
      "W1 relative error: 6.10e-09\n",
      "W2 relative error: 5.14e-08\n",
      "W3 relative error: 1.91e-08\n",
      "b1 relative error: 1.19e-07\n",
      "b2 relative error: 1.63e-09\n",
      "b3 relative error: 2.27e-10\n"
     ]
    }
   ],
   "source": [
    "N, D, H1, H2,C = 2, 15, 20, 30,10\n",
    "\n",
    "X = np.random.randn(N, D)\n",
    "y = np.random.randint(C, size=(N,))\n",
    "\n",
    "for reg in [0, 3.14]:\n",
    "  print 'Running check with reg = ', reg\n",
    "  model = FullyConnectedNet([H1, H2], input_dim=D, num_classes=C,\n",
    "                            reg=reg, weight_scale=5e-2, dtype=np.float64)\n",
    "\n",
    "  loss, grads = model.loss(X, y)\n",
    "  print 'Initial loss: ', loss\n",
    "\n",
    "  for name in sorted(grads):\n",
    "    f = lambda _: model.loss(X, y)[0]\n",
    "    grad_num = eval_numerical_gradient(f, model.params[name], verbose=False, h=1e-5)\n",
    "    print '%s relative error: %.2e' % (name, rel_error(grad_num, grads[name]))"
   ]
  },
  {
   "cell_type": "markdown",
   "metadata": {},
   "source": [
    "As another sanity check, make sure you can overfit a small dataset of 50 images. First we will try a three-layer network with 100 units in each hidden layer. You will need to tweak the learning rate and initialization scale, but you should be able to overfit and achieve 100% training accuracy within 20 epochs."
   ]
  },
  {
   "cell_type": "code",
   "execution_count": 27,
   "metadata": {
    "collapsed": true
   },
   "outputs": [],
   "source": [
    "num_train = 50\n",
    "small_data = {\n",
    "  'X_train': data['X_train'][:num_train],\n",
    "  'y_train': data['y_train'][:num_train],\n",
    "  'X_val': data['X_val'],\n",
    "  'y_val': data['y_val'],\n",
    "}\n",
    "\n"
   ]
  },
  {
   "cell_type": "markdown",
   "metadata": {},
   "source": [
    "For some reason all my test cases are passing but I cannot train the FCnet with the small data. The gradient check is passing. But i have implemented a chaining of the layer in TwoLayerNet1() class. Now this class takes the dimension as an input and runs the forward and backward pass on the data. I am able to train with the TwoLayerNet1() but i am not able to train the FcNet for some reason. The loss is going to nan for this fully connected network.\n",
    "\n",
    "\n",
    "This is not a big deal because i have already implemented chained class in TwoLayerNet1()"
   ]
  },
  {
   "cell_type": "code",
   "execution_count": 28,
   "metadata": {
    "collapsed": false,
    "scrolled": false
   },
   "outputs": [
    {
     "name": "stdout",
     "output_type": "stream",
     "text": [
      "(Iteration 1 / 200) loss: 201.801918\n",
      "(Epoch 0 / 100) train acc: 0.220000; val_acc: 0.101000\n",
      "(Epoch 1 / 100) train acc: 0.100000; val_acc: 0.102000\n",
      "(Epoch 2 / 100) train acc: 0.160000; val_acc: 0.113000\n"
     ]
    },
    {
     "name": "stderr",
     "output_type": "stream",
     "text": [
      "cs231n/layers.py:731: RuntimeWarning: divide by zero encountered in log\n",
      "  \"\"\"\n"
     ]
    },
    {
     "name": "stdout",
     "output_type": "stream",
     "text": [
      "(Epoch 3 / 100) train acc: 0.120000; val_acc: 0.119000\n",
      "(Epoch 4 / 100) train acc: 0.100000; val_acc: 0.121000\n",
      "(Epoch 5 / 100) train acc: 0.080000; val_acc: 0.087000\n",
      "(Iteration 11 / 200) loss: inf\n",
      "(Epoch 6 / 100) train acc: 0.140000; val_acc: 0.127000\n",
      "(Epoch 7 / 100) train acc: 0.060000; val_acc: 0.085000\n",
      "(Epoch 8 / 100) train acc: 0.080000; val_acc: 0.087000\n",
      "(Epoch 9 / 100) train acc: 0.080000; val_acc: 0.087000\n"
     ]
    },
    {
     "name": "stderr",
     "output_type": "stream",
     "text": [
      "cs231n/layers.py:728: RuntimeWarning: invalid value encountered in subtract\n",
      "  \n",
      "cs231n/layers.py:87: RuntimeWarning: invalid value encountered in less_equal\n",
      "  #############################################################################\n"
     ]
    },
    {
     "name": "stdout",
     "output_type": "stream",
     "text": [
      "(Epoch 10 / 100) train acc: 0.080000; val_acc: 0.087000\n",
      "(Iteration 21 / 200) loss: nan\n",
      "(Epoch 11 / 100) train acc: 0.080000; val_acc: 0.087000\n",
      "(Epoch 12 / 100) train acc: 0.080000; val_acc: 0.087000\n",
      "(Epoch 13 / 100) train acc: 0.080000; val_acc: 0.087000\n",
      "(Epoch 14 / 100) train acc: 0.080000; val_acc: 0.087000\n",
      "(Epoch 15 / 100) train acc: 0.080000; val_acc: 0.087000\n",
      "(Iteration 31 / 200) loss: nan\n",
      "(Epoch 16 / 100) train acc: 0.080000; val_acc: 0.087000\n",
      "(Epoch 17 / 100) train acc: 0.080000; val_acc: 0.087000\n",
      "(Epoch 18 / 100) train acc: 0.080000; val_acc: 0.087000\n",
      "(Epoch 19 / 100) train acc: 0.080000; val_acc: 0.087000\n",
      "(Epoch 20 / 100) train acc: 0.080000; val_acc: 0.087000\n",
      "(Iteration 41 / 200) loss: nan\n",
      "(Epoch 21 / 100) train acc: 0.080000; val_acc: 0.087000\n",
      "(Epoch 22 / 100) train acc: 0.080000; val_acc: 0.087000\n",
      "(Epoch 23 / 100) train acc: 0.080000; val_acc: 0.087000\n",
      "(Epoch 24 / 100) train acc: 0.080000; val_acc: 0.087000\n",
      "(Epoch 25 / 100) train acc: 0.080000; val_acc: 0.087000\n",
      "(Iteration 51 / 200) loss: nan\n",
      "(Epoch 26 / 100) train acc: 0.080000; val_acc: 0.087000\n",
      "(Epoch 27 / 100) train acc: 0.080000; val_acc: 0.087000\n",
      "(Epoch 28 / 100) train acc: 0.080000; val_acc: 0.087000\n",
      "(Epoch 29 / 100) train acc: 0.080000; val_acc: 0.087000\n",
      "(Epoch 30 / 100) train acc: 0.080000; val_acc: 0.087000\n",
      "(Iteration 61 / 200) loss: nan\n",
      "(Epoch 31 / 100) train acc: 0.080000; val_acc: 0.087000\n",
      "(Epoch 32 / 100) train acc: 0.080000; val_acc: 0.087000\n",
      "(Epoch 33 / 100) train acc: 0.080000; val_acc: 0.087000\n",
      "(Epoch 34 / 100) train acc: 0.080000; val_acc: 0.087000\n",
      "(Epoch 35 / 100) train acc: 0.080000; val_acc: 0.087000\n",
      "(Iteration 71 / 200) loss: nan\n",
      "(Epoch 36 / 100) train acc: 0.080000; val_acc: 0.087000\n",
      "(Epoch 37 / 100) train acc: 0.080000; val_acc: 0.087000\n",
      "(Epoch 38 / 100) train acc: 0.080000; val_acc: 0.087000\n",
      "(Epoch 39 / 100) train acc: 0.080000; val_acc: 0.087000\n",
      "(Epoch 40 / 100) train acc: 0.080000; val_acc: 0.087000\n",
      "(Iteration 81 / 200) loss: nan\n",
      "(Epoch 41 / 100) train acc: 0.080000; val_acc: 0.087000\n",
      "(Epoch 42 / 100) train acc: 0.080000; val_acc: 0.087000\n",
      "(Epoch 43 / 100) train acc: 0.080000; val_acc: 0.087000\n",
      "(Epoch 44 / 100) train acc: 0.080000; val_acc: 0.087000\n",
      "(Epoch 45 / 100) train acc: 0.080000; val_acc: 0.087000\n",
      "(Iteration 91 / 200) loss: nan\n",
      "(Epoch 46 / 100) train acc: 0.080000; val_acc: 0.087000\n",
      "(Epoch 47 / 100) train acc: 0.080000; val_acc: 0.087000\n",
      "(Epoch 48 / 100) train acc: 0.080000; val_acc: 0.087000\n",
      "(Epoch 49 / 100) train acc: 0.080000; val_acc: 0.087000\n",
      "(Epoch 50 / 100) train acc: 0.080000; val_acc: 0.087000\n",
      "(Iteration 101 / 200) loss: nan\n",
      "(Epoch 51 / 100) train acc: 0.080000; val_acc: 0.087000\n",
      "(Epoch 52 / 100) train acc: 0.080000; val_acc: 0.087000\n",
      "(Epoch 53 / 100) train acc: 0.080000; val_acc: 0.087000\n",
      "(Epoch 54 / 100) train acc: 0.080000; val_acc: 0.087000\n",
      "(Epoch 55 / 100) train acc: 0.080000; val_acc: 0.087000\n",
      "(Iteration 111 / 200) loss: nan\n",
      "(Epoch 56 / 100) train acc: 0.080000; val_acc: 0.087000\n",
      "(Epoch 57 / 100) train acc: 0.080000; val_acc: 0.087000\n",
      "(Epoch 58 / 100) train acc: 0.080000; val_acc: 0.087000\n",
      "(Epoch 59 / 100) train acc: 0.080000; val_acc: 0.087000\n",
      "(Epoch 60 / 100) train acc: 0.080000; val_acc: 0.087000\n",
      "(Iteration 121 / 200) loss: nan\n",
      "(Epoch 61 / 100) train acc: 0.080000; val_acc: 0.087000\n",
      "(Epoch 62 / 100) train acc: 0.080000; val_acc: 0.087000\n",
      "(Epoch 63 / 100) train acc: 0.080000; val_acc: 0.087000\n",
      "(Epoch 64 / 100) train acc: 0.080000; val_acc: 0.087000\n",
      "(Epoch 65 / 100) train acc: 0.080000; val_acc: 0.087000\n",
      "(Iteration 131 / 200) loss: nan\n",
      "(Epoch 66 / 100) train acc: 0.080000; val_acc: 0.087000\n",
      "(Epoch 67 / 100) train acc: 0.080000; val_acc: 0.087000\n",
      "(Epoch 68 / 100) train acc: 0.080000; val_acc: 0.087000\n",
      "(Epoch 69 / 100) train acc: 0.080000; val_acc: 0.087000\n",
      "(Epoch 70 / 100) train acc: 0.080000; val_acc: 0.087000\n",
      "(Iteration 141 / 200) loss: nan\n",
      "(Epoch 71 / 100) train acc: 0.080000; val_acc: 0.087000\n",
      "(Epoch 72 / 100) train acc: 0.080000; val_acc: 0.087000\n",
      "(Epoch 73 / 100) train acc: 0.080000; val_acc: 0.087000\n",
      "(Epoch 74 / 100) train acc: 0.080000; val_acc: 0.087000\n",
      "(Epoch 75 / 100) train acc: 0.080000; val_acc: 0.087000\n",
      "(Iteration 151 / 200) loss: nan\n",
      "(Epoch 76 / 100) train acc: 0.080000; val_acc: 0.087000\n",
      "(Epoch 77 / 100) train acc: 0.080000; val_acc: 0.087000\n",
      "(Epoch 78 / 100) train acc: 0.080000; val_acc: 0.087000\n",
      "(Epoch 79 / 100) train acc: 0.080000; val_acc: 0.087000\n",
      "(Epoch 80 / 100) train acc: 0.080000; val_acc: 0.087000\n",
      "(Iteration 161 / 200) loss: nan\n",
      "(Epoch 81 / 100) train acc: 0.080000; val_acc: 0.087000\n",
      "(Epoch 82 / 100) train acc: 0.080000; val_acc: 0.087000\n",
      "(Epoch 83 / 100) train acc: 0.080000; val_acc: 0.087000\n",
      "(Epoch 84 / 100) train acc: 0.080000; val_acc: 0.087000\n",
      "(Epoch 85 / 100) train acc: 0.080000; val_acc: 0.087000\n",
      "(Iteration 171 / 200) loss: nan\n",
      "(Epoch 86 / 100) train acc: 0.080000; val_acc: 0.087000\n",
      "(Epoch 87 / 100) train acc: 0.080000; val_acc: 0.087000\n",
      "(Epoch 88 / 100) train acc: 0.080000; val_acc: 0.087000\n",
      "(Epoch 89 / 100) train acc: 0.080000; val_acc: 0.087000\n",
      "(Epoch 90 / 100) train acc: 0.080000; val_acc: 0.087000\n",
      "(Iteration 181 / 200) loss: nan\n",
      "(Epoch 91 / 100) train acc: 0.080000; val_acc: 0.087000\n",
      "(Epoch 92 / 100) train acc: 0.080000; val_acc: 0.087000\n",
      "(Epoch 93 / 100) train acc: 0.080000; val_acc: 0.087000\n",
      "(Epoch 94 / 100) train acc: 0.080000; val_acc: 0.087000\n",
      "(Epoch 95 / 100) train acc: 0.080000; val_acc: 0.087000\n",
      "(Iteration 191 / 200) loss: nan\n",
      "(Epoch 96 / 100) train acc: 0.080000; val_acc: 0.087000\n",
      "(Epoch 97 / 100) train acc: 0.080000; val_acc: 0.087000\n",
      "(Epoch 98 / 100) train acc: 0.080000; val_acc: 0.087000\n",
      "(Epoch 99 / 100) train acc: 0.080000; val_acc: 0.087000\n",
      "(Epoch 100 / 100) train acc: 0.080000; val_acc: 0.087000\n"
     ]
    }
   ],
   "source": [
    "# TODO: Use a three-layer Net to overfit 50 training examples.\n",
    "from cs231n.layers import *\n",
    "from cs231n.classifiers import *\n",
    "num_train = 50\n",
    "small_data = {\n",
    "  'X_train': data['X_train'][:num_train],\n",
    "  'y_train': data['y_train'][:num_train],\n",
    "  'X_val': data['X_val'],\n",
    "  'y_val': data['y_val'],\n",
    "}\n",
    "\n",
    "learning_rate = 1e-3\n",
    "weight_scale = 1e-5\n",
    "\n",
    "\n",
    "N, D, H1, H2, C =2,3*32*32,100,100,10\n",
    "\n",
    "weight_scale = 1e-1\n",
    "learning_rate = 1e-2\n",
    "\n",
    "model = FullyConnectedNet([H1, H2], input_dim=D, num_classes=C,\n",
    "                            reg=0, weight_scale=1e-1, dtype=np.float64)\n",
    "\n",
    "\n",
    "\n",
    "\n",
    "\n",
    "solver = Solver(model, small_data,\n",
    "                print_every=10, num_epochs=100, batch_size=25,\n",
    "                update_rule='sgd',\n",
    "                optim_config={\n",
    "                  'learning_rate': learning_rate,\n",
    "                }\n",
    "         )\n",
    "solver.train()\n",
    "\n",
    "\n",
    "\n",
    "\n",
    "\n",
    "\n",
    "\n",
    "\n",
    "\n",
    "\n",
    "\n",
    "# plt.plot(solver.loss_history, 'o')\n",
    "# plt.title('Training loss history')\n",
    "# plt.xlabel('Iteration')\n",
    "# plt.ylabel('Training loss')\n",
    "# plt.show()"
   ]
  },
  {
   "cell_type": "markdown",
   "metadata": {},
   "source": [
    "Now try to use a five-layer network with 100 units on each layer to overfit 50 training examples. Again you will have to adjust the learning rate and weight initialization, but you should be able to achieve 100% training accuracy within 20 epochs."
   ]
  },
  {
   "cell_type": "code",
   "execution_count": 29,
   "metadata": {
    "collapsed": false
   },
   "outputs": [
    {
     "name": "stdout",
     "output_type": "stream",
     "text": [
      "(Iteration 1 / 40) loss: 118.283054\n",
      "(Epoch 0 / 20) train acc: 0.100000; val_acc: 0.102000\n",
      "(Epoch 1 / 20) train acc: 0.220000; val_acc: 0.097000\n",
      "(Epoch 2 / 20) train acc: 0.100000; val_acc: 0.078000\n",
      "(Epoch 3 / 20) train acc: 0.160000; val_acc: 0.112000\n",
      "(Epoch 4 / 20) train acc: 0.080000; val_acc: 0.087000\n",
      "(Epoch 5 / 20) train acc: 0.080000; val_acc: 0.087000\n",
      "(Iteration 11 / 40) loss: nan\n",
      "(Epoch 6 / 20) train acc: 0.080000; val_acc: 0.087000\n",
      "(Epoch 7 / 20) train acc: 0.080000; val_acc: 0.087000\n",
      "(Epoch 8 / 20) train acc: 0.080000; val_acc: 0.087000\n",
      "(Epoch 9 / 20) train acc: 0.080000; val_acc: 0.087000\n",
      "(Epoch 10 / 20) train acc: 0.080000; val_acc: 0.087000\n",
      "(Iteration 21 / 40) loss: nan\n",
      "(Epoch 11 / 20) train acc: 0.080000; val_acc: 0.087000\n",
      "(Epoch 12 / 20) train acc: 0.080000; val_acc: 0.087000\n",
      "(Epoch 13 / 20) train acc: 0.080000; val_acc: 0.087000\n",
      "(Epoch 14 / 20) train acc: 0.080000; val_acc: 0.087000\n",
      "(Epoch 15 / 20) train acc: 0.080000; val_acc: 0.087000\n",
      "(Iteration 31 / 40) loss: nan\n",
      "(Epoch 16 / 20) train acc: 0.080000; val_acc: 0.087000\n",
      "(Epoch 17 / 20) train acc: 0.080000; val_acc: 0.087000\n",
      "(Epoch 18 / 20) train acc: 0.080000; val_acc: 0.087000\n",
      "(Epoch 19 / 20) train acc: 0.080000; val_acc: 0.087000\n",
      "(Epoch 20 / 20) train acc: 0.080000; val_acc: 0.087000\n"
     ]
    },
    {
     "data": {
      "image/png": "[encoded data removed]",
      "text/plain": [
       "<matplotlib.figure.Figure at 0x10b920e50>"
      ]
     },
     "metadata": {},
     "output_type": "display_data"
    }
   ],
   "source": [
    "# TODO: Use a five-layer Net to overfit 50 training examples.\n",
    "\n",
    "num_train = 50\n",
    "small_data = {\n",
    "  'X_train': data['X_train'][:num_train],\n",
    "  'y_train': data['y_train'][:num_train],\n",
    "  'X_val': data['X_val'],\n",
    "  'y_val': data['y_val'],\n",
    "}\n",
    "\n",
    "learning_rate = 1e-2\n",
    "weight_scale = 1e-1\n",
    "model = FullyConnectedNet([100, 100, 100, 100],\n",
    "                weight_scale=weight_scale, dtype=np.float64)\n",
    "solver = Solver(model, small_data,\n",
    "                print_every=10, num_epochs=20, batch_size=25,\n",
    "                update_rule='sgd',\n",
    "                optim_config={\n",
    "                  'learning_rate': learning_rate,\n",
    "                }\n",
    "         )\n",
    "solver.train()\n",
    "\n",
    "plt.plot(solver.loss_history, 'o')\n",
    "plt.title('Training loss history')\n",
    "plt.xlabel('Iteration')\n",
    "plt.ylabel('Training loss')\n",
    "plt.show()"
   ]
  },
  {
   "cell_type": "markdown",
   "metadata": {},
   "source": [
    "# Inline question: \n",
    "Did you notice anything about the comparative difficulty of training the three-layer net vs training the five layer net?\n",
    "\n",
    "# Answer:\n",
    "[FILL THIS IN]\n",
    "\n",
    "the running time increase quite a lot.\n"
   ]
  },
  {
   "cell_type": "markdown",
   "metadata": {},
   "source": [
    "# Update rules\n",
    "So far we have used vanilla stochastic gradient descent (SGD) as our update rule. More sophisticated update rules can make it easier to train deep networks. We will implement a few of the most commonly used update rules and compare them to vanilla SGD."
   ]
  },
  {
   "cell_type": "markdown",
   "metadata": {},
   "source": [
    "# SGD+Momentum\n",
    "Stochastic gradient descent with momentum is a widely used update rule that tends to make deep networks converge faster than vanilla stochstic gradient descent.\n",
    "\n",
    "Open the file `cs231n/optim.py` and read the documentation at the top of the file to make sure you understand the API. Implement the SGD+momentum update rule in the function `sgd_momentum` and run the following to check your implementation. You should see errors less than 1e-8."
   ]
  },
  {
   "cell_type": "code",
   "execution_count": null,
   "metadata": {
    "collapsed": false
   },
   "outputs": [],
   "source": [
    "from cs231n.optim import sgd_momentum\n",
    "\n",
    "N, D = 4, 5\n",
    "w = np.linspace(-0.4, 0.6, num=N*D).reshape(N, D)\n",
    "dw = np.linspace(-0.6, 0.4, num=N*D).reshape(N, D)\n",
    "v = np.linspace(0.6, 0.9, num=N*D).reshape(N, D)\n",
    "\n",
    "config = {'learning_rate': 1e-3, 'velocity': v}\n",
    "next_w, _ = sgd_momentum(w, dw, config=config)\n",
    "\n",
    "expected_next_w = np.asarray([\n",
    "  [ 0.1406,      0.20738947,  0.27417895,  0.34096842,  0.40775789],\n",
    "  [ 0.47454737,  0.54133684,  0.60812632,  0.67491579,  0.74170526],\n",
    "  [ 0.80849474,  0.87528421,  0.94207368,  1.00886316,  1.07565263],\n",
    "  [ 1.14244211,  1.20923158,  1.27602105,  1.34281053,  1.4096    ]])\n",
    "expected_velocity = np.asarray([\n",
    "  [ 0.5406,      0.55475789,  0.56891579, 0.58307368,  0.59723158],\n",
    "  [ 0.61138947,  0.62554737,  0.63970526,  0.65386316,  0.66802105],\n",
    "  [ 0.68217895,  0.69633684,  0.71049474,  0.72465263,  0.73881053],\n",
    "  [ 0.75296842,  0.76712632,  0.78128421,  0.79544211,  0.8096    ]])\n",
    "\n",
    "print 'next_w error: ', rel_error(next_w, expected_next_w)\n",
    "print 'velocity error: ', rel_error(expected_velocity, config['velocity'])"
   ]
  },
  {
   "cell_type": "markdown",
   "metadata": {},
   "source": [
    "Once you have done so, run the following to train a six-layer network with both SGD and SGD+momentum. You should see the SGD+momentum update rule converge faster."
   ]
  },
  {
   "cell_type": "code",
   "execution_count": null,
   "metadata": {
    "collapsed": false,
    "scrolled": false
   },
   "outputs": [],
   "source": [
    "num_train = 4000\n",
    "small_data = {\n",
    "  'X_train': data['X_train'][:num_train],\n",
    "  'y_train': data['y_train'][:num_train],\n",
    "  'X_val': data['X_val'],\n",
    "  'y_val': data['y_val'],\n",
    "}\n",
    "\n",
    "solvers = {}\n",
    "\n",
    "for update_rule in ['sgd', 'sgd_momentum']:\n",
    "  print 'running with ', update_rule\n",
    "  model = FullyConnectedNet([100, 100, 100, 100, 100], weight_scale=5e-2)\n",
    "\n",
    "  solver = Solver(model, small_data,\n",
    "                  num_epochs=5, batch_size=100,\n",
    "                  update_rule=update_rule,\n",
    "                  optim_config={\n",
    "                    'learning_rate': 1e-2,\n",
    "                  },\n",
    "                  verbose=True)\n",
    "  solvers[update_rule] = solver\n",
    "  solver.train()\n",
    "  print\n",
    "\n",
    "plt.subplot(3, 1, 1)\n",
    "plt.title('Training loss')\n",
    "plt.xlabel('Iteration')\n",
    "\n",
    "plt.subplot(3, 1, 2)\n",
    "plt.title('Training accuracy')\n",
    "plt.xlabel('Epoch')\n",
    "\n",
    "plt.subplot(3, 1, 3)\n",
    "plt.title('Validation accuracy')\n",
    "plt.xlabel('Epoch')\n",
    "\n",
    "for update_rule, solver in solvers.iteritems():\n",
    "  plt.subplot(3, 1, 1)\n",
    "  plt.plot(solver.loss_history, 'o', label=update_rule)\n",
    "  \n",
    "  plt.subplot(3, 1, 2)\n",
    "  plt.plot(solver.train_acc_history, '-o', label=update_rule)\n",
    "\n",
    "  plt.subplot(3, 1, 3)\n",
    "  plt.plot(solver.val_acc_history, '-o', label=update_rule)\n",
    "  \n",
    "for i in [1, 2, 3]:\n",
    "  plt.subplot(3, 1, i)\n",
    "  plt.legend(loc='upper center', ncol=4)\n",
    "plt.gcf().set_size_inches(15, 15)\n",
    "plt.show()"
   ]
  },
  {
   "cell_type": "markdown",
   "metadata": {},
   "source": [
    "# RMSProp and Adam\n",
    "RMSProp [1] and Adam [2] are update rules that set per-parameter learning rates by using a running average of the second moments of gradients.\n",
    "\n",
    "In the file `cs231n/optim.py`, implement the RMSProp update rule in the `rmsprop` function and implement the Adam update rule in the `adam` function, and check your implementations using the tests below.\n",
    "\n",
    "[1] Tijmen Tieleman and Geoffrey Hinton. \"Lecture 6.5-rmsprop: Divide the gradient by a running average of its recent magnitude.\" COURSERA: Neural Networks for Machine Learning 4 (2012).\n",
    "\n",
    "[2] Diederik Kingma and Jimmy Ba, \"Adam: A Method for Stochastic Optimization\", ICLR 2015."
   ]
  },
  {
   "cell_type": "code",
   "execution_count": null,
   "metadata": {
    "collapsed": false
   },
   "outputs": [],
   "source": [
    "# Test RMSProp implementation; you should see errors less than 1e-7\n",
    "from cs231n.optim import rmsprop\n",
    "\n",
    "N, D = 4, 5\n",
    "w = np.linspace(-0.4, 0.6, num=N*D).reshape(N, D)\n",
    "dw = np.linspace(-0.6, 0.4, num=N*D).reshape(N, D)\n",
    "cache = np.linspace(0.6, 0.9, num=N*D).reshape(N, D)\n",
    "\n",
    "config = {'learning_rate': 1e-2, 'cache': cache}\n",
    "next_w, _ = rmsprop(w, dw, config=config)\n",
    "\n",
    "expected_next_w = np.asarray([\n",
    "  [-0.39223849, -0.34037513, -0.28849239, -0.23659121, -0.18467247],\n",
    "  [-0.132737,   -0.08078555, -0.02881884,  0.02316247,  0.07515774],\n",
    "  [ 0.12716641,  0.17918792,  0.23122175,  0.28326742,  0.33532447],\n",
    "  [ 0.38739248,  0.43947102,  0.49155973,  0.54365823,  0.59576619]])\n",
    "expected_cache = np.asarray([\n",
    "  [ 0.5976,      0.6126277,   0.6277108,   0.64284931,  0.65804321],\n",
    "  [ 0.67329252,  0.68859723,  0.70395734,  0.71937285,  0.73484377],\n",
    "  [ 0.75037008,  0.7659518,   0.78158892,  0.79728144,  0.81302936],\n",
    "  [ 0.82883269,  0.84469141,  0.86060554,  0.87657507,  0.8926    ]])\n",
    "\n",
    "print 'next_w error: ', rel_error(expected_next_w, next_w)\n",
    "print 'cache error: ', rel_error(expected_cache, config['cache'])"
   ]
  },
  {
   "cell_type": "code",
   "execution_count": null,
   "metadata": {
    "collapsed": false
   },
   "outputs": [],
   "source": [
    "# Test Adam implementation; you should see errors around 1e-7 or less\n",
    "from cs231n.optim import adam\n",
    "\n",
    "N, D = 4, 5\n",
    "w = np.linspace(-0.4, 0.6, num=N*D).reshape(N, D)\n",
    "dw = np.linspace(-0.6, 0.4, num=N*D).reshape(N, D)\n",
    "m = np.linspace(0.6, 0.9, num=N*D).reshape(N, D)\n",
    "v = np.linspace(0.7, 0.5, num=N*D).reshape(N, D)\n",
    "\n",
    "config = {'learning_rate': 1e-2, 'm': m, 'v': v, 't': 5}\n",
    "next_w, _ = adam(w, dw, config=config)\n",
    "\n",
    "expected_next_w = np.asarray([\n",
    "  [-0.40094747, -0.34836187, -0.29577703, -0.24319299, -0.19060977],\n",
    "  [-0.1380274,  -0.08544591, -0.03286534,  0.01971428,  0.0722929],\n",
    "  [ 0.1248705,   0.17744702,  0.23002243,  0.28259667,  0.33516969],\n",
    "  [ 0.38774145,  0.44031188,  0.49288093,  0.54544852,  0.59801459]])\n",
    "expected_v = np.asarray([\n",
    "  [ 0.69966,     0.68908382,  0.67851319,  0.66794809,  0.65738853,],\n",
    "  [ 0.64683452,  0.63628604,  0.6257431,   0.61520571,  0.60467385,],\n",
    "  [ 0.59414753,  0.58362676,  0.57311152,  0.56260183,  0.55209767,],\n",
    "  [ 0.54159906,  0.53110598,  0.52061845,  0.51013645,  0.49966,   ]])\n",
    "expected_m = np.asarray([\n",
    "  [ 0.48,        0.49947368,  0.51894737,  0.53842105,  0.55789474],\n",
    "  [ 0.57736842,  0.59684211,  0.61631579,  0.63578947,  0.65526316],\n",
    "  [ 0.67473684,  0.69421053,  0.71368421,  0.73315789,  0.75263158],\n",
    "  [ 0.77210526,  0.79157895,  0.81105263,  0.83052632,  0.85      ]])\n",
    "\n",
    "print 'next_w error: ', rel_error(expected_next_w, next_w)\n",
    "print 'v error: ', rel_error(expected_v, config['v'])\n",
    "print 'm error: ', rel_error(expected_m, config['m'])"
   ]
  },
  {
   "cell_type": "markdown",
   "metadata": {},
   "source": [
    "Once you have debugged your RMSProp and Adam implementations, run the following to train a pair of deep networks using these new update rules:"
   ]
  },
  {
   "cell_type": "code",
   "execution_count": null,
   "metadata": {
    "collapsed": false
   },
   "outputs": [],
   "source": [
    "learning_rates = {'rmsprop': 1e-4, 'adam': 1e-3}\n",
    "for update_rule in ['adam', 'rmsprop']:\n",
    "  print 'running with ', update_rule\n",
    "  model = FullyConnectedNet([100, 100, 100, 100, 100], weight_scale=5e-2)\n",
    "\n",
    "  solver = Solver(model, small_data,\n",
    "                  num_epochs=5, batch_size=100,\n",
    "                  update_rule=update_rule,\n",
    "                  optim_config={\n",
    "                    'learning_rate': learning_rates[update_rule]\n",
    "                  },\n",
    "                  verbose=True)\n",
    "  solvers[update_rule] = solver\n",
    "  solver.train()\n",
    "  print\n",
    "\n",
    "plt.subplot(3, 1, 1)\n",
    "plt.title('Training loss')\n",
    "plt.xlabel('Iteration')\n",
    "\n",
    "plt.subplot(3, 1, 2)\n",
    "plt.title('Training accuracy')\n",
    "plt.xlabel('Epoch')\n",
    "\n",
    "plt.subplot(3, 1, 3)\n",
    "plt.title('Validation accuracy')\n",
    "plt.xlabel('Epoch')\n",
    "\n",
    "for update_rule, solver in solvers.iteritems():\n",
    "  plt.subplot(3, 1, 1)\n",
    "  plt.plot(solver.loss_history, 'o', label=update_rule)\n",
    "  \n",
    "  plt.subplot(3, 1, 2)\n",
    "  plt.plot(solver.train_acc_history, '-o', label=update_rule)\n",
    "\n",
    "  plt.subplot(3, 1, 3)\n",
    "  plt.plot(solver.val_acc_history, '-o', label=update_rule)\n",
    "  \n",
    "for i in [1, 2, 3]:\n",
    "  plt.subplot(3, 1, i)\n",
    "  plt.legend(loc='upper center', ncol=4)\n",
    "plt.gcf().set_size_inches(15, 15)\n",
    "plt.show()"
   ]
  },
  {
   "cell_type": "markdown",
   "metadata": {},
   "source": [
    "# Train a good model!\n",
    "Train the best fully-connected model that you can on CIFAR-10, storing your best model in the `best_model` variable. We require you to get at least 50% accuracy on the validation set using a fully-connected net.\n",
    "\n",
    "If you are careful it should be possible to get accuracies above 55%, but we don't require it for this part and won't assign extra credit for doing so. Later in the assignment we will ask you to train the best convolutional network that you can on CIFAR-10, and we would prefer that you spend your effort working on convolutional nets rather than fully-connected nets.\n",
    "\n",
    "You might find it useful to complete the `BatchNormalization.ipynb` and `Dropout.ipynb` notebooks before completing this part, since those techniques can help you train powerful models."
   ]
  },
  {
   "cell_type": "code",
   "execution_count": null,
   "metadata": {
    "collapsed": false,
    "scrolled": false
   },
   "outputs": [],
   "source": [
    "best_model = None\n",
    "################################################################################\n",
    "# TODO: Train the best FullyConnectedNet that you can on CIFAR-10. You might   #\n",
    "# batch normalization and dropout useful. Store your best model in the         #\n",
    "# best_model variable.                                                         #\n",
    "################################################################################\n",
    "pass\n",
    "################################################################################\n",
    "#                              END OF YOUR CODE                                #\n",
    "################################################################################"
   ]
  },
  {
   "cell_type": "markdown",
   "metadata": {},
   "source": [
    "# Test you model\n",
    "Run your best model on the validation and test sets. You should achieve above 50% accuracy on the validation set."
   ]
  },
  {
   "cell_type": "code",
   "execution_count": null,
   "metadata": {
    "collapsed": false
   },
   "outputs": [],
   "source": [
    "y_test_pred = np.argmax(best_model.loss(X_test), axis=1)\n",
    "y_val_pred = np.argmax(best_model.loss(X_val), axis=1)\n",
    "print 'Validation set accuracy: ', (y_val_pred == y_val).mean()\n",
    "print 'Test set accuracy: ', (y_test_pred == y_test).mean()"
   ]
  }
 ],
 "metadata": {
  "kernelspec": {
   "display_name": "Python 2",
   "language": "python",
   "name": "python2"
  },
  "language_info": {
   "codemirror_mode": {
    "name": "ipython",
    "version": 2
   },
   "file_extension": ".py",
   "mimetype": "text/x-python",
   "name": "python",
   "nbconvert_exporter": "python",
   "pygments_lexer": "ipython2",
   "version": "2.7.11"
  }
 },
 "nbformat": 4,
 "nbformat_minor": 0
}
