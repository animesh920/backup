{
 "cells": [
  {
   "cell_type": "code",
   "execution_count": 1,
   "metadata": {
    "collapsed": false
   },
   "outputs": [],
   "source": [
    "# get data\n",
    "\n",
    "# file_handle=open(\"2sum.txt\",\"r\")\n",
    "# dick={}\n",
    "# for line in file_handle:\n",
    "#     data=line.rstrip()\n",
    "#     dick[int(data)]=1\n",
    "\n",
    "    \n",
    "    \n",
    "# hmax=[6331]\n",
    "# hmin=[2793]\n",
    "# median=[(6331+2793)/2]\n",
    "\n",
    "# max_in_hmin=2793\n",
    "# min_in_hmax=6331\n",
    "\n",
    "\n",
    "# for elem in data:\n",
    "#     if data>=max_in_hmin:\n",
    "#         if data<min_in_hmax:\n",
    "#             min_in_hmax=data\n",
    "#             hmax.append(data)\n",
    "#         else:\n",
    "#             hmax.append(data)\n",
    "#     else:\n",
    "#         hmin.append(data\n"
   ]
  },
  {
   "cell_type": "code",
   "execution_count": 5,
   "metadata": {
    "collapsed": false
   },
   "outputs": [],
   "source": [
    "# count=0\n",
    "# for t in range(-10000,10001):\n",
    "#     for key in dick.keys():\n",
    "#         x=dick[key]\n",
    "#         try:\n",
    "#             dick[t-x]\n",
    "#             if x!=(t-x):\n",
    "#                 count+=1\n",
    "#         except:\n",
    "#             pass\n",
    "        \n",
    "# print count\n"
   ]
  },
  {
   "cell_type": "code",
   "execution_count": 4,
   "metadata": {
    "collapsed": true
   },
   "outputs": [],
   "source": [
    "file_handle=open(\"Median.txt\")\n",
    "\n",
    "data=[]\n",
    "for line in file_handle:\n",
    "    data.append(int(line.rstrip()))"
   ]
  },
  {
   "cell_type": "code",
   "execution_count": 23,
   "metadata": {
    "collapsed": false
   },
   "outputs": [
    {
     "name": "stdout",
     "output_type": "stream",
     "text": [
      "in base case\n"
     ]
    }
   ],
   "source": [
    "import numpy as np\n",
    "\n",
    "def first_10000_median(median_lst=[],i=1):\n",
    "    if i==10000:\n",
    "        print 'in base case'\n",
    "        return median_lst\n",
    "    else:\n",
    "        median_lst.append(np.median(data[0:i]))\n",
    "        return first_10000_median(median_lst,i+1)\n",
    "        \n",
    "lst=first_10000_median([],1)"
   ]
  },
  {
   "cell_type": "code",
   "execution_count": 69,
   "metadata": {
    "collapsed": false
   },
   "outputs": [],
   "source": [
    "hmax=[6331]\n",
    "hmin=[2793]\n",
    "median_lst=[(6331+2793)/2]\n",
    "\n",
    "max_hmin=2793\n",
    "min_hmax=6331\n",
    "\n",
    "\n",
    "def median_main(hmax,hmin,min_hmax,max_hmin):\n",
    "    if abs(len(hmax)-len(hmin))==1:\n",
    "        median=min_hmax if len(hmax)>len(hmin) else max_hmin\n",
    "        return hmax,hmin,median,min_hmax,max_hmin\n",
    "    \n",
    "    elif abs(len(hmax)-len(hmin))==0:\n",
    "        median=(min_hmax+max_hmin)/2\n",
    "        return hmax,hmin,median,min_hmax,max_hmin\n",
    "    \n",
    "    #for unbalanced median changing the array size\n",
    "    \n",
    "    elif len(hmax)>len(hmin):\n",
    "        hmin.append(min_hmax)\n",
    "        max_hmin=min_hmax\n",
    "        \n",
    "        hmax.remove(min_hmax)\n",
    "        min_hmax=min(hmax)\n",
    "        \n",
    "        \n",
    "        #print min_hmax,max_hmin\n",
    "        \n",
    "        \n",
    "        median=(min_hmax+max_hmin)/2\n",
    "        return hmax,hmin,median,min_hmax,max_hmin\n",
    "    \n",
    "    elif len(hmin)>len(hmax):\n",
    "        hmax.append(max_hmin)\n",
    "        min_hmax=max_hmin\n",
    "        \n",
    "        hmin.remove(max_hmin)\n",
    "        max_hmin=max(hmin)\n",
    "        \n",
    "        #print min_hmax,max_hmin\n",
    "        \n",
    "        \n",
    "        median=(min_hmax+max_hmin)/2\n",
    "        return hmax,hmin,median,min_hmax,max_hmin\n",
    "    \n",
    "\n",
    "\n",
    "i=0\n",
    "for elem in data[2:]:\n",
    "#     print i\n",
    "    if elem<max_hmin:\n",
    "        hmin.append(elem)\n",
    "    elif elem>min_hmax:\n",
    "        hmax.append(elem)\n",
    "    elif elem>=max_hmin and elem<min_hmax:    \n",
    "        min_hmax=elem\n",
    "        hmax.append(elem)\n",
    "\n",
    "    hmax,hmin,median,min_hmax,max_hmin=median_main(hmax,hmin,min_hmax,max_hmin)\n",
    "    \n",
    "    \n",
    "    i=i+1\n",
    "    \n",
    "#     if i==10:\n",
    "#         break\n",
    "    \n",
    "    median_lst.append(median)\n",
    "    \n",
    "    \n",
    "\n"
   ]
  },
  {
   "cell_type": "code",
   "execution_count": 43,
   "metadata": {
    "collapsed": false
   },
   "outputs": [],
   "source": [
    "median_lst.append(6331)"
   ]
  },
  {
   "cell_type": "code",
   "execution_count": 46,
   "metadata": {
    "collapsed": false
   },
   "outputs": [
    {
     "data": {
      "text/plain": [
       "46851420"
      ]
     },
     "execution_count": 46,
     "metadata": {},
     "output_type": "execute_result"
    }
   ],
   "source": [
    "sum(median_lst)"
   ]
  },
  {
   "cell_type": "code",
   "execution_count": 62,
   "metadata": {
    "collapsed": false
   },
   "outputs": [
    {
     "name": "stdout",
     "output_type": "stream",
     "text": [
      "4813.0\n"
     ]
    },
    {
     "data": {
      "text/plain": [
       "[6331,\n",
       " 2793,\n",
       " 1640,\n",
       " 9290,\n",
       " 225,\n",
       " 625,\n",
       " 6195,\n",
       " 2303,\n",
       " 5685,\n",
       " 1354,\n",
       " 4292,\n",
       " 7600,\n",
       " 6447,\n",
       " 4479,\n",
       " 9046,\n",
       " 7293,\n",
       " 5147,\n",
       " 1260,\n",
       " 1386,\n",
       " 6193]"
      ]
     },
     "execution_count": 62,
     "metadata": {},
     "output_type": "execute_result"
    }
   ],
   "source": [
    "print np.median(data[:20])\n",
    "data[:20]"
   ]
  },
  {
   "cell_type": "code",
   "execution_count": 63,
   "metadata": {
    "collapsed": false
   },
   "outputs": [
    {
     "data": {
      "text/plain": [
       "[4562,\n",
       " 2793,\n",
       " 4562,\n",
       " 2793,\n",
       " 2216,\n",
       " 2793,\n",
       " 2548,\n",
       " 2793,\n",
       " 2548,\n",
       " 2793,\n",
       " 3542,\n",
       " 4292,\n",
       " 4385,\n",
       " 4479,\n",
       " 5082,\n",
       " 5147,\n",
       " 4813,\n",
       " 4479,\n",
       " 4813]"
      ]
     },
     "execution_count": 63,
     "metadata": {},
     "output_type": "execute_result"
    }
   ],
   "source": [
    "median_lst[:19]"
   ]
  },
  {
   "cell_type": "code",
   "execution_count": 70,
   "metadata": {
    "collapsed": false
   },
   "outputs": [
    {
     "data": {
      "text/plain": [
       "9999"
      ]
     },
     "execution_count": 70,
     "metadata": {},
     "output_type": "execute_result"
    }
   ],
   "source": [
    "len(median_lst)"
   ]
  },
  {
   "cell_type": "code",
   "execution_count": 66,
   "metadata": {
    "collapsed": false
   },
   "outputs": [
    {
     "data": {
      "text/plain": [
       "[1640, 9290, 225, 625, 6195, 2303, 5685, 1354]"
      ]
     },
     "execution_count": 66,
     "metadata": {},
     "output_type": "execute_result"
    }
   ],
   "source": [
    "data[2:10]"
   ]
  },
  {
   "cell_type": "code",
   "execution_count": null,
   "metadata": {
    "collapsed": true
   },
   "outputs": [],
   "source": []
  }
 ],
 "metadata": {
  "kernelspec": {
   "display_name": "Python 2",
   "language": "python",
   "name": "python2"
  },
  "language_info": {
   "codemirror_mode": {
    "name": "ipython",
    "version": 2
   },
   "file_extension": ".py",
   "mimetype": "text/x-python",
   "name": "python",
   "nbconvert_exporter": "python",
   "pygments_lexer": "ipython2",
   "version": "2.7.9"
  }
 },
 "nbformat": 4,
 "nbformat_minor": 0
}
