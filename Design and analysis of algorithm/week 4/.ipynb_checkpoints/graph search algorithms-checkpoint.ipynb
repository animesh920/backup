{
 "cells": [
  {
   "cell_type": "code",
   "execution_count": 5,
   "metadata": {
    "collapsed": false
   },
   "outputs": [
    {
     "name": "stdout",
     "output_type": "stream",
     "text": [
      "{1: [2, 3, 5], 2: [1, 4], 3: [1, 4, 5], 4: [2, 3, 6], 5: [1, 3, 6], 6: [5, 4]}\n"
     ]
    }
   ],
   "source": [
    "graph=dict()\n",
    "graph[1]=[2,3,5]\n",
    "graph[2]=[1,4]\n",
    "graph[3]=[1,4,5]\n",
    "graph[4]=[2,3,6]\n",
    "graph[5]=[1,3,6]\n",
    "graph[6]=[5,4]\n",
    "\n",
    "print graph"
   ]
  },
  {
   "cell_type": "code",
   "execution_count": 30,
   "metadata": {
    "collapsed": true
   },
   "outputs": [],
   "source": [
    "\n",
    "#explored   # a set of explored nodes\n",
    "def bfs(graph,queue=[],explored=set()):\n",
    "    ''' the graph is in the form of a dictionary. This means that the key to the dictionary is the node and the value\n",
    "    is the list of nodes adjacent to the dictionary'''\n",
    "    if len(queue)==0:\n",
    "        return explored\n",
    "    else:\n",
    "        node=queue.pop(0)\n",
    "        explored=explored|{node}\n",
    "        for children in graph[node]:\n",
    "            if children not in explored:\n",
    "                explored=explored|{children}\n",
    "                queue.append(children)\n",
    "        return bfs(graph,queue,explored)"
   ]
  },
  {
   "cell_type": "code",
   "execution_count": 31,
   "metadata": {
    "collapsed": false
   },
   "outputs": [
    {
     "data": {
      "text/plain": [
       "{1, 2, 3, 4, 5, 6}"
      ]
     },
     "execution_count": 31,
     "metadata": {},
     "output_type": "execute_result"
    }
   ],
   "source": [
    "bfs(graph,[1])"
   ]
  },
  {
   "cell_type": "code",
   "execution_count": 37,
   "metadata": {
    "collapsed": true
   },
   "outputs": [],
   "source": [
    "def dfs(graph,queue,explored=set()):\n",
    "    if len(queue)==0:\n",
    "        return explored\n",
    "    else:\n",
    "        node=queue.pop(0)\n",
    "        explored=explored|{node}\n",
    "        #print explored\n",
    "        for children in graph[node]:\n",
    "            if children not in explored:\n",
    "                explored=explored|{children}\n",
    "                queue=[children]+queue\n",
    "        return dfs(graph,queue,explored)"
   ]
  },
  {
   "cell_type": "code",
   "execution_count": 38,
   "metadata": {
    "collapsed": false
   },
   "outputs": [
    {
     "data": {
      "text/plain": [
       "{1, 2, 3, 4, 5, 6}"
      ]
     },
     "execution_count": 38,
     "metadata": {},
     "output_type": "execute_result"
    }
   ],
   "source": [
    "dfs(graph,[1])"
   ]
  },
  {
   "cell_type": "code",
   "execution_count": null,
   "metadata": {
    "collapsed": false
   },
   "outputs": [],
   "source": [
    "file_name=open(\"SCC.txt\",\"r\")\n",
    "i=0\n",
    "graph={}\n",
    "for line in file_name:\n",
    "    i+=1\n",
    "    key,value=line.split(\" \")[:2]\n",
    "    if int(key) not in graph.keys():\n",
    "        graph[int(key)]=[int(value)]\n",
    "        #print graph.keys()\n",
    "    \n",
    "    else:\n",
    "        head_nodes=graph[int(key)]\n",
    "        head_nodes.append(int(value))\n",
    "        #print head_nodes\n",
    "        graph[int(key)]=head_nodes\n",
    "        \n",
    "    \n",
    "        \n",
    "#print graph"
   ]
  },
  {
   "cell_type": "code",
   "execution_count": null,
   "metadata": {
    "collapsed": true
   },
   "outputs": [],
   "source": []
  }
 ],
 "metadata": {
  "kernelspec": {
   "display_name": "Python 2",
   "language": "python",
   "name": "python2"
  },
  "language_info": {
   "codemirror_mode": {
    "name": "ipython",
    "version": 2
   },
   "file_extension": ".py",
   "mimetype": "text/x-python",
   "name": "python",
   "nbconvert_exporter": "python",
   "pygments_lexer": "ipython2",
   "version": "2.7.9"
  }
 },
 "nbformat": 4,
 "nbformat_minor": 0
}
