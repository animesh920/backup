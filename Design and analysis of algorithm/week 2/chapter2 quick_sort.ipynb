{
 "cells": [
  {
   "cell_type": "code",
   "execution_count": 1,
   "metadata": {
    "collapsed": false
   },
   "outputs": [
    {
     "name": "stdout",
     "output_type": "stream",
     "text": [
      "[1]\n",
      "2\n",
      "[5, 4, 3]\n"
     ]
    }
   ],
   "source": [
    "pivot=2\n",
    "lst=[5,4,3,2,1]\n",
    "left=[elem for elem in lst if elem<pivot]\n",
    "right=[elem for elem in lst if elem>pivot]\n",
    "\n",
    "print left \n",
    "print pivot\n",
    "print right"
   ]
  },
  {
   "cell_type": "code",
   "execution_count": 2,
   "metadata": {
    "collapsed": false
   },
   "outputs": [],
   "source": [
    "def quick_sort(lst):\n",
    "    if len(lst)<2:\n",
    "        return lst\n",
    "    else:\n",
    "        pivot=lst[0]\n",
    "        left=[elem for elem in lst if elem<pivot]\n",
    "        #print left\n",
    "        right=[elem for elem in lst if elem>pivot]\n",
    "        #print right\n",
    "        return quick_sort(left)+[pivot]+quick_sort(right)\n",
    "\n",
    "#quick_sort(range(1000))     "
   ]
  },
  {
   "cell_type": "code",
   "execution_count": 3,
   "metadata": {
    "collapsed": false
   },
   "outputs": [
    {
     "data": {
      "text/plain": [
       "[1, 2, 3, 4, 5]"
      ]
     },
     "execution_count": 3,
     "metadata": {},
     "output_type": "execute_result"
    }
   ],
   "source": [
    "quick_sort([5,4,3,2,1])"
   ]
  },
  {
   "cell_type": "code",
   "execution_count": 4,
   "metadata": {
    "collapsed": false
   },
   "outputs": [
    {
     "name": "stdout",
     "output_type": "stream",
     "text": [
      "base case\n",
      "(3628800, 9)\n"
     ]
    }
   ],
   "source": [
    "#this code block is for testing how to return two values in a recursive function\n",
    "\n",
    "def factorial(n,count=0):\n",
    "    if n==1:\n",
    "        return count\n",
    "    else:\n",
    "        return factorial(n-1,count+1)\n",
    "#print factorial(10)\n",
    "\n",
    "#now in this case since i only wanted the count hence i was able to do it. by emiting the factorial value. now i have \n",
    "#to see how can i get both the factorial and the count\n",
    "\n",
    "\n",
    "def factorial_count(n,count=0):\n",
    "    if n==1:\n",
    "        print 'base case'\n",
    "        return (1,count)\n",
    "    else:\n",
    "        #print n-1,'in the else clause'\n",
    "        temp=factorial_count(n-1,count+1)\n",
    "        #print temp\n",
    "        return (n*temp[0],temp[1])\n",
    "print factorial_count(10)\n",
    "\n",
    "\n",
    "#so this is how i can get multiple return values from a recursive function, i have to store the frame returned by the\n",
    "#recursive function in a variable and then perform operations on it."
   ]
  },
  {
   "cell_type": "code",
   "execution_count": 4,
   "metadata": {
    "collapsed": false
   },
   "outputs": [
    {
     "data": {
      "text/plain": [
       "([1, 2], 3, [5, 8, 4, 7, 6])"
      ]
     },
     "execution_count": 4,
     "metadata": {},
     "output_type": "execute_result"
    }
   ],
   "source": [
    "def partition_pivot(lst,pivot):\n",
    "    #this implementation assumes that the pivot is the first element of the array. for other pivot, swap it with 1 elem\n",
    "    #so there are two indexes i and j, the enteries before i are less than the pivot. and the j index keeps track of\n",
    "    #len of the lst\n",
    "    \n",
    "    pivot=lst[0]\n",
    "    i,j=0,1\n",
    "    while j<len(lst):\n",
    "        #print 'i',i\n",
    "        #print 'j',j\n",
    "        if lst[j]<pivot:\n",
    "            i=i+1\n",
    "            j=j+1\n",
    "            lst=swap(lst,i,j-1) #swap the larger element from the smaller element i and the j\n",
    "            continue\n",
    "        elif lst[j]>pivot:\n",
    "            j=j+1\n",
    "    lst=swap(lst,0,i)\n",
    "    return lst[:i],pivot,lst[i+1:]\n",
    "smp_lst=[3,8,2,5,1,4,7,6]\n",
    "\n",
    "def swap(lst,i,j):\n",
    "    lst[j],lst[i]=lst[i],lst[j]\n",
    "    return lst\n",
    "\n",
    "\n",
    "partition_pivot(smp_lst,3)\n",
    "#swap(smp_lst,0,1)"
   ]
  },
  {
   "cell_type": "code",
   "execution_count": 22,
   "metadata": {
    "collapsed": false,
    "scrolled": true
   },
   "outputs": [],
   "source": [
    "#loading the integer array \n",
    "\n",
    "f=open(\"QuickSort.txt\",'r')\n",
    "final_lst=f.read().splitlines()\n",
    "final_lst=[int(elem) for elem in final_lst]"
   ]
  },
  {
   "cell_type": "code",
   "execution_count": 23,
   "metadata": {
    "collapsed": false
   },
   "outputs": [
    {
     "name": "stdout",
     "output_type": "stream",
     "text": [
      "162085\n"
     ]
    }
   ],
   "source": [
    "count=0\n",
    "def quick_sort_lec(lst):\n",
    "    global count\n",
    "    if len(lst)<2:\n",
    "        #return lst,count\n",
    "        return lst\n",
    "    else:\n",
    "        pivot=lst[0]\n",
    "        left,pivot,right=partition_pivot(lst,pivot)\n",
    "        count=count+len(lst)-1\n",
    "        #temp_left=quick_sort_lec(left,count)\n",
    "        #temp_right=quick_sort_lec(right,count)\n",
    "        return quick_sort_lec(left)+[pivot]+quick_sort_lec(right)\n",
    "        \n",
    "        \n",
    "    \n",
    "#quick_sort_lec(smp_lst)\n",
    "temp=quick_sort_lec(final_lst)\n",
    "print count\n",
    "    "
   ]
  },
  {
   "cell_type": "code",
   "execution_count": 31,
   "metadata": {
    "collapsed": false
   },
   "outputs": [
    {
     "name": "stdout",
     "output_type": "stream",
     "text": [
      "205460\n"
     ]
    }
   ],
   "source": [
    "def quick_sort_lec(lst,count=0):\n",
    "    if len(lst)<2:\n",
    "        return count\n",
    "    else:\n",
    "        pivot=lst[0]\n",
    "        left,pivot,right=partition_pivot(lst,pivot)\n",
    "        count=len(lst)-1\n",
    "        #temp_left=quick_sort_lec(left,count)\n",
    "        #temp_right=quick_sort_lec(right,count)\n",
    "        count_left=quick_sort_lec(left,count)\n",
    "        count_right=quick_sort_lec(right,count)\n",
    "        return count_left+count_right\n",
    "        \n",
    "        \n",
    "    \n",
    "#quick_sort_lec(smp_lst)\n",
    "temp=quick_sort_lec(final_lst,0)\n",
    "print temp"
   ]
  },
  {
   "cell_type": "code",
   "execution_count": 70,
   "metadata": {
    "collapsed": false
   },
   "outputs": [
    {
     "data": {
      "text/plain": [
       "-1"
      ]
     },
     "execution_count": 70,
     "metadata": {},
     "output_type": "execute_result"
    }
   ],
   "source": [
    "count=0\n",
    "def quick_sort_count(lst):\n",
    "    global count\n",
    "    if len(lst)<2:\n",
    "        return 0\n",
    "    else:\n",
    "        pivot=lst[0]\n",
    "        left=[elem for elem in lst if elem<pivot]\n",
    "        right=[elem for elem in lst if elem>pivot]\n",
    "        count=count+len(left)+len(right)-2\n",
    "        quick_sort_count(left)+quick_sort_count(right)\n",
    "        return count\n",
    "#quick_sort_count([3,8,2,5,1,4,7,6])\n",
    "quick_sort_count([3,2,1])"
   ]
  },
  {
   "cell_type": "code",
   "execution_count": 6,
   "metadata": {
    "collapsed": false
   },
   "outputs": [
    {
     "name": "stdout",
     "output_type": "stream",
     "text": [
      "162085\n",
      "[2, 3, 4, 5, 6, 7, 8, 9, 10]\n"
     ]
    }
   ],
   "source": [
    "#this is the final working code for the quick sort example\n",
    "\n",
    "#here i am counting the comparison for first element chosen as pivot\n",
    "f=open(\"QuickSort.txt\",'r')\n",
    "final_lst=f.read().splitlines()\n",
    "final_lst=[int(elem) for elem in final_lst]\n",
    "\n",
    "count=0\n",
    "def quick_sort_lec(lst):\n",
    "    global count\n",
    "    if len(lst)<2:\n",
    "        return lst\n",
    "    else:\n",
    "        pivot=lst[0]\n",
    "        left,pivot,right=partition_pivot(lst,pivot)\n",
    "        count=count+len(lst)-1\n",
    "        return quick_sort_lec(left)+[pivot]+quick_sort_lec(right)\n",
    "    \n",
    "#quick_sort_lec(smp_lst)\n",
    "temp=quick_sort_lec(final_lst)\n",
    "print count\n",
    "print temp[1:10]\n",
    "    "
   ]
  },
  {
   "cell_type": "code",
   "execution_count": 121,
   "metadata": {
    "collapsed": false
   },
   "outputs": [
    {
     "name": "stdout",
     "output_type": "stream",
     "text": [
      "164123\n"
     ]
    }
   ],
   "source": [
    "#here i am counting the comparison for last element chosen as pivot\n",
    "f=open(\"QuickSort.txt\",'r')\n",
    "final_lst=f.read().splitlines()\n",
    "final_lst=[int(elem) for elem in final_lst]\n",
    "\n",
    "count=0\n",
    "def quick_sort_lec(lst):\n",
    "    global count\n",
    "    if len(lst)<2:\n",
    "        return lst\n",
    "    else:\n",
    "        pivot=lst[len(lst)-1]\n",
    "        lst=swap(lst,0,len(lst)-1)\n",
    "        left,pivot,right=partition_pivot(lst,pivot)\n",
    "        count=count+len(lst)-1\n",
    "        return quick_sort_lec(left)+[pivot]+quick_sort_lec(right)\n",
    "    \n",
    "#quick_sort_lec(smp_lst)\n",
    "temp=quick_sort_lec(final_lst)\n",
    "print count\n",
    "    "
   ]
  },
  {
   "cell_type": "code",
   "execution_count": 134,
   "metadata": {
    "collapsed": false
   },
   "outputs": [
    {
     "name": "stdout",
     "output_type": "stream",
     "text": [
      "138382\n"
     ]
    }
   ],
   "source": [
    "#here i am counting the number of comparisions when the median of three is chosen as pivot\n",
    "\n",
    "f=open(\"QuickSort.txt\",'r')\n",
    "final_lst=f.read().splitlines()\n",
    "final_lst=[int(elem) for elem in final_lst]\n",
    "\n",
    "count=0\n",
    "def quick_sort_lec(lst):\n",
    "    global count\n",
    "    if len(lst)<2:\n",
    "        return lst\n",
    "    else:\n",
    "        index=choose_median(lst)\n",
    "        #print index\n",
    "        lst=swap(lst,0,index)\n",
    "        left,middle,right=partition_pivot(lst,2)\n",
    "        count=count+len(lst)-1\n",
    "        return quick_sort_lec(left)+[middle]+quick_sort_lec(right)\n",
    "    \n",
    "def choose_median(lst):\n",
    "    first=lst[0]\n",
    "    last=lst[len(lst)-1]\n",
    "    \n",
    "    if len(lst)%2==0:\n",
    "        middle=lst[(len(lst)//2)-1]\n",
    "        lst=[(first,0),(last,len(lst)-1),(middle,(len(lst)//2)-1)]\n",
    "    else:\n",
    "        middle=lst[len(lst)//2]\n",
    "        lst=[(first,0),(last,len(lst)-1),(middle,(len(lst)//2))]\n",
    "    lst.sort()\n",
    "    return lst[1][1]\n",
    "#quick_sort_lec(smp_lst)\n",
    "temp=quick_sort_lec(final_lst)\n",
    "print count"
   ]
  },
  {
   "cell_type": "code",
   "execution_count": 118,
   "metadata": {
    "collapsed": false
   },
   "outputs": [
    {
     "name": "stdout",
     "output_type": "stream",
     "text": [
      "[3, 2, 1, 4, 5]\n",
      "2\n",
      "[1, 2, 3, 4]\n",
      "0\n"
     ]
    }
   ],
   "source": [
    "lst1=[3,2,1,4,5]\n",
    "lst2=[1,2,3,4]\n",
    "\n",
    "print lst1\n",
    "print choose_median(lst1)\n",
    "print lst2\n",
    "print choose_median(lst2)\n"
   ]
  },
  {
   "cell_type": "code",
   "execution_count": 116,
   "metadata": {
    "collapsed": false
   },
   "outputs": [
    {
     "name": "stdout",
     "output_type": "stream",
     "text": [
      "[(1, 1000), (231, 2)]\n"
     ]
    }
   ],
   "source": [
    "temp=[(231,2),(1,1000)]\n",
    "temp.sort()\n",
    "print temp"
   ]
  },
  {
   "cell_type": "code",
   "execution_count": 133,
   "metadata": {
    "collapsed": false
   },
   "outputs": [
    {
     "data": {
      "text/plain": [
       "7"
      ]
     },
     "execution_count": 133,
     "metadata": {},
     "output_type": "execute_result"
    }
   ],
   "source": [
    "choose_median([3,8,2,5,1,4,7,0])"
   ]
  },
  {
   "cell_type": "code",
   "execution_count": null,
   "metadata": {
    "collapsed": true
   },
   "outputs": [],
   "source": []
  }
 ],
 "metadata": {
  "kernelspec": {
   "display_name": "Python 2",
   "language": "python",
   "name": "python2"
  },
  "language_info": {
   "codemirror_mode": {
    "name": "ipython",
    "version": 2
   },
   "file_extension": ".py",
   "mimetype": "text/x-python",
   "name": "python",
   "nbconvert_exporter": "python",
   "pygments_lexer": "ipython2",
   "version": "2.7.9"
  }
 },
 "nbformat": 4,
 "nbformat_minor": 0
}
