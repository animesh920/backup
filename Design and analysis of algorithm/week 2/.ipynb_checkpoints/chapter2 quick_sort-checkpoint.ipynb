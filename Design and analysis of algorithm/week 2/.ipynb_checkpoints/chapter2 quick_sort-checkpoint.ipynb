{
 "cells": [
  {
   "cell_type": "code",
   "execution_count": 2,
   "metadata": {
    "collapsed": false
   },
   "outputs": [
    {
     "name": "stdout",
     "output_type": "stream",
     "text": [
      "[1]\n",
      "2\n",
      "[5, 4, 3]\n"
     ]
    }
   ],
   "source": [
    "pivot=2\n",
    "lst=[5,4,3,2,1]\n",
    "left=[elem for elem in lst if elem<pivot]\n",
    "right=[elem for elem in lst if elem>pivot]\n",
    "\n",
    "print left \n",
    "print pivot\n",
    "print right"
   ]
  },
  {
   "cell_type": "code",
   "execution_count": 22,
   "metadata": {
    "collapsed": false
   },
   "outputs": [],
   "source": [
    "def quick_sort(lst):\n",
    "    if len(lst)<2:\n",
    "        return lst\n",
    "    else:\n",
    "        pivot=lst[0]\n",
    "        left=[elem for elem in lst if elem<pivot]\n",
    "        #print left\n",
    "        right=[elem for elem in lst if elem>pivot]\n",
    "        #print right\n",
    "        return quick_sort(left)+[pivot]+quick_sort(right)\n",
    "\n",
    "#quick_sort(range(1000))     "
   ]
  },
  {
   "cell_type": "code",
   "execution_count": 23,
   "metadata": {
    "collapsed": false
   },
   "outputs": [
    {
     "data": {
      "text/plain": [
       "[1, 2, 3, 4, 5]"
      ]
     },
     "execution_count": 23,
     "metadata": {},
     "output_type": "execute_result"
    }
   ],
   "source": [
    "quick_sort([5,4,3,2,1])"
   ]
  },
  {
   "cell_type": "code",
   "execution_count": null,
   "metadata": {
    "collapsed": true
   },
   "outputs": [],
   "source": [
    "def quick_sort_count(lst,count=0):\n",
    "    if len(lst)<2:\n",
    "        return count\n",
    "    else:\n",
    "        pivot=lst[0]\n",
    "        left=[elem for elem in lst if elem<pivot]\n",
    "        right=[elem for elem in lst if elem>pivot]\n",
    "        count+=len(left)+len(right)\n",
    "    \n",
    "        "
   ]
  },
  {
   "cell_type": "code",
   "execution_count": 26,
   "metadata": {
    "collapsed": false
   },
   "outputs": [
    {
     "name": "stdout",
     "output_type": "stream",
     "text": [
      "base case\n",
      "(3628800, 9)\n"
     ]
    }
   ],
   "source": [
    "#this code block is for testing how to return two values in a recursive function\n",
    "\n",
    "def factorial(n,count=0):\n",
    "    if n==1:\n",
    "        return count\n",
    "    else:\n",
    "        return factorial(n-1,count+1)\n",
    "#print factorial(10)\n",
    "\n",
    "#now in this case since i only wanted the count hence i was able to do it. by emiting the factorial value. now i have \n",
    "#to see how can i get both the factorial and the count\n",
    "\n",
    "\n",
    "def factorial_count(n,count=0):\n",
    "    if n==1:\n",
    "        print 'base case'\n",
    "        return (1,count)\n",
    "    else:\n",
    "        #print n-1,'in the else clause'\n",
    "        temp=factorial_count(n-1,count+1)\n",
    "        #print temp\n",
    "        return (n*temp[0],temp[1])\n",
    "print factorial_count(10)\n",
    "\n",
    "\n",
    "#so this is how i can get multiple return values from a recursive function, i have to store the frame returned by the\n",
    "#recursive function in a variable and then perform operations on it."
   ]
  },
  {
   "cell_type": "code",
   "execution_count": null,
   "metadata": {
    "collapsed": true
   },
   "outputs": [],
   "source": []
  }
 ],
 "metadata": {
  "kernelspec": {
   "display_name": "Python 2",
   "language": "python",
   "name": "python2"
  },
  "language_info": {
   "codemirror_mode": {
    "name": "ipython",
    "version": 2
   },
   "file_extension": ".py",
   "mimetype": "text/x-python",
   "name": "python",
   "nbconvert_exporter": "python",
   "pygments_lexer": "ipython2",
   "version": "2.7.9"
  }
 },
 "nbformat": 4,
 "nbformat_minor": 0
}
